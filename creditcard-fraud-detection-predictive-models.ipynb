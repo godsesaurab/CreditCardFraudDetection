{
 "cells": [
  {
   "cell_type": "markdown",
   "id": "96689b9b",
   "metadata": {
    "papermill": {
     "duration": 0.005427,
     "end_time": "2024-10-05T02:20:25.991191",
     "exception": false,
     "start_time": "2024-10-05T02:20:25.985764",
     "status": "completed"
    },
    "tags": []
   },
   "source": [
    "# Credit Card Fraud Detection Ensemble Models\n",
    "\n",
    "About the Data here : https://www.kaggle.com/datasets/mlg-ulb/creditcardfraud\n",
    "\n",
    "Little Context :\n",
    "It is important that credit card companies are able to recognize fraudulent credit card transactions so that customers are not charged for items that they did not purchase."
   ]
  },
  {
   "cell_type": "markdown",
   "id": "d9c416a1",
   "metadata": {
    "papermill": {
     "duration": 0.004564,
     "end_time": "2024-10-05T02:20:26.000721",
     "exception": false,
     "start_time": "2024-10-05T02:20:25.996157",
     "status": "completed"
    },
    "tags": []
   },
   "source": [
    "## Import Libraries and Define some constants"
   ]
  },
  {
   "cell_type": "code",
   "execution_count": 1,
   "id": "8496caeb",
   "metadata": {
    "execution": {
     "iopub.execute_input": "2024-10-05T02:20:26.012346Z",
     "iopub.status.busy": "2024-10-05T02:20:26.011886Z",
     "iopub.status.idle": "2024-10-05T02:20:32.388202Z",
     "shell.execute_reply": "2024-10-05T02:20:32.386989Z"
    },
    "papermill": {
     "duration": 6.385189,
     "end_time": "2024-10-05T02:20:32.390823",
     "exception": false,
     "start_time": "2024-10-05T02:20:26.005634",
     "status": "completed"
    },
    "tags": []
   },
   "outputs": [
    {
     "data": {
      "text/html": [
       "        <script type=\"text/javascript\">\n",
       "        window.PlotlyConfig = {MathJaxConfig: 'local'};\n",
       "        if (window.MathJax && window.MathJax.Hub && window.MathJax.Hub.Config) {window.MathJax.Hub.Config({SVG: {font: \"STIX-Web\"}});}\n",
       "        if (typeof require !== 'undefined') {\n",
       "        require.undef(\"plotly\");\n",
       "        requirejs.config({\n",
       "            paths: {\n",
       "                'plotly': ['https://cdn.plot.ly/plotly-2.32.0.min']\n",
       "            }\n",
       "        });\n",
       "        require(['plotly'], function(Plotly) {\n",
       "            window._Plotly = Plotly;\n",
       "        });\n",
       "        }\n",
       "        </script>\n",
       "        "
      ]
     },
     "metadata": {},
     "output_type": "display_data"
    },
    {
     "name": "stdout",
     "output_type": "stream",
     "text": [
      "['creditcard.csv']\n"
     ]
    }
   ],
   "source": [
    "import pandas as pd \n",
    "import numpy as np\n",
    "import matplotlib\n",
    "import matplotlib.pyplot as plt\n",
    "import seaborn as sns\n",
    "%matplotlib inline \n",
    "import plotly.graph_objs as go\n",
    "import plotly.figure_factory as ff\n",
    "from plotly import tools\n",
    "from plotly.offline import download_plotlyjs, init_notebook_mode, plot, iplot\n",
    "init_notebook_mode(connected=True)\n",
    "\n",
    "\n",
    "import gc\n",
    "from datetime import datetime \n",
    "from sklearn.model_selection import train_test_split\n",
    "from sklearn.model_selection import KFold\n",
    "from sklearn.metrics import roc_auc_score\n",
    "from sklearn.ensemble import RandomForestClassifier\n",
    "from sklearn.ensemble import AdaBoostClassifier\n",
    "from catboost import CatBoostClassifier\n",
    "from sklearn import svm\n",
    "import lightgbm as lgb\n",
    "from lightgbm import LGBMClassifier\n",
    "import xgboost as xgb\n",
    "\n",
    "pd.set_option('display.max_columns', 100)\n",
    "\n",
    "\n",
    "RFC_METRIC = 'gini'  #metric used for RandomForrestClassifier\n",
    "NUM_ESTIMATORS = 100 #number of estimators used for RandomForrestClassifier\n",
    "NO_JOBS = 4 #number of parallel jobs used for RandomForrestClassifier\n",
    "\n",
    "\n",
    "#TRAIN/VALIDATION/TEST SPLIT\n",
    "#VALIDATION\n",
    "VALID_SIZE = 0.20 # simple validation using train_test_split\n",
    "TEST_SIZE = 0.20 # test size using_train_test_split\n",
    "\n",
    "#CROSS-VALIDATION\n",
    "NUMBER_KFOLDS = 5 #number of KFolds for cross-validation\n",
    "\n",
    "\n",
    "\n",
    "RANDOM_STATE = 2018\n",
    "\n",
    "MAX_ROUNDS = 1000 #lgb iterations\n",
    "EARLY_STOP = 50 #lgb early stop \n",
    "OPT_ROUNDS = 1000  #To be adjusted based on best validation rounds\n",
    "VERBOSE_EVAL = 50 #Print out metric result\n",
    "\n",
    "IS_LOCAL = True\n",
    "\n",
    "import os\n",
    "\n",
    "if(IS_LOCAL):\n",
    "    PATH=\"/kaggle/input/creditcardfraud\"\n",
    "else:\n",
    "    PATH=\"../input\"\n",
    "print(os.listdir(PATH))"
   ]
  },
  {
   "cell_type": "markdown",
   "id": "f8fdb81e",
   "metadata": {
    "papermill": {
     "duration": 0.004879,
     "end_time": "2024-10-05T02:20:32.402226",
     "exception": false,
     "start_time": "2024-10-05T02:20:32.397347",
     "status": "completed"
    },
    "tags": []
   },
   "source": [
    "## Reading Data & Preliminary Checks"
   ]
  },
  {
   "cell_type": "code",
   "execution_count": 2,
   "id": "1bec6588",
   "metadata": {
    "execution": {
     "iopub.execute_input": "2024-10-05T02:20:32.414912Z",
     "iopub.status.busy": "2024-10-05T02:20:32.413538Z",
     "iopub.status.idle": "2024-10-05T02:20:36.524630Z",
     "shell.execute_reply": "2024-10-05T02:20:36.523632Z"
    },
    "papermill": {
     "duration": 4.119991,
     "end_time": "2024-10-05T02:20:36.527229",
     "exception": false,
     "start_time": "2024-10-05T02:20:32.407238",
     "status": "completed"
    },
    "tags": []
   },
   "outputs": [],
   "source": [
    "data_df = pd.read_csv(PATH+\"/creditcard.csv\")"
   ]
  },
  {
   "cell_type": "code",
   "execution_count": 3,
   "id": "4547a944",
   "metadata": {
    "execution": {
     "iopub.execute_input": "2024-10-05T02:20:36.539162Z",
     "iopub.status.busy": "2024-10-05T02:20:36.538764Z",
     "iopub.status.idle": "2024-10-05T02:20:36.578733Z",
     "shell.execute_reply": "2024-10-05T02:20:36.577624Z"
    },
    "papermill": {
     "duration": 0.048793,
     "end_time": "2024-10-05T02:20:36.581266",
     "exception": false,
     "start_time": "2024-10-05T02:20:36.532473",
     "status": "completed"
    },
    "tags": []
   },
   "outputs": [
    {
     "data": {
      "text/html": [
       "<div>\n",
       "<style scoped>\n",
       "    .dataframe tbody tr th:only-of-type {\n",
       "        vertical-align: middle;\n",
       "    }\n",
       "\n",
       "    .dataframe tbody tr th {\n",
       "        vertical-align: top;\n",
       "    }\n",
       "\n",
       "    .dataframe thead th {\n",
       "        text-align: right;\n",
       "    }\n",
       "</style>\n",
       "<table border=\"1\" class=\"dataframe\">\n",
       "  <thead>\n",
       "    <tr style=\"text-align: right;\">\n",
       "      <th></th>\n",
       "      <th>Time</th>\n",
       "      <th>V1</th>\n",
       "      <th>V2</th>\n",
       "      <th>V3</th>\n",
       "      <th>V4</th>\n",
       "      <th>V5</th>\n",
       "      <th>V6</th>\n",
       "      <th>V7</th>\n",
       "      <th>V8</th>\n",
       "      <th>V9</th>\n",
       "      <th>V10</th>\n",
       "      <th>V11</th>\n",
       "      <th>V12</th>\n",
       "      <th>V13</th>\n",
       "      <th>V14</th>\n",
       "      <th>V15</th>\n",
       "      <th>V16</th>\n",
       "      <th>V17</th>\n",
       "      <th>V18</th>\n",
       "      <th>V19</th>\n",
       "      <th>V20</th>\n",
       "      <th>V21</th>\n",
       "      <th>V22</th>\n",
       "      <th>V23</th>\n",
       "      <th>V24</th>\n",
       "      <th>V25</th>\n",
       "      <th>V26</th>\n",
       "      <th>V27</th>\n",
       "      <th>V28</th>\n",
       "      <th>Amount</th>\n",
       "      <th>Class</th>\n",
       "    </tr>\n",
       "  </thead>\n",
       "  <tbody>\n",
       "    <tr>\n",
       "      <th>0</th>\n",
       "      <td>0.0</td>\n",
       "      <td>-1.359807</td>\n",
       "      <td>-0.072781</td>\n",
       "      <td>2.536347</td>\n",
       "      <td>1.378155</td>\n",
       "      <td>-0.338321</td>\n",
       "      <td>0.462388</td>\n",
       "      <td>0.239599</td>\n",
       "      <td>0.098698</td>\n",
       "      <td>0.363787</td>\n",
       "      <td>0.090794</td>\n",
       "      <td>-0.551600</td>\n",
       "      <td>-0.617801</td>\n",
       "      <td>-0.991390</td>\n",
       "      <td>-0.311169</td>\n",
       "      <td>1.468177</td>\n",
       "      <td>-0.470401</td>\n",
       "      <td>0.207971</td>\n",
       "      <td>0.025791</td>\n",
       "      <td>0.403993</td>\n",
       "      <td>0.251412</td>\n",
       "      <td>-0.018307</td>\n",
       "      <td>0.277838</td>\n",
       "      <td>-0.110474</td>\n",
       "      <td>0.066928</td>\n",
       "      <td>0.128539</td>\n",
       "      <td>-0.189115</td>\n",
       "      <td>0.133558</td>\n",
       "      <td>-0.021053</td>\n",
       "      <td>149.62</td>\n",
       "      <td>0</td>\n",
       "    </tr>\n",
       "    <tr>\n",
       "      <th>1</th>\n",
       "      <td>0.0</td>\n",
       "      <td>1.191857</td>\n",
       "      <td>0.266151</td>\n",
       "      <td>0.166480</td>\n",
       "      <td>0.448154</td>\n",
       "      <td>0.060018</td>\n",
       "      <td>-0.082361</td>\n",
       "      <td>-0.078803</td>\n",
       "      <td>0.085102</td>\n",
       "      <td>-0.255425</td>\n",
       "      <td>-0.166974</td>\n",
       "      <td>1.612727</td>\n",
       "      <td>1.065235</td>\n",
       "      <td>0.489095</td>\n",
       "      <td>-0.143772</td>\n",
       "      <td>0.635558</td>\n",
       "      <td>0.463917</td>\n",
       "      <td>-0.114805</td>\n",
       "      <td>-0.183361</td>\n",
       "      <td>-0.145783</td>\n",
       "      <td>-0.069083</td>\n",
       "      <td>-0.225775</td>\n",
       "      <td>-0.638672</td>\n",
       "      <td>0.101288</td>\n",
       "      <td>-0.339846</td>\n",
       "      <td>0.167170</td>\n",
       "      <td>0.125895</td>\n",
       "      <td>-0.008983</td>\n",
       "      <td>0.014724</td>\n",
       "      <td>2.69</td>\n",
       "      <td>0</td>\n",
       "    </tr>\n",
       "    <tr>\n",
       "      <th>2</th>\n",
       "      <td>1.0</td>\n",
       "      <td>-1.358354</td>\n",
       "      <td>-1.340163</td>\n",
       "      <td>1.773209</td>\n",
       "      <td>0.379780</td>\n",
       "      <td>-0.503198</td>\n",
       "      <td>1.800499</td>\n",
       "      <td>0.791461</td>\n",
       "      <td>0.247676</td>\n",
       "      <td>-1.514654</td>\n",
       "      <td>0.207643</td>\n",
       "      <td>0.624501</td>\n",
       "      <td>0.066084</td>\n",
       "      <td>0.717293</td>\n",
       "      <td>-0.165946</td>\n",
       "      <td>2.345865</td>\n",
       "      <td>-2.890083</td>\n",
       "      <td>1.109969</td>\n",
       "      <td>-0.121359</td>\n",
       "      <td>-2.261857</td>\n",
       "      <td>0.524980</td>\n",
       "      <td>0.247998</td>\n",
       "      <td>0.771679</td>\n",
       "      <td>0.909412</td>\n",
       "      <td>-0.689281</td>\n",
       "      <td>-0.327642</td>\n",
       "      <td>-0.139097</td>\n",
       "      <td>-0.055353</td>\n",
       "      <td>-0.059752</td>\n",
       "      <td>378.66</td>\n",
       "      <td>0</td>\n",
       "    </tr>\n",
       "    <tr>\n",
       "      <th>3</th>\n",
       "      <td>1.0</td>\n",
       "      <td>-0.966272</td>\n",
       "      <td>-0.185226</td>\n",
       "      <td>1.792993</td>\n",
       "      <td>-0.863291</td>\n",
       "      <td>-0.010309</td>\n",
       "      <td>1.247203</td>\n",
       "      <td>0.237609</td>\n",
       "      <td>0.377436</td>\n",
       "      <td>-1.387024</td>\n",
       "      <td>-0.054952</td>\n",
       "      <td>-0.226487</td>\n",
       "      <td>0.178228</td>\n",
       "      <td>0.507757</td>\n",
       "      <td>-0.287924</td>\n",
       "      <td>-0.631418</td>\n",
       "      <td>-1.059647</td>\n",
       "      <td>-0.684093</td>\n",
       "      <td>1.965775</td>\n",
       "      <td>-1.232622</td>\n",
       "      <td>-0.208038</td>\n",
       "      <td>-0.108300</td>\n",
       "      <td>0.005274</td>\n",
       "      <td>-0.190321</td>\n",
       "      <td>-1.175575</td>\n",
       "      <td>0.647376</td>\n",
       "      <td>-0.221929</td>\n",
       "      <td>0.062723</td>\n",
       "      <td>0.061458</td>\n",
       "      <td>123.50</td>\n",
       "      <td>0</td>\n",
       "    </tr>\n",
       "    <tr>\n",
       "      <th>4</th>\n",
       "      <td>2.0</td>\n",
       "      <td>-1.158233</td>\n",
       "      <td>0.877737</td>\n",
       "      <td>1.548718</td>\n",
       "      <td>0.403034</td>\n",
       "      <td>-0.407193</td>\n",
       "      <td>0.095921</td>\n",
       "      <td>0.592941</td>\n",
       "      <td>-0.270533</td>\n",
       "      <td>0.817739</td>\n",
       "      <td>0.753074</td>\n",
       "      <td>-0.822843</td>\n",
       "      <td>0.538196</td>\n",
       "      <td>1.345852</td>\n",
       "      <td>-1.119670</td>\n",
       "      <td>0.175121</td>\n",
       "      <td>-0.451449</td>\n",
       "      <td>-0.237033</td>\n",
       "      <td>-0.038195</td>\n",
       "      <td>0.803487</td>\n",
       "      <td>0.408542</td>\n",
       "      <td>-0.009431</td>\n",
       "      <td>0.798278</td>\n",
       "      <td>-0.137458</td>\n",
       "      <td>0.141267</td>\n",
       "      <td>-0.206010</td>\n",
       "      <td>0.502292</td>\n",
       "      <td>0.219422</td>\n",
       "      <td>0.215153</td>\n",
       "      <td>69.99</td>\n",
       "      <td>0</td>\n",
       "    </tr>\n",
       "  </tbody>\n",
       "</table>\n",
       "</div>"
      ],
      "text/plain": [
       "   Time        V1        V2        V3        V4        V5        V6        V7  \\\n",
       "0   0.0 -1.359807 -0.072781  2.536347  1.378155 -0.338321  0.462388  0.239599   \n",
       "1   0.0  1.191857  0.266151  0.166480  0.448154  0.060018 -0.082361 -0.078803   \n",
       "2   1.0 -1.358354 -1.340163  1.773209  0.379780 -0.503198  1.800499  0.791461   \n",
       "3   1.0 -0.966272 -0.185226  1.792993 -0.863291 -0.010309  1.247203  0.237609   \n",
       "4   2.0 -1.158233  0.877737  1.548718  0.403034 -0.407193  0.095921  0.592941   \n",
       "\n",
       "         V8        V9       V10       V11       V12       V13       V14  \\\n",
       "0  0.098698  0.363787  0.090794 -0.551600 -0.617801 -0.991390 -0.311169   \n",
       "1  0.085102 -0.255425 -0.166974  1.612727  1.065235  0.489095 -0.143772   \n",
       "2  0.247676 -1.514654  0.207643  0.624501  0.066084  0.717293 -0.165946   \n",
       "3  0.377436 -1.387024 -0.054952 -0.226487  0.178228  0.507757 -0.287924   \n",
       "4 -0.270533  0.817739  0.753074 -0.822843  0.538196  1.345852 -1.119670   \n",
       "\n",
       "        V15       V16       V17       V18       V19       V20       V21  \\\n",
       "0  1.468177 -0.470401  0.207971  0.025791  0.403993  0.251412 -0.018307   \n",
       "1  0.635558  0.463917 -0.114805 -0.183361 -0.145783 -0.069083 -0.225775   \n",
       "2  2.345865 -2.890083  1.109969 -0.121359 -2.261857  0.524980  0.247998   \n",
       "3 -0.631418 -1.059647 -0.684093  1.965775 -1.232622 -0.208038 -0.108300   \n",
       "4  0.175121 -0.451449 -0.237033 -0.038195  0.803487  0.408542 -0.009431   \n",
       "\n",
       "        V22       V23       V24       V25       V26       V27       V28  \\\n",
       "0  0.277838 -0.110474  0.066928  0.128539 -0.189115  0.133558 -0.021053   \n",
       "1 -0.638672  0.101288 -0.339846  0.167170  0.125895 -0.008983  0.014724   \n",
       "2  0.771679  0.909412 -0.689281 -0.327642 -0.139097 -0.055353 -0.059752   \n",
       "3  0.005274 -0.190321 -1.175575  0.647376 -0.221929  0.062723  0.061458   \n",
       "4  0.798278 -0.137458  0.141267 -0.206010  0.502292  0.219422  0.215153   \n",
       "\n",
       "   Amount  Class  \n",
       "0  149.62      0  \n",
       "1    2.69      0  \n",
       "2  378.66      0  \n",
       "3  123.50      0  \n",
       "4   69.99      0  "
      ]
     },
     "execution_count": 3,
     "metadata": {},
     "output_type": "execute_result"
    }
   ],
   "source": [
    "data_df.head()"
   ]
  },
  {
   "cell_type": "code",
   "execution_count": 4,
   "id": "e8a11b21",
   "metadata": {
    "execution": {
     "iopub.execute_input": "2024-10-05T02:20:36.594905Z",
     "iopub.status.busy": "2024-10-05T02:20:36.594469Z",
     "iopub.status.idle": "2024-10-05T02:20:37.063211Z",
     "shell.execute_reply": "2024-10-05T02:20:37.062030Z"
    },
    "papermill": {
     "duration": 0.478944,
     "end_time": "2024-10-05T02:20:37.065751",
     "exception": false,
     "start_time": "2024-10-05T02:20:36.586807",
     "status": "completed"
    },
    "tags": []
   },
   "outputs": [
    {
     "data": {
      "text/html": [
       "<div>\n",
       "<style scoped>\n",
       "    .dataframe tbody tr th:only-of-type {\n",
       "        vertical-align: middle;\n",
       "    }\n",
       "\n",
       "    .dataframe tbody tr th {\n",
       "        vertical-align: top;\n",
       "    }\n",
       "\n",
       "    .dataframe thead th {\n",
       "        text-align: right;\n",
       "    }\n",
       "</style>\n",
       "<table border=\"1\" class=\"dataframe\">\n",
       "  <thead>\n",
       "    <tr style=\"text-align: right;\">\n",
       "      <th></th>\n",
       "      <th>Time</th>\n",
       "      <th>V1</th>\n",
       "      <th>V2</th>\n",
       "      <th>V3</th>\n",
       "      <th>V4</th>\n",
       "      <th>V5</th>\n",
       "      <th>V6</th>\n",
       "      <th>V7</th>\n",
       "      <th>V8</th>\n",
       "      <th>V9</th>\n",
       "      <th>V10</th>\n",
       "      <th>V11</th>\n",
       "      <th>V12</th>\n",
       "      <th>V13</th>\n",
       "      <th>V14</th>\n",
       "      <th>V15</th>\n",
       "      <th>V16</th>\n",
       "      <th>V17</th>\n",
       "      <th>V18</th>\n",
       "      <th>V19</th>\n",
       "      <th>V20</th>\n",
       "      <th>V21</th>\n",
       "      <th>V22</th>\n",
       "      <th>V23</th>\n",
       "      <th>V24</th>\n",
       "      <th>V25</th>\n",
       "      <th>V26</th>\n",
       "      <th>V27</th>\n",
       "      <th>V28</th>\n",
       "      <th>Amount</th>\n",
       "      <th>Class</th>\n",
       "    </tr>\n",
       "  </thead>\n",
       "  <tbody>\n",
       "    <tr>\n",
       "      <th>count</th>\n",
       "      <td>284807.000000</td>\n",
       "      <td>2.848070e+05</td>\n",
       "      <td>2.848070e+05</td>\n",
       "      <td>2.848070e+05</td>\n",
       "      <td>2.848070e+05</td>\n",
       "      <td>2.848070e+05</td>\n",
       "      <td>2.848070e+05</td>\n",
       "      <td>2.848070e+05</td>\n",
       "      <td>2.848070e+05</td>\n",
       "      <td>2.848070e+05</td>\n",
       "      <td>2.848070e+05</td>\n",
       "      <td>2.848070e+05</td>\n",
       "      <td>2.848070e+05</td>\n",
       "      <td>2.848070e+05</td>\n",
       "      <td>2.848070e+05</td>\n",
       "      <td>2.848070e+05</td>\n",
       "      <td>2.848070e+05</td>\n",
       "      <td>2.848070e+05</td>\n",
       "      <td>2.848070e+05</td>\n",
       "      <td>2.848070e+05</td>\n",
       "      <td>2.848070e+05</td>\n",
       "      <td>2.848070e+05</td>\n",
       "      <td>2.848070e+05</td>\n",
       "      <td>2.848070e+05</td>\n",
       "      <td>2.848070e+05</td>\n",
       "      <td>2.848070e+05</td>\n",
       "      <td>2.848070e+05</td>\n",
       "      <td>2.848070e+05</td>\n",
       "      <td>2.848070e+05</td>\n",
       "      <td>284807.000000</td>\n",
       "      <td>284807.000000</td>\n",
       "    </tr>\n",
       "    <tr>\n",
       "      <th>mean</th>\n",
       "      <td>94813.859575</td>\n",
       "      <td>1.168375e-15</td>\n",
       "      <td>3.416908e-16</td>\n",
       "      <td>-1.379537e-15</td>\n",
       "      <td>2.074095e-15</td>\n",
       "      <td>9.604066e-16</td>\n",
       "      <td>1.487313e-15</td>\n",
       "      <td>-5.556467e-16</td>\n",
       "      <td>1.213481e-16</td>\n",
       "      <td>-2.406331e-15</td>\n",
       "      <td>2.239053e-15</td>\n",
       "      <td>1.673327e-15</td>\n",
       "      <td>-1.247012e-15</td>\n",
       "      <td>8.190001e-16</td>\n",
       "      <td>1.207294e-15</td>\n",
       "      <td>4.887456e-15</td>\n",
       "      <td>1.437716e-15</td>\n",
       "      <td>-3.772171e-16</td>\n",
       "      <td>9.564149e-16</td>\n",
       "      <td>1.039917e-15</td>\n",
       "      <td>6.406204e-16</td>\n",
       "      <td>1.654067e-16</td>\n",
       "      <td>-3.568593e-16</td>\n",
       "      <td>2.578648e-16</td>\n",
       "      <td>4.473266e-15</td>\n",
       "      <td>5.340915e-16</td>\n",
       "      <td>1.683437e-15</td>\n",
       "      <td>-3.660091e-16</td>\n",
       "      <td>-1.227390e-16</td>\n",
       "      <td>88.349619</td>\n",
       "      <td>0.001727</td>\n",
       "    </tr>\n",
       "    <tr>\n",
       "      <th>std</th>\n",
       "      <td>47488.145955</td>\n",
       "      <td>1.958696e+00</td>\n",
       "      <td>1.651309e+00</td>\n",
       "      <td>1.516255e+00</td>\n",
       "      <td>1.415869e+00</td>\n",
       "      <td>1.380247e+00</td>\n",
       "      <td>1.332271e+00</td>\n",
       "      <td>1.237094e+00</td>\n",
       "      <td>1.194353e+00</td>\n",
       "      <td>1.098632e+00</td>\n",
       "      <td>1.088850e+00</td>\n",
       "      <td>1.020713e+00</td>\n",
       "      <td>9.992014e-01</td>\n",
       "      <td>9.952742e-01</td>\n",
       "      <td>9.585956e-01</td>\n",
       "      <td>9.153160e-01</td>\n",
       "      <td>8.762529e-01</td>\n",
       "      <td>8.493371e-01</td>\n",
       "      <td>8.381762e-01</td>\n",
       "      <td>8.140405e-01</td>\n",
       "      <td>7.709250e-01</td>\n",
       "      <td>7.345240e-01</td>\n",
       "      <td>7.257016e-01</td>\n",
       "      <td>6.244603e-01</td>\n",
       "      <td>6.056471e-01</td>\n",
       "      <td>5.212781e-01</td>\n",
       "      <td>4.822270e-01</td>\n",
       "      <td>4.036325e-01</td>\n",
       "      <td>3.300833e-01</td>\n",
       "      <td>250.120109</td>\n",
       "      <td>0.041527</td>\n",
       "    </tr>\n",
       "    <tr>\n",
       "      <th>min</th>\n",
       "      <td>0.000000</td>\n",
       "      <td>-5.640751e+01</td>\n",
       "      <td>-7.271573e+01</td>\n",
       "      <td>-4.832559e+01</td>\n",
       "      <td>-5.683171e+00</td>\n",
       "      <td>-1.137433e+02</td>\n",
       "      <td>-2.616051e+01</td>\n",
       "      <td>-4.355724e+01</td>\n",
       "      <td>-7.321672e+01</td>\n",
       "      <td>-1.343407e+01</td>\n",
       "      <td>-2.458826e+01</td>\n",
       "      <td>-4.797473e+00</td>\n",
       "      <td>-1.868371e+01</td>\n",
       "      <td>-5.791881e+00</td>\n",
       "      <td>-1.921433e+01</td>\n",
       "      <td>-4.498945e+00</td>\n",
       "      <td>-1.412985e+01</td>\n",
       "      <td>-2.516280e+01</td>\n",
       "      <td>-9.498746e+00</td>\n",
       "      <td>-7.213527e+00</td>\n",
       "      <td>-5.449772e+01</td>\n",
       "      <td>-3.483038e+01</td>\n",
       "      <td>-1.093314e+01</td>\n",
       "      <td>-4.480774e+01</td>\n",
       "      <td>-2.836627e+00</td>\n",
       "      <td>-1.029540e+01</td>\n",
       "      <td>-2.604551e+00</td>\n",
       "      <td>-2.256568e+01</td>\n",
       "      <td>-1.543008e+01</td>\n",
       "      <td>0.000000</td>\n",
       "      <td>0.000000</td>\n",
       "    </tr>\n",
       "    <tr>\n",
       "      <th>25%</th>\n",
       "      <td>54201.500000</td>\n",
       "      <td>-9.203734e-01</td>\n",
       "      <td>-5.985499e-01</td>\n",
       "      <td>-8.903648e-01</td>\n",
       "      <td>-8.486401e-01</td>\n",
       "      <td>-6.915971e-01</td>\n",
       "      <td>-7.682956e-01</td>\n",
       "      <td>-5.540759e-01</td>\n",
       "      <td>-2.086297e-01</td>\n",
       "      <td>-6.430976e-01</td>\n",
       "      <td>-5.354257e-01</td>\n",
       "      <td>-7.624942e-01</td>\n",
       "      <td>-4.055715e-01</td>\n",
       "      <td>-6.485393e-01</td>\n",
       "      <td>-4.255740e-01</td>\n",
       "      <td>-5.828843e-01</td>\n",
       "      <td>-4.680368e-01</td>\n",
       "      <td>-4.837483e-01</td>\n",
       "      <td>-4.988498e-01</td>\n",
       "      <td>-4.562989e-01</td>\n",
       "      <td>-2.117214e-01</td>\n",
       "      <td>-2.283949e-01</td>\n",
       "      <td>-5.423504e-01</td>\n",
       "      <td>-1.618463e-01</td>\n",
       "      <td>-3.545861e-01</td>\n",
       "      <td>-3.171451e-01</td>\n",
       "      <td>-3.269839e-01</td>\n",
       "      <td>-7.083953e-02</td>\n",
       "      <td>-5.295979e-02</td>\n",
       "      <td>5.600000</td>\n",
       "      <td>0.000000</td>\n",
       "    </tr>\n",
       "    <tr>\n",
       "      <th>50%</th>\n",
       "      <td>84692.000000</td>\n",
       "      <td>1.810880e-02</td>\n",
       "      <td>6.548556e-02</td>\n",
       "      <td>1.798463e-01</td>\n",
       "      <td>-1.984653e-02</td>\n",
       "      <td>-5.433583e-02</td>\n",
       "      <td>-2.741871e-01</td>\n",
       "      <td>4.010308e-02</td>\n",
       "      <td>2.235804e-02</td>\n",
       "      <td>-5.142873e-02</td>\n",
       "      <td>-9.291738e-02</td>\n",
       "      <td>-3.275735e-02</td>\n",
       "      <td>1.400326e-01</td>\n",
       "      <td>-1.356806e-02</td>\n",
       "      <td>5.060132e-02</td>\n",
       "      <td>4.807155e-02</td>\n",
       "      <td>6.641332e-02</td>\n",
       "      <td>-6.567575e-02</td>\n",
       "      <td>-3.636312e-03</td>\n",
       "      <td>3.734823e-03</td>\n",
       "      <td>-6.248109e-02</td>\n",
       "      <td>-2.945017e-02</td>\n",
       "      <td>6.781943e-03</td>\n",
       "      <td>-1.119293e-02</td>\n",
       "      <td>4.097606e-02</td>\n",
       "      <td>1.659350e-02</td>\n",
       "      <td>-5.213911e-02</td>\n",
       "      <td>1.342146e-03</td>\n",
       "      <td>1.124383e-02</td>\n",
       "      <td>22.000000</td>\n",
       "      <td>0.000000</td>\n",
       "    </tr>\n",
       "    <tr>\n",
       "      <th>75%</th>\n",
       "      <td>139320.500000</td>\n",
       "      <td>1.315642e+00</td>\n",
       "      <td>8.037239e-01</td>\n",
       "      <td>1.027196e+00</td>\n",
       "      <td>7.433413e-01</td>\n",
       "      <td>6.119264e-01</td>\n",
       "      <td>3.985649e-01</td>\n",
       "      <td>5.704361e-01</td>\n",
       "      <td>3.273459e-01</td>\n",
       "      <td>5.971390e-01</td>\n",
       "      <td>4.539234e-01</td>\n",
       "      <td>7.395934e-01</td>\n",
       "      <td>6.182380e-01</td>\n",
       "      <td>6.625050e-01</td>\n",
       "      <td>4.931498e-01</td>\n",
       "      <td>6.488208e-01</td>\n",
       "      <td>5.232963e-01</td>\n",
       "      <td>3.996750e-01</td>\n",
       "      <td>5.008067e-01</td>\n",
       "      <td>4.589494e-01</td>\n",
       "      <td>1.330408e-01</td>\n",
       "      <td>1.863772e-01</td>\n",
       "      <td>5.285536e-01</td>\n",
       "      <td>1.476421e-01</td>\n",
       "      <td>4.395266e-01</td>\n",
       "      <td>3.507156e-01</td>\n",
       "      <td>2.409522e-01</td>\n",
       "      <td>9.104512e-02</td>\n",
       "      <td>7.827995e-02</td>\n",
       "      <td>77.165000</td>\n",
       "      <td>0.000000</td>\n",
       "    </tr>\n",
       "    <tr>\n",
       "      <th>max</th>\n",
       "      <td>172792.000000</td>\n",
       "      <td>2.454930e+00</td>\n",
       "      <td>2.205773e+01</td>\n",
       "      <td>9.382558e+00</td>\n",
       "      <td>1.687534e+01</td>\n",
       "      <td>3.480167e+01</td>\n",
       "      <td>7.330163e+01</td>\n",
       "      <td>1.205895e+02</td>\n",
       "      <td>2.000721e+01</td>\n",
       "      <td>1.559499e+01</td>\n",
       "      <td>2.374514e+01</td>\n",
       "      <td>1.201891e+01</td>\n",
       "      <td>7.848392e+00</td>\n",
       "      <td>7.126883e+00</td>\n",
       "      <td>1.052677e+01</td>\n",
       "      <td>8.877742e+00</td>\n",
       "      <td>1.731511e+01</td>\n",
       "      <td>9.253526e+00</td>\n",
       "      <td>5.041069e+00</td>\n",
       "      <td>5.591971e+00</td>\n",
       "      <td>3.942090e+01</td>\n",
       "      <td>2.720284e+01</td>\n",
       "      <td>1.050309e+01</td>\n",
       "      <td>2.252841e+01</td>\n",
       "      <td>4.584549e+00</td>\n",
       "      <td>7.519589e+00</td>\n",
       "      <td>3.517346e+00</td>\n",
       "      <td>3.161220e+01</td>\n",
       "      <td>3.384781e+01</td>\n",
       "      <td>25691.160000</td>\n",
       "      <td>1.000000</td>\n",
       "    </tr>\n",
       "  </tbody>\n",
       "</table>\n",
       "</div>"
      ],
      "text/plain": [
       "                Time            V1            V2            V3            V4  \\\n",
       "count  284807.000000  2.848070e+05  2.848070e+05  2.848070e+05  2.848070e+05   \n",
       "mean    94813.859575  1.168375e-15  3.416908e-16 -1.379537e-15  2.074095e-15   \n",
       "std     47488.145955  1.958696e+00  1.651309e+00  1.516255e+00  1.415869e+00   \n",
       "min         0.000000 -5.640751e+01 -7.271573e+01 -4.832559e+01 -5.683171e+00   \n",
       "25%     54201.500000 -9.203734e-01 -5.985499e-01 -8.903648e-01 -8.486401e-01   \n",
       "50%     84692.000000  1.810880e-02  6.548556e-02  1.798463e-01 -1.984653e-02   \n",
       "75%    139320.500000  1.315642e+00  8.037239e-01  1.027196e+00  7.433413e-01   \n",
       "max    172792.000000  2.454930e+00  2.205773e+01  9.382558e+00  1.687534e+01   \n",
       "\n",
       "                 V5            V6            V7            V8            V9  \\\n",
       "count  2.848070e+05  2.848070e+05  2.848070e+05  2.848070e+05  2.848070e+05   \n",
       "mean   9.604066e-16  1.487313e-15 -5.556467e-16  1.213481e-16 -2.406331e-15   \n",
       "std    1.380247e+00  1.332271e+00  1.237094e+00  1.194353e+00  1.098632e+00   \n",
       "min   -1.137433e+02 -2.616051e+01 -4.355724e+01 -7.321672e+01 -1.343407e+01   \n",
       "25%   -6.915971e-01 -7.682956e-01 -5.540759e-01 -2.086297e-01 -6.430976e-01   \n",
       "50%   -5.433583e-02 -2.741871e-01  4.010308e-02  2.235804e-02 -5.142873e-02   \n",
       "75%    6.119264e-01  3.985649e-01  5.704361e-01  3.273459e-01  5.971390e-01   \n",
       "max    3.480167e+01  7.330163e+01  1.205895e+02  2.000721e+01  1.559499e+01   \n",
       "\n",
       "                V10           V11           V12           V13           V14  \\\n",
       "count  2.848070e+05  2.848070e+05  2.848070e+05  2.848070e+05  2.848070e+05   \n",
       "mean   2.239053e-15  1.673327e-15 -1.247012e-15  8.190001e-16  1.207294e-15   \n",
       "std    1.088850e+00  1.020713e+00  9.992014e-01  9.952742e-01  9.585956e-01   \n",
       "min   -2.458826e+01 -4.797473e+00 -1.868371e+01 -5.791881e+00 -1.921433e+01   \n",
       "25%   -5.354257e-01 -7.624942e-01 -4.055715e-01 -6.485393e-01 -4.255740e-01   \n",
       "50%   -9.291738e-02 -3.275735e-02  1.400326e-01 -1.356806e-02  5.060132e-02   \n",
       "75%    4.539234e-01  7.395934e-01  6.182380e-01  6.625050e-01  4.931498e-01   \n",
       "max    2.374514e+01  1.201891e+01  7.848392e+00  7.126883e+00  1.052677e+01   \n",
       "\n",
       "                V15           V16           V17           V18           V19  \\\n",
       "count  2.848070e+05  2.848070e+05  2.848070e+05  2.848070e+05  2.848070e+05   \n",
       "mean   4.887456e-15  1.437716e-15 -3.772171e-16  9.564149e-16  1.039917e-15   \n",
       "std    9.153160e-01  8.762529e-01  8.493371e-01  8.381762e-01  8.140405e-01   \n",
       "min   -4.498945e+00 -1.412985e+01 -2.516280e+01 -9.498746e+00 -7.213527e+00   \n",
       "25%   -5.828843e-01 -4.680368e-01 -4.837483e-01 -4.988498e-01 -4.562989e-01   \n",
       "50%    4.807155e-02  6.641332e-02 -6.567575e-02 -3.636312e-03  3.734823e-03   \n",
       "75%    6.488208e-01  5.232963e-01  3.996750e-01  5.008067e-01  4.589494e-01   \n",
       "max    8.877742e+00  1.731511e+01  9.253526e+00  5.041069e+00  5.591971e+00   \n",
       "\n",
       "                V20           V21           V22           V23           V24  \\\n",
       "count  2.848070e+05  2.848070e+05  2.848070e+05  2.848070e+05  2.848070e+05   \n",
       "mean   6.406204e-16  1.654067e-16 -3.568593e-16  2.578648e-16  4.473266e-15   \n",
       "std    7.709250e-01  7.345240e-01  7.257016e-01  6.244603e-01  6.056471e-01   \n",
       "min   -5.449772e+01 -3.483038e+01 -1.093314e+01 -4.480774e+01 -2.836627e+00   \n",
       "25%   -2.117214e-01 -2.283949e-01 -5.423504e-01 -1.618463e-01 -3.545861e-01   \n",
       "50%   -6.248109e-02 -2.945017e-02  6.781943e-03 -1.119293e-02  4.097606e-02   \n",
       "75%    1.330408e-01  1.863772e-01  5.285536e-01  1.476421e-01  4.395266e-01   \n",
       "max    3.942090e+01  2.720284e+01  1.050309e+01  2.252841e+01  4.584549e+00   \n",
       "\n",
       "                V25           V26           V27           V28         Amount  \\\n",
       "count  2.848070e+05  2.848070e+05  2.848070e+05  2.848070e+05  284807.000000   \n",
       "mean   5.340915e-16  1.683437e-15 -3.660091e-16 -1.227390e-16      88.349619   \n",
       "std    5.212781e-01  4.822270e-01  4.036325e-01  3.300833e-01     250.120109   \n",
       "min   -1.029540e+01 -2.604551e+00 -2.256568e+01 -1.543008e+01       0.000000   \n",
       "25%   -3.171451e-01 -3.269839e-01 -7.083953e-02 -5.295979e-02       5.600000   \n",
       "50%    1.659350e-02 -5.213911e-02  1.342146e-03  1.124383e-02      22.000000   \n",
       "75%    3.507156e-01  2.409522e-01  9.104512e-02  7.827995e-02      77.165000   \n",
       "max    7.519589e+00  3.517346e+00  3.161220e+01  3.384781e+01   25691.160000   \n",
       "\n",
       "               Class  \n",
       "count  284807.000000  \n",
       "mean        0.001727  \n",
       "std         0.041527  \n",
       "min         0.000000  \n",
       "25%         0.000000  \n",
       "50%         0.000000  \n",
       "75%         0.000000  \n",
       "max         1.000000  "
      ]
     },
     "execution_count": 4,
     "metadata": {},
     "output_type": "execute_result"
    }
   ],
   "source": [
    "data_df.describe()"
   ]
  },
  {
   "cell_type": "code",
   "execution_count": 5,
   "id": "45e98630",
   "metadata": {
    "execution": {
     "iopub.execute_input": "2024-10-05T02:20:37.079365Z",
     "iopub.status.busy": "2024-10-05T02:20:37.078976Z",
     "iopub.status.idle": "2024-10-05T02:20:37.084888Z",
     "shell.execute_reply": "2024-10-05T02:20:37.083742Z"
    },
    "papermill": {
     "duration": 0.015566,
     "end_time": "2024-10-05T02:20:37.087365",
     "exception": false,
     "start_time": "2024-10-05T02:20:37.071799",
     "status": "completed"
    },
    "tags": []
   },
   "outputs": [
    {
     "name": "stdout",
     "output_type": "stream",
     "text": [
      "Credit Card Fraud Detection data -  rows: 284807  columns: 31\n"
     ]
    }
   ],
   "source": [
    "print(\"Credit Card Fraud Detection data -  rows:\",data_df.shape[0],\" columns:\", data_df.shape[1])"
   ]
  },
  {
   "cell_type": "code",
   "execution_count": 6,
   "id": "6f714e64",
   "metadata": {
    "execution": {
     "iopub.execute_input": "2024-10-05T02:20:37.101076Z",
     "iopub.status.busy": "2024-10-05T02:20:37.100624Z",
     "iopub.status.idle": "2024-10-05T02:20:37.177748Z",
     "shell.execute_reply": "2024-10-05T02:20:37.176643Z"
    },
    "papermill": {
     "duration": 0.086809,
     "end_time": "2024-10-05T02:20:37.180103",
     "exception": false,
     "start_time": "2024-10-05T02:20:37.093294",
     "status": "completed"
    },
    "tags": []
   },
   "outputs": [
    {
     "data": {
      "text/html": [
       "<div>\n",
       "<style scoped>\n",
       "    .dataframe tbody tr th:only-of-type {\n",
       "        vertical-align: middle;\n",
       "    }\n",
       "\n",
       "    .dataframe tbody tr th {\n",
       "        vertical-align: top;\n",
       "    }\n",
       "\n",
       "    .dataframe thead th {\n",
       "        text-align: right;\n",
       "    }\n",
       "</style>\n",
       "<table border=\"1\" class=\"dataframe\">\n",
       "  <thead>\n",
       "    <tr style=\"text-align: right;\">\n",
       "      <th></th>\n",
       "      <th>Time</th>\n",
       "      <th>V16</th>\n",
       "      <th>Amount</th>\n",
       "      <th>V28</th>\n",
       "      <th>V27</th>\n",
       "      <th>V26</th>\n",
       "      <th>V25</th>\n",
       "      <th>V24</th>\n",
       "      <th>V23</th>\n",
       "      <th>V22</th>\n",
       "      <th>V21</th>\n",
       "      <th>V20</th>\n",
       "      <th>V19</th>\n",
       "      <th>V18</th>\n",
       "      <th>V17</th>\n",
       "      <th>V15</th>\n",
       "      <th>V1</th>\n",
       "      <th>V14</th>\n",
       "      <th>V13</th>\n",
       "      <th>V12</th>\n",
       "      <th>V11</th>\n",
       "      <th>V10</th>\n",
       "      <th>V9</th>\n",
       "      <th>V8</th>\n",
       "      <th>V7</th>\n",
       "      <th>V6</th>\n",
       "      <th>V5</th>\n",
       "      <th>V4</th>\n",
       "      <th>V3</th>\n",
       "      <th>V2</th>\n",
       "      <th>Class</th>\n",
       "    </tr>\n",
       "  </thead>\n",
       "  <tbody>\n",
       "    <tr>\n",
       "      <th>Total</th>\n",
       "      <td>0.0</td>\n",
       "      <td>0.0</td>\n",
       "      <td>0.0</td>\n",
       "      <td>0.0</td>\n",
       "      <td>0.0</td>\n",
       "      <td>0.0</td>\n",
       "      <td>0.0</td>\n",
       "      <td>0.0</td>\n",
       "      <td>0.0</td>\n",
       "      <td>0.0</td>\n",
       "      <td>0.0</td>\n",
       "      <td>0.0</td>\n",
       "      <td>0.0</td>\n",
       "      <td>0.0</td>\n",
       "      <td>0.0</td>\n",
       "      <td>0.0</td>\n",
       "      <td>0.0</td>\n",
       "      <td>0.0</td>\n",
       "      <td>0.0</td>\n",
       "      <td>0.0</td>\n",
       "      <td>0.0</td>\n",
       "      <td>0.0</td>\n",
       "      <td>0.0</td>\n",
       "      <td>0.0</td>\n",
       "      <td>0.0</td>\n",
       "      <td>0.0</td>\n",
       "      <td>0.0</td>\n",
       "      <td>0.0</td>\n",
       "      <td>0.0</td>\n",
       "      <td>0.0</td>\n",
       "      <td>0.0</td>\n",
       "    </tr>\n",
       "    <tr>\n",
       "      <th>Percent</th>\n",
       "      <td>0.0</td>\n",
       "      <td>0.0</td>\n",
       "      <td>0.0</td>\n",
       "      <td>0.0</td>\n",
       "      <td>0.0</td>\n",
       "      <td>0.0</td>\n",
       "      <td>0.0</td>\n",
       "      <td>0.0</td>\n",
       "      <td>0.0</td>\n",
       "      <td>0.0</td>\n",
       "      <td>0.0</td>\n",
       "      <td>0.0</td>\n",
       "      <td>0.0</td>\n",
       "      <td>0.0</td>\n",
       "      <td>0.0</td>\n",
       "      <td>0.0</td>\n",
       "      <td>0.0</td>\n",
       "      <td>0.0</td>\n",
       "      <td>0.0</td>\n",
       "      <td>0.0</td>\n",
       "      <td>0.0</td>\n",
       "      <td>0.0</td>\n",
       "      <td>0.0</td>\n",
       "      <td>0.0</td>\n",
       "      <td>0.0</td>\n",
       "      <td>0.0</td>\n",
       "      <td>0.0</td>\n",
       "      <td>0.0</td>\n",
       "      <td>0.0</td>\n",
       "      <td>0.0</td>\n",
       "      <td>0.0</td>\n",
       "    </tr>\n",
       "  </tbody>\n",
       "</table>\n",
       "</div>"
      ],
      "text/plain": [
       "         Time  V16  Amount  V28  V27  V26  V25  V24  V23  V22  V21  V20  V19  \\\n",
       "Total     0.0  0.0     0.0  0.0  0.0  0.0  0.0  0.0  0.0  0.0  0.0  0.0  0.0   \n",
       "Percent   0.0  0.0     0.0  0.0  0.0  0.0  0.0  0.0  0.0  0.0  0.0  0.0  0.0   \n",
       "\n",
       "         V18  V17  V15   V1  V14  V13  V12  V11  V10   V9   V8   V7   V6   V5  \\\n",
       "Total    0.0  0.0  0.0  0.0  0.0  0.0  0.0  0.0  0.0  0.0  0.0  0.0  0.0  0.0   \n",
       "Percent  0.0  0.0  0.0  0.0  0.0  0.0  0.0  0.0  0.0  0.0  0.0  0.0  0.0  0.0   \n",
       "\n",
       "          V4   V3   V2  Class  \n",
       "Total    0.0  0.0  0.0    0.0  \n",
       "Percent  0.0  0.0  0.0    0.0  "
      ]
     },
     "execution_count": 6,
     "metadata": {},
     "output_type": "execute_result"
    }
   ],
   "source": [
    "total = data_df.isnull().sum().sort_values(ascending = False)\n",
    "percent = (data_df.isnull().sum()/data_df.isnull().count()*100).sort_values(ascending = False)\n",
    "pd.concat([total, percent], axis=1, keys=['Total', 'Percent']).transpose()\n"
   ]
  },
  {
   "cell_type": "markdown",
   "id": "28cbf7a7",
   "metadata": {
    "papermill": {
     "duration": 0.005909,
     "end_time": "2024-10-05T02:20:37.192232",
     "exception": false,
     "start_time": "2024-10-05T02:20:37.186323",
     "status": "completed"
    },
    "tags": []
   },
   "source": [
    "There is **no missing data** in the entire dataset."
   ]
  },
  {
   "cell_type": "markdown",
   "id": "cb51b554",
   "metadata": {
    "papermill": {
     "duration": 0.00579,
     "end_time": "2024-10-05T02:20:37.204070",
     "exception": false,
     "start_time": "2024-10-05T02:20:37.198280",
     "status": "completed"
    },
    "tags": []
   },
   "source": [
    "## Data Unbalance"
   ]
  },
  {
   "cell_type": "code",
   "execution_count": 7,
   "id": "e4d7d549",
   "metadata": {
    "execution": {
     "iopub.execute_input": "2024-10-05T02:20:37.218218Z",
     "iopub.status.busy": "2024-10-05T02:20:37.217747Z",
     "iopub.status.idle": "2024-10-05T02:20:38.388237Z",
     "shell.execute_reply": "2024-10-05T02:20:38.387164Z"
    },
    "papermill": {
     "duration": 1.180397,
     "end_time": "2024-10-05T02:20:38.390718",
     "exception": false,
     "start_time": "2024-10-05T02:20:37.210321",
     "status": "completed"
    },
    "tags": []
   },
   "outputs": [
    {
     "data": {
      "application/vnd.plotly.v1+json": {
       "config": {
        "linkText": "Export to plot.ly",
        "plotlyServerURL": "https://plot.ly",
        "showLink": false
       },
       "data": [
        {
         "marker": {
          "color": "Red"
         },
         "name": "Credit Card Fraud Class - data unbalance (Not fraud = 0, Fraud = 1)",
         "text": [
          284315.0,
          492.0
         ],
         "type": "bar",
         "x": [
          0,
          1
         ],
         "y": [
          284315,
          492
         ]
        }
       ],
       "layout": {
        "hovermode": "closest",
        "template": {
         "data": {
          "bar": [
           {
            "error_x": {
             "color": "#2a3f5f"
            },
            "error_y": {
             "color": "#2a3f5f"
            },
            "marker": {
             "line": {
              "color": "#E5ECF6",
              "width": 0.5
             },
             "pattern": {
              "fillmode": "overlay",
              "size": 10,
              "solidity": 0.2
             }
            },
            "type": "bar"
           }
          ],
          "barpolar": [
           {
            "marker": {
             "line": {
              "color": "#E5ECF6",
              "width": 0.5
             },
             "pattern": {
              "fillmode": "overlay",
              "size": 10,
              "solidity": 0.2
             }
            },
            "type": "barpolar"
           }
          ],
          "carpet": [
           {
            "aaxis": {
             "endlinecolor": "#2a3f5f",
             "gridcolor": "white",
             "linecolor": "white",
             "minorgridcolor": "white",
             "startlinecolor": "#2a3f5f"
            },
            "baxis": {
             "endlinecolor": "#2a3f5f",
             "gridcolor": "white",
             "linecolor": "white",
             "minorgridcolor": "white",
             "startlinecolor": "#2a3f5f"
            },
            "type": "carpet"
           }
          ],
          "choropleth": [
           {
            "colorbar": {
             "outlinewidth": 0,
             "ticks": ""
            },
            "type": "choropleth"
           }
          ],
          "contour": [
           {
            "colorbar": {
             "outlinewidth": 0,
             "ticks": ""
            },
            "colorscale": [
             [
              0.0,
              "#0d0887"
             ],
             [
              0.1111111111111111,
              "#46039f"
             ],
             [
              0.2222222222222222,
              "#7201a8"
             ],
             [
              0.3333333333333333,
              "#9c179e"
             ],
             [
              0.4444444444444444,
              "#bd3786"
             ],
             [
              0.5555555555555556,
              "#d8576b"
             ],
             [
              0.6666666666666666,
              "#ed7953"
             ],
             [
              0.7777777777777778,
              "#fb9f3a"
             ],
             [
              0.8888888888888888,
              "#fdca26"
             ],
             [
              1.0,
              "#f0f921"
             ]
            ],
            "type": "contour"
           }
          ],
          "contourcarpet": [
           {
            "colorbar": {
             "outlinewidth": 0,
             "ticks": ""
            },
            "type": "contourcarpet"
           }
          ],
          "heatmap": [
           {
            "colorbar": {
             "outlinewidth": 0,
             "ticks": ""
            },
            "colorscale": [
             [
              0.0,
              "#0d0887"
             ],
             [
              0.1111111111111111,
              "#46039f"
             ],
             [
              0.2222222222222222,
              "#7201a8"
             ],
             [
              0.3333333333333333,
              "#9c179e"
             ],
             [
              0.4444444444444444,
              "#bd3786"
             ],
             [
              0.5555555555555556,
              "#d8576b"
             ],
             [
              0.6666666666666666,
              "#ed7953"
             ],
             [
              0.7777777777777778,
              "#fb9f3a"
             ],
             [
              0.8888888888888888,
              "#fdca26"
             ],
             [
              1.0,
              "#f0f921"
             ]
            ],
            "type": "heatmap"
           }
          ],
          "heatmapgl": [
           {
            "colorbar": {
             "outlinewidth": 0,
             "ticks": ""
            },
            "colorscale": [
             [
              0.0,
              "#0d0887"
             ],
             [
              0.1111111111111111,
              "#46039f"
             ],
             [
              0.2222222222222222,
              "#7201a8"
             ],
             [
              0.3333333333333333,
              "#9c179e"
             ],
             [
              0.4444444444444444,
              "#bd3786"
             ],
             [
              0.5555555555555556,
              "#d8576b"
             ],
             [
              0.6666666666666666,
              "#ed7953"
             ],
             [
              0.7777777777777778,
              "#fb9f3a"
             ],
             [
              0.8888888888888888,
              "#fdca26"
             ],
             [
              1.0,
              "#f0f921"
             ]
            ],
            "type": "heatmapgl"
           }
          ],
          "histogram": [
           {
            "marker": {
             "pattern": {
              "fillmode": "overlay",
              "size": 10,
              "solidity": 0.2
             }
            },
            "type": "histogram"
           }
          ],
          "histogram2d": [
           {
            "colorbar": {
             "outlinewidth": 0,
             "ticks": ""
            },
            "colorscale": [
             [
              0.0,
              "#0d0887"
             ],
             [
              0.1111111111111111,
              "#46039f"
             ],
             [
              0.2222222222222222,
              "#7201a8"
             ],
             [
              0.3333333333333333,
              "#9c179e"
             ],
             [
              0.4444444444444444,
              "#bd3786"
             ],
             [
              0.5555555555555556,
              "#d8576b"
             ],
             [
              0.6666666666666666,
              "#ed7953"
             ],
             [
              0.7777777777777778,
              "#fb9f3a"
             ],
             [
              0.8888888888888888,
              "#fdca26"
             ],
             [
              1.0,
              "#f0f921"
             ]
            ],
            "type": "histogram2d"
           }
          ],
          "histogram2dcontour": [
           {
            "colorbar": {
             "outlinewidth": 0,
             "ticks": ""
            },
            "colorscale": [
             [
              0.0,
              "#0d0887"
             ],
             [
              0.1111111111111111,
              "#46039f"
             ],
             [
              0.2222222222222222,
              "#7201a8"
             ],
             [
              0.3333333333333333,
              "#9c179e"
             ],
             [
              0.4444444444444444,
              "#bd3786"
             ],
             [
              0.5555555555555556,
              "#d8576b"
             ],
             [
              0.6666666666666666,
              "#ed7953"
             ],
             [
              0.7777777777777778,
              "#fb9f3a"
             ],
             [
              0.8888888888888888,
              "#fdca26"
             ],
             [
              1.0,
              "#f0f921"
             ]
            ],
            "type": "histogram2dcontour"
           }
          ],
          "mesh3d": [
           {
            "colorbar": {
             "outlinewidth": 0,
             "ticks": ""
            },
            "type": "mesh3d"
           }
          ],
          "parcoords": [
           {
            "line": {
             "colorbar": {
              "outlinewidth": 0,
              "ticks": ""
             }
            },
            "type": "parcoords"
           }
          ],
          "pie": [
           {
            "automargin": true,
            "type": "pie"
           }
          ],
          "scatter": [
           {
            "fillpattern": {
             "fillmode": "overlay",
             "size": 10,
             "solidity": 0.2
            },
            "type": "scatter"
           }
          ],
          "scatter3d": [
           {
            "line": {
             "colorbar": {
              "outlinewidth": 0,
              "ticks": ""
             }
            },
            "marker": {
             "colorbar": {
              "outlinewidth": 0,
              "ticks": ""
             }
            },
            "type": "scatter3d"
           }
          ],
          "scattercarpet": [
           {
            "marker": {
             "colorbar": {
              "outlinewidth": 0,
              "ticks": ""
             }
            },
            "type": "scattercarpet"
           }
          ],
          "scattergeo": [
           {
            "marker": {
             "colorbar": {
              "outlinewidth": 0,
              "ticks": ""
             }
            },
            "type": "scattergeo"
           }
          ],
          "scattergl": [
           {
            "marker": {
             "colorbar": {
              "outlinewidth": 0,
              "ticks": ""
             }
            },
            "type": "scattergl"
           }
          ],
          "scattermapbox": [
           {
            "marker": {
             "colorbar": {
              "outlinewidth": 0,
              "ticks": ""
             }
            },
            "type": "scattermapbox"
           }
          ],
          "scatterpolar": [
           {
            "marker": {
             "colorbar": {
              "outlinewidth": 0,
              "ticks": ""
             }
            },
            "type": "scatterpolar"
           }
          ],
          "scatterpolargl": [
           {
            "marker": {
             "colorbar": {
              "outlinewidth": 0,
              "ticks": ""
             }
            },
            "type": "scatterpolargl"
           }
          ],
          "scatterternary": [
           {
            "marker": {
             "colorbar": {
              "outlinewidth": 0,
              "ticks": ""
             }
            },
            "type": "scatterternary"
           }
          ],
          "surface": [
           {
            "colorbar": {
             "outlinewidth": 0,
             "ticks": ""
            },
            "colorscale": [
             [
              0.0,
              "#0d0887"
             ],
             [
              0.1111111111111111,
              "#46039f"
             ],
             [
              0.2222222222222222,
              "#7201a8"
             ],
             [
              0.3333333333333333,
              "#9c179e"
             ],
             [
              0.4444444444444444,
              "#bd3786"
             ],
             [
              0.5555555555555556,
              "#d8576b"
             ],
             [
              0.6666666666666666,
              "#ed7953"
             ],
             [
              0.7777777777777778,
              "#fb9f3a"
             ],
             [
              0.8888888888888888,
              "#fdca26"
             ],
             [
              1.0,
              "#f0f921"
             ]
            ],
            "type": "surface"
           }
          ],
          "table": [
           {
            "cells": {
             "fill": {
              "color": "#EBF0F8"
             },
             "line": {
              "color": "white"
             }
            },
            "header": {
             "fill": {
              "color": "#C8D4E3"
             },
             "line": {
              "color": "white"
             }
            },
            "type": "table"
           }
          ]
         },
         "layout": {
          "annotationdefaults": {
           "arrowcolor": "#2a3f5f",
           "arrowhead": 0,
           "arrowwidth": 1
          },
          "autotypenumbers": "strict",
          "coloraxis": {
           "colorbar": {
            "outlinewidth": 0,
            "ticks": ""
           }
          },
          "colorscale": {
           "diverging": [
            [
             0,
             "#8e0152"
            ],
            [
             0.1,
             "#c51b7d"
            ],
            [
             0.2,
             "#de77ae"
            ],
            [
             0.3,
             "#f1b6da"
            ],
            [
             0.4,
             "#fde0ef"
            ],
            [
             0.5,
             "#f7f7f7"
            ],
            [
             0.6,
             "#e6f5d0"
            ],
            [
             0.7,
             "#b8e186"
            ],
            [
             0.8,
             "#7fbc41"
            ],
            [
             0.9,
             "#4d9221"
            ],
            [
             1,
             "#276419"
            ]
           ],
           "sequential": [
            [
             0.0,
             "#0d0887"
            ],
            [
             0.1111111111111111,
             "#46039f"
            ],
            [
             0.2222222222222222,
             "#7201a8"
            ],
            [
             0.3333333333333333,
             "#9c179e"
            ],
            [
             0.4444444444444444,
             "#bd3786"
            ],
            [
             0.5555555555555556,
             "#d8576b"
            ],
            [
             0.6666666666666666,
             "#ed7953"
            ],
            [
             0.7777777777777778,
             "#fb9f3a"
            ],
            [
             0.8888888888888888,
             "#fdca26"
            ],
            [
             1.0,
             "#f0f921"
            ]
           ],
           "sequentialminus": [
            [
             0.0,
             "#0d0887"
            ],
            [
             0.1111111111111111,
             "#46039f"
            ],
            [
             0.2222222222222222,
             "#7201a8"
            ],
            [
             0.3333333333333333,
             "#9c179e"
            ],
            [
             0.4444444444444444,
             "#bd3786"
            ],
            [
             0.5555555555555556,
             "#d8576b"
            ],
            [
             0.6666666666666666,
             "#ed7953"
            ],
            [
             0.7777777777777778,
             "#fb9f3a"
            ],
            [
             0.8888888888888888,
             "#fdca26"
            ],
            [
             1.0,
             "#f0f921"
            ]
           ]
          },
          "colorway": [
           "#636efa",
           "#EF553B",
           "#00cc96",
           "#ab63fa",
           "#FFA15A",
           "#19d3f3",
           "#FF6692",
           "#B6E880",
           "#FF97FF",
           "#FECB52"
          ],
          "font": {
           "color": "#2a3f5f"
          },
          "geo": {
           "bgcolor": "white",
           "lakecolor": "white",
           "landcolor": "#E5ECF6",
           "showlakes": true,
           "showland": true,
           "subunitcolor": "white"
          },
          "hoverlabel": {
           "align": "left"
          },
          "hovermode": "closest",
          "mapbox": {
           "style": "light"
          },
          "paper_bgcolor": "white",
          "plot_bgcolor": "#E5ECF6",
          "polar": {
           "angularaxis": {
            "gridcolor": "white",
            "linecolor": "white",
            "ticks": ""
           },
           "bgcolor": "#E5ECF6",
           "radialaxis": {
            "gridcolor": "white",
            "linecolor": "white",
            "ticks": ""
           }
          },
          "scene": {
           "xaxis": {
            "backgroundcolor": "#E5ECF6",
            "gridcolor": "white",
            "gridwidth": 2,
            "linecolor": "white",
            "showbackground": true,
            "ticks": "",
            "zerolinecolor": "white"
           },
           "yaxis": {
            "backgroundcolor": "#E5ECF6",
            "gridcolor": "white",
            "gridwidth": 2,
            "linecolor": "white",
            "showbackground": true,
            "ticks": "",
            "zerolinecolor": "white"
           },
           "zaxis": {
            "backgroundcolor": "#E5ECF6",
            "gridcolor": "white",
            "gridwidth": 2,
            "linecolor": "white",
            "showbackground": true,
            "ticks": "",
            "zerolinecolor": "white"
           }
          },
          "shapedefaults": {
           "line": {
            "color": "#2a3f5f"
           }
          },
          "ternary": {
           "aaxis": {
            "gridcolor": "white",
            "linecolor": "white",
            "ticks": ""
           },
           "baxis": {
            "gridcolor": "white",
            "linecolor": "white",
            "ticks": ""
           },
           "bgcolor": "#E5ECF6",
           "caxis": {
            "gridcolor": "white",
            "linecolor": "white",
            "ticks": ""
           }
          },
          "title": {
           "x": 0.05
          },
          "xaxis": {
           "automargin": true,
           "gridcolor": "white",
           "linecolor": "white",
           "ticks": "",
           "title": {
            "standoff": 15
           },
           "zerolinecolor": "white",
           "zerolinewidth": 2
          },
          "yaxis": {
           "automargin": true,
           "gridcolor": "white",
           "linecolor": "white",
           "ticks": "",
           "title": {
            "standoff": 15
           },
           "zerolinecolor": "white",
           "zerolinewidth": 2
          }
         }
        },
        "title": {
         "text": "Credit Card Fraud Class - data unbalance (Not fraud = 0, Fraud = 1)"
        },
        "width": 600,
        "xaxis": {
         "showticklabels": true,
         "title": {
          "text": "Class"
         }
        },
        "yaxis": {
         "title": {
          "text": "Number of transactions"
         }
        }
       }
      },
      "text/html": [
       "<div>                            <div id=\"efbc9817-edf2-4b3f-ba07-df26c44c47f4\" class=\"plotly-graph-div\" style=\"height:525px; width:600px;\"></div>            <script type=\"text/javascript\">                require([\"plotly\"], function(Plotly) {                    window.PLOTLYENV=window.PLOTLYENV || {};                                    if (document.getElementById(\"efbc9817-edf2-4b3f-ba07-df26c44c47f4\")) {                    Plotly.newPlot(                        \"efbc9817-edf2-4b3f-ba07-df26c44c47f4\",                        [{\"marker\":{\"color\":\"Red\"},\"name\":\"Credit Card Fraud Class - data unbalance (Not fraud = 0, Fraud = 1)\",\"text\":[284315.0,492.0],\"x\":[0,1],\"y\":[284315,492],\"type\":\"bar\"}],                        {\"hovermode\":\"closest\",\"template\":{\"data\":{\"barpolar\":[{\"marker\":{\"line\":{\"color\":\"#E5ECF6\",\"width\":0.5},\"pattern\":{\"fillmode\":\"overlay\",\"size\":10,\"solidity\":0.2}},\"type\":\"barpolar\"}],\"bar\":[{\"error_x\":{\"color\":\"#2a3f5f\"},\"error_y\":{\"color\":\"#2a3f5f\"},\"marker\":{\"line\":{\"color\":\"#E5ECF6\",\"width\":0.5},\"pattern\":{\"fillmode\":\"overlay\",\"size\":10,\"solidity\":0.2}},\"type\":\"bar\"}],\"carpet\":[{\"aaxis\":{\"endlinecolor\":\"#2a3f5f\",\"gridcolor\":\"white\",\"linecolor\":\"white\",\"minorgridcolor\":\"white\",\"startlinecolor\":\"#2a3f5f\"},\"baxis\":{\"endlinecolor\":\"#2a3f5f\",\"gridcolor\":\"white\",\"linecolor\":\"white\",\"minorgridcolor\":\"white\",\"startlinecolor\":\"#2a3f5f\"},\"type\":\"carpet\"}],\"choropleth\":[{\"colorbar\":{\"outlinewidth\":0,\"ticks\":\"\"},\"type\":\"choropleth\"}],\"contourcarpet\":[{\"colorbar\":{\"outlinewidth\":0,\"ticks\":\"\"},\"type\":\"contourcarpet\"}],\"contour\":[{\"colorbar\":{\"outlinewidth\":0,\"ticks\":\"\"},\"colorscale\":[[0.0,\"#0d0887\"],[0.1111111111111111,\"#46039f\"],[0.2222222222222222,\"#7201a8\"],[0.3333333333333333,\"#9c179e\"],[0.4444444444444444,\"#bd3786\"],[0.5555555555555556,\"#d8576b\"],[0.6666666666666666,\"#ed7953\"],[0.7777777777777778,\"#fb9f3a\"],[0.8888888888888888,\"#fdca26\"],[1.0,\"#f0f921\"]],\"type\":\"contour\"}],\"heatmapgl\":[{\"colorbar\":{\"outlinewidth\":0,\"ticks\":\"\"},\"colorscale\":[[0.0,\"#0d0887\"],[0.1111111111111111,\"#46039f\"],[0.2222222222222222,\"#7201a8\"],[0.3333333333333333,\"#9c179e\"],[0.4444444444444444,\"#bd3786\"],[0.5555555555555556,\"#d8576b\"],[0.6666666666666666,\"#ed7953\"],[0.7777777777777778,\"#fb9f3a\"],[0.8888888888888888,\"#fdca26\"],[1.0,\"#f0f921\"]],\"type\":\"heatmapgl\"}],\"heatmap\":[{\"colorbar\":{\"outlinewidth\":0,\"ticks\":\"\"},\"colorscale\":[[0.0,\"#0d0887\"],[0.1111111111111111,\"#46039f\"],[0.2222222222222222,\"#7201a8\"],[0.3333333333333333,\"#9c179e\"],[0.4444444444444444,\"#bd3786\"],[0.5555555555555556,\"#d8576b\"],[0.6666666666666666,\"#ed7953\"],[0.7777777777777778,\"#fb9f3a\"],[0.8888888888888888,\"#fdca26\"],[1.0,\"#f0f921\"]],\"type\":\"heatmap\"}],\"histogram2dcontour\":[{\"colorbar\":{\"outlinewidth\":0,\"ticks\":\"\"},\"colorscale\":[[0.0,\"#0d0887\"],[0.1111111111111111,\"#46039f\"],[0.2222222222222222,\"#7201a8\"],[0.3333333333333333,\"#9c179e\"],[0.4444444444444444,\"#bd3786\"],[0.5555555555555556,\"#d8576b\"],[0.6666666666666666,\"#ed7953\"],[0.7777777777777778,\"#fb9f3a\"],[0.8888888888888888,\"#fdca26\"],[1.0,\"#f0f921\"]],\"type\":\"histogram2dcontour\"}],\"histogram2d\":[{\"colorbar\":{\"outlinewidth\":0,\"ticks\":\"\"},\"colorscale\":[[0.0,\"#0d0887\"],[0.1111111111111111,\"#46039f\"],[0.2222222222222222,\"#7201a8\"],[0.3333333333333333,\"#9c179e\"],[0.4444444444444444,\"#bd3786\"],[0.5555555555555556,\"#d8576b\"],[0.6666666666666666,\"#ed7953\"],[0.7777777777777778,\"#fb9f3a\"],[0.8888888888888888,\"#fdca26\"],[1.0,\"#f0f921\"]],\"type\":\"histogram2d\"}],\"histogram\":[{\"marker\":{\"pattern\":{\"fillmode\":\"overlay\",\"size\":10,\"solidity\":0.2}},\"type\":\"histogram\"}],\"mesh3d\":[{\"colorbar\":{\"outlinewidth\":0,\"ticks\":\"\"},\"type\":\"mesh3d\"}],\"parcoords\":[{\"line\":{\"colorbar\":{\"outlinewidth\":0,\"ticks\":\"\"}},\"type\":\"parcoords\"}],\"pie\":[{\"automargin\":true,\"type\":\"pie\"}],\"scatter3d\":[{\"line\":{\"colorbar\":{\"outlinewidth\":0,\"ticks\":\"\"}},\"marker\":{\"colorbar\":{\"outlinewidth\":0,\"ticks\":\"\"}},\"type\":\"scatter3d\"}],\"scattercarpet\":[{\"marker\":{\"colorbar\":{\"outlinewidth\":0,\"ticks\":\"\"}},\"type\":\"scattercarpet\"}],\"scattergeo\":[{\"marker\":{\"colorbar\":{\"outlinewidth\":0,\"ticks\":\"\"}},\"type\":\"scattergeo\"}],\"scattergl\":[{\"marker\":{\"colorbar\":{\"outlinewidth\":0,\"ticks\":\"\"}},\"type\":\"scattergl\"}],\"scattermapbox\":[{\"marker\":{\"colorbar\":{\"outlinewidth\":0,\"ticks\":\"\"}},\"type\":\"scattermapbox\"}],\"scatterpolargl\":[{\"marker\":{\"colorbar\":{\"outlinewidth\":0,\"ticks\":\"\"}},\"type\":\"scatterpolargl\"}],\"scatterpolar\":[{\"marker\":{\"colorbar\":{\"outlinewidth\":0,\"ticks\":\"\"}},\"type\":\"scatterpolar\"}],\"scatter\":[{\"fillpattern\":{\"fillmode\":\"overlay\",\"size\":10,\"solidity\":0.2},\"type\":\"scatter\"}],\"scatterternary\":[{\"marker\":{\"colorbar\":{\"outlinewidth\":0,\"ticks\":\"\"}},\"type\":\"scatterternary\"}],\"surface\":[{\"colorbar\":{\"outlinewidth\":0,\"ticks\":\"\"},\"colorscale\":[[0.0,\"#0d0887\"],[0.1111111111111111,\"#46039f\"],[0.2222222222222222,\"#7201a8\"],[0.3333333333333333,\"#9c179e\"],[0.4444444444444444,\"#bd3786\"],[0.5555555555555556,\"#d8576b\"],[0.6666666666666666,\"#ed7953\"],[0.7777777777777778,\"#fb9f3a\"],[0.8888888888888888,\"#fdca26\"],[1.0,\"#f0f921\"]],\"type\":\"surface\"}],\"table\":[{\"cells\":{\"fill\":{\"color\":\"#EBF0F8\"},\"line\":{\"color\":\"white\"}},\"header\":{\"fill\":{\"color\":\"#C8D4E3\"},\"line\":{\"color\":\"white\"}},\"type\":\"table\"}]},\"layout\":{\"annotationdefaults\":{\"arrowcolor\":\"#2a3f5f\",\"arrowhead\":0,\"arrowwidth\":1},\"autotypenumbers\":\"strict\",\"coloraxis\":{\"colorbar\":{\"outlinewidth\":0,\"ticks\":\"\"}},\"colorscale\":{\"diverging\":[[0,\"#8e0152\"],[0.1,\"#c51b7d\"],[0.2,\"#de77ae\"],[0.3,\"#f1b6da\"],[0.4,\"#fde0ef\"],[0.5,\"#f7f7f7\"],[0.6,\"#e6f5d0\"],[0.7,\"#b8e186\"],[0.8,\"#7fbc41\"],[0.9,\"#4d9221\"],[1,\"#276419\"]],\"sequential\":[[0.0,\"#0d0887\"],[0.1111111111111111,\"#46039f\"],[0.2222222222222222,\"#7201a8\"],[0.3333333333333333,\"#9c179e\"],[0.4444444444444444,\"#bd3786\"],[0.5555555555555556,\"#d8576b\"],[0.6666666666666666,\"#ed7953\"],[0.7777777777777778,\"#fb9f3a\"],[0.8888888888888888,\"#fdca26\"],[1.0,\"#f0f921\"]],\"sequentialminus\":[[0.0,\"#0d0887\"],[0.1111111111111111,\"#46039f\"],[0.2222222222222222,\"#7201a8\"],[0.3333333333333333,\"#9c179e\"],[0.4444444444444444,\"#bd3786\"],[0.5555555555555556,\"#d8576b\"],[0.6666666666666666,\"#ed7953\"],[0.7777777777777778,\"#fb9f3a\"],[0.8888888888888888,\"#fdca26\"],[1.0,\"#f0f921\"]]},\"colorway\":[\"#636efa\",\"#EF553B\",\"#00cc96\",\"#ab63fa\",\"#FFA15A\",\"#19d3f3\",\"#FF6692\",\"#B6E880\",\"#FF97FF\",\"#FECB52\"],\"font\":{\"color\":\"#2a3f5f\"},\"geo\":{\"bgcolor\":\"white\",\"lakecolor\":\"white\",\"landcolor\":\"#E5ECF6\",\"showlakes\":true,\"showland\":true,\"subunitcolor\":\"white\"},\"hoverlabel\":{\"align\":\"left\"},\"hovermode\":\"closest\",\"mapbox\":{\"style\":\"light\"},\"paper_bgcolor\":\"white\",\"plot_bgcolor\":\"#E5ECF6\",\"polar\":{\"angularaxis\":{\"gridcolor\":\"white\",\"linecolor\":\"white\",\"ticks\":\"\"},\"bgcolor\":\"#E5ECF6\",\"radialaxis\":{\"gridcolor\":\"white\",\"linecolor\":\"white\",\"ticks\":\"\"}},\"scene\":{\"xaxis\":{\"backgroundcolor\":\"#E5ECF6\",\"gridcolor\":\"white\",\"gridwidth\":2,\"linecolor\":\"white\",\"showbackground\":true,\"ticks\":\"\",\"zerolinecolor\":\"white\"},\"yaxis\":{\"backgroundcolor\":\"#E5ECF6\",\"gridcolor\":\"white\",\"gridwidth\":2,\"linecolor\":\"white\",\"showbackground\":true,\"ticks\":\"\",\"zerolinecolor\":\"white\"},\"zaxis\":{\"backgroundcolor\":\"#E5ECF6\",\"gridcolor\":\"white\",\"gridwidth\":2,\"linecolor\":\"white\",\"showbackground\":true,\"ticks\":\"\",\"zerolinecolor\":\"white\"}},\"shapedefaults\":{\"line\":{\"color\":\"#2a3f5f\"}},\"ternary\":{\"aaxis\":{\"gridcolor\":\"white\",\"linecolor\":\"white\",\"ticks\":\"\"},\"baxis\":{\"gridcolor\":\"white\",\"linecolor\":\"white\",\"ticks\":\"\"},\"bgcolor\":\"#E5ECF6\",\"caxis\":{\"gridcolor\":\"white\",\"linecolor\":\"white\",\"ticks\":\"\"}},\"title\":{\"x\":0.05},\"xaxis\":{\"automargin\":true,\"gridcolor\":\"white\",\"linecolor\":\"white\",\"ticks\":\"\",\"title\":{\"standoff\":15},\"zerolinecolor\":\"white\",\"zerolinewidth\":2},\"yaxis\":{\"automargin\":true,\"gridcolor\":\"white\",\"linecolor\":\"white\",\"ticks\":\"\",\"title\":{\"standoff\":15},\"zerolinecolor\":\"white\",\"zerolinewidth\":2}}},\"title\":{\"text\":\"Credit Card Fraud Class - data unbalance (Not fraud = 0, Fraud = 1)\"},\"width\":600,\"xaxis\":{\"showticklabels\":true,\"title\":{\"text\":\"Class\"}},\"yaxis\":{\"title\":{\"text\":\"Number of transactions\"}}},                        {\"responsive\": true}                    ).then(function(){\n",
       "                            \n",
       "var gd = document.getElementById('efbc9817-edf2-4b3f-ba07-df26c44c47f4');\n",
       "var x = new MutationObserver(function (mutations, observer) {{\n",
       "        var display = window.getComputedStyle(gd).display;\n",
       "        if (!display || display === 'none') {{\n",
       "            console.log([gd, 'removed!']);\n",
       "            Plotly.purge(gd);\n",
       "            observer.disconnect();\n",
       "        }}\n",
       "}});\n",
       "\n",
       "// Listen for the removal of the full notebook cells\n",
       "var notebookContainer = gd.closest('#notebook-container');\n",
       "if (notebookContainer) {{\n",
       "    x.observe(notebookContainer, {childList: true});\n",
       "}}\n",
       "\n",
       "// Listen for the clearing of the current output cell\n",
       "var outputEl = gd.closest('.output');\n",
       "if (outputEl) {{\n",
       "    x.observe(outputEl, {childList: true});\n",
       "}}\n",
       "\n",
       "                        })                };                });            </script>        </div>"
      ]
     },
     "metadata": {},
     "output_type": "display_data"
    }
   ],
   "source": [
    "temp = data_df[\"Class\"].value_counts()\n",
    "df = pd.DataFrame({'Class': temp.index,'values': temp.values})\n",
    "\n",
    "trace = go.Bar(\n",
    "    x = df['Class'],y = df['values'],\n",
    "    name=\"Credit Card Fraud Class - data unbalance (Not fraud = 0, Fraud = 1)\",\n",
    "    marker=dict(color=\"Red\"),\n",
    "    text=df['values']\n",
    ")\n",
    "data = [trace]\n",
    "layout = dict(title = 'Credit Card Fraud Class - data unbalance (Not fraud = 0, Fraud = 1)',\n",
    "          xaxis = dict(title = 'Class', showticklabels=True), \n",
    "          yaxis = dict(title = 'Number of transactions'),\n",
    "          hovermode = 'closest',width=600\n",
    "         )\n",
    "fig = dict(data=data, layout=layout)\n",
    "iplot(fig, filename='class')"
   ]
  },
  {
   "cell_type": "markdown",
   "id": "112b9a9a",
   "metadata": {
    "papermill": {
     "duration": 0.01124,
     "end_time": "2024-10-05T02:20:38.413645",
     "exception": false,
     "start_time": "2024-10-05T02:20:38.402405",
     "status": "completed"
    },
    "tags": []
   },
   "source": [
    "Only **492 (or 0.172%)** of transaction are fraudulent. That means the data is **highly unbalanced** with respect with target variable Class."
   ]
  },
  {
   "cell_type": "markdown",
   "id": "f063ccaa",
   "metadata": {
    "papermill": {
     "duration": 0.010906,
     "end_time": "2024-10-05T02:20:38.435780",
     "exception": false,
     "start_time": "2024-10-05T02:20:38.424874",
     "status": "completed"
    },
    "tags": []
   },
   "source": [
    "## Data Exploration"
   ]
  },
  {
   "cell_type": "markdown",
   "id": "fa22cfb9",
   "metadata": {
    "papermill": {
     "duration": 0.010825,
     "end_time": "2024-10-05T02:20:38.457837",
     "exception": false,
     "start_time": "2024-10-05T02:20:38.447012",
     "status": "completed"
    },
    "tags": []
   },
   "source": [
    "Transactions in Time"
   ]
  },
  {
   "cell_type": "code",
   "execution_count": 8,
   "id": "a8c9b3bc",
   "metadata": {
    "execution": {
     "iopub.execute_input": "2024-10-05T02:20:38.482250Z",
     "iopub.status.busy": "2024-10-05T02:20:38.481813Z",
     "iopub.status.idle": "2024-10-05T02:20:40.938708Z",
     "shell.execute_reply": "2024-10-05T02:20:40.937715Z"
    },
    "papermill": {
     "duration": 2.476451,
     "end_time": "2024-10-05T02:20:40.945583",
     "exception": false,
     "start_time": "2024-10-05T02:20:38.469132",
     "status": "completed"
    },
    "tags": []
   },
   "outputs": [
    {
     "data": {
      "application/vnd.plotly.v1+json": {
       "config": {
        "linkText": "Export to plot.ly",
        "plotlyServerURL": "https://plot.ly",
        "showLink": false
       },
       "data": [
        {
         "legendgroup": "Not Fraud",
         "marker": {
          "color": "rgb(31, 119, 180)"
         },
         "mode": "lines",
         "name": "Not Fraud",
         "showlegend": true,
         "type": "scatter",
         "x": [
          0.0,
          345.584,
          691.168,
          1036.752,
          1382.336,
          1727.92,
          2073.504,
          2419.088,
          2764.672,
          3110.256,
          3455.84,
          3801.424,
          4147.008,
          4492.592,
          4838.176,
          5183.76,
          5529.344,
          5874.928,
          6220.512,
          6566.096,
          6911.68,
          7257.264,
          7602.848,
          7948.432,
          8294.016,
          8639.6,
          8985.184,
          9330.768,
          9676.352,
          10021.936,
          10367.52,
          10713.104,
          11058.688,
          11404.272,
          11749.856,
          12095.44,
          12441.024,
          12786.608,
          13132.192,
          13477.776,
          13823.36,
          14168.944,
          14514.528,
          14860.112,
          15205.696,
          15551.28,
          15896.864,
          16242.448,
          16588.032,
          16933.616,
          17279.2,
          17624.784,
          17970.368,
          18315.952,
          18661.536,
          19007.12,
          19352.704,
          19698.288,
          20043.872,
          20389.456,
          20735.04,
          21080.624,
          21426.208,
          21771.792,
          22117.376,
          22462.96,
          22808.544,
          23154.128,
          23499.712,
          23845.296,
          24190.88,
          24536.464,
          24882.048,
          25227.632,
          25573.216,
          25918.8,
          26264.384,
          26609.968,
          26955.552,
          27301.136,
          27646.72,
          27992.304,
          28337.888,
          28683.472,
          29029.056,
          29374.64,
          29720.224,
          30065.808,
          30411.392,
          30756.976,
          31102.56,
          31448.144,
          31793.728,
          32139.312,
          32484.896,
          32830.48,
          33176.064,
          33521.648,
          33867.232,
          34212.816,
          34558.4,
          34903.984,
          35249.568,
          35595.152,
          35940.736,
          36286.32,
          36631.904,
          36977.488,
          37323.072,
          37668.656,
          38014.24,
          38359.824,
          38705.408,
          39050.992,
          39396.576,
          39742.16,
          40087.744,
          40433.328,
          40778.912,
          41124.496,
          41470.08,
          41815.664,
          42161.248,
          42506.832,
          42852.416,
          43198.0,
          43543.584,
          43889.168,
          44234.752,
          44580.336,
          44925.92,
          45271.504,
          45617.088,
          45962.672,
          46308.256,
          46653.84,
          46999.424,
          47345.008,
          47690.592,
          48036.176,
          48381.76,
          48727.344,
          49072.928,
          49418.512,
          49764.096,
          50109.68,
          50455.264,
          50800.848,
          51146.432,
          51492.016,
          51837.6,
          52183.184,
          52528.768,
          52874.352,
          53219.936,
          53565.52,
          53911.104,
          54256.688,
          54602.272,
          54947.856,
          55293.44,
          55639.024,
          55984.608,
          56330.192,
          56675.776,
          57021.36,
          57366.944,
          57712.528,
          58058.112,
          58403.696,
          58749.28,
          59094.864,
          59440.448,
          59786.032,
          60131.616,
          60477.2,
          60822.784,
          61168.368,
          61513.952,
          61859.536,
          62205.12,
          62550.704,
          62896.288,
          63241.872,
          63587.456,
          63933.04,
          64278.624,
          64624.208,
          64969.792,
          65315.376,
          65660.96,
          66006.544,
          66352.128,
          66697.712,
          67043.296,
          67388.88,
          67734.464,
          68080.048,
          68425.632,
          68771.216,
          69116.8,
          69462.384,
          69807.968,
          70153.552,
          70499.136,
          70844.72,
          71190.304,
          71535.888,
          71881.472,
          72227.056,
          72572.64,
          72918.224,
          73263.808,
          73609.392,
          73954.976,
          74300.56,
          74646.144,
          74991.728,
          75337.312,
          75682.896,
          76028.48,
          76374.064,
          76719.648,
          77065.232,
          77410.816,
          77756.4,
          78101.984,
          78447.568,
          78793.152,
          79138.736,
          79484.32,
          79829.904,
          80175.488,
          80521.072,
          80866.656,
          81212.24,
          81557.824,
          81903.408,
          82248.992,
          82594.576,
          82940.16,
          83285.744,
          83631.328,
          83976.912,
          84322.496,
          84668.08,
          85013.664,
          85359.248,
          85704.832,
          86050.416,
          86396.0,
          86741.584,
          87087.168,
          87432.752,
          87778.336,
          88123.92,
          88469.504,
          88815.088,
          89160.672,
          89506.256,
          89851.84,
          90197.424,
          90543.008,
          90888.592,
          91234.176,
          91579.76,
          91925.344,
          92270.928,
          92616.512,
          92962.096,
          93307.68,
          93653.264,
          93998.848,
          94344.432,
          94690.016,
          95035.6,
          95381.184,
          95726.768,
          96072.352,
          96417.936,
          96763.52,
          97109.104,
          97454.688,
          97800.272,
          98145.856,
          98491.44,
          98837.024,
          99182.608,
          99528.192,
          99873.776,
          100219.36,
          100564.944,
          100910.528,
          101256.112,
          101601.696,
          101947.28,
          102292.864,
          102638.448,
          102984.032,
          103329.616,
          103675.2,
          104020.784,
          104366.368,
          104711.952,
          105057.536,
          105403.12,
          105748.704,
          106094.288,
          106439.872,
          106785.456,
          107131.04,
          107476.624,
          107822.208,
          108167.792,
          108513.376,
          108858.96,
          109204.544,
          109550.128,
          109895.712,
          110241.296,
          110586.88,
          110932.464,
          111278.048,
          111623.632,
          111969.216,
          112314.8,
          112660.384,
          113005.968,
          113351.552,
          113697.136,
          114042.72,
          114388.304,
          114733.888,
          115079.472,
          115425.056,
          115770.64,
          116116.224,
          116461.808,
          116807.392,
          117152.976,
          117498.56,
          117844.144,
          118189.728,
          118535.312,
          118880.896,
          119226.48,
          119572.064,
          119917.648,
          120263.232,
          120608.816,
          120954.4,
          121299.984,
          121645.568,
          121991.152,
          122336.736,
          122682.32,
          123027.904,
          123373.488,
          123719.072,
          124064.656,
          124410.24,
          124755.824,
          125101.408,
          125446.992,
          125792.576,
          126138.16,
          126483.744,
          126829.328,
          127174.912,
          127520.496,
          127866.08,
          128211.664,
          128557.248,
          128902.832,
          129248.416,
          129594.0,
          129939.584,
          130285.168,
          130630.752,
          130976.336,
          131321.92,
          131667.504,
          132013.088,
          132358.672,
          132704.256,
          133049.84,
          133395.424,
          133741.008,
          134086.592,
          134432.176,
          134777.76,
          135123.344,
          135468.928,
          135814.512,
          136160.096,
          136505.68,
          136851.264,
          137196.848,
          137542.432,
          137888.016,
          138233.6,
          138579.184,
          138924.768,
          139270.352,
          139615.936,
          139961.52,
          140307.104,
          140652.688,
          140998.272,
          141343.856,
          141689.44,
          142035.024,
          142380.608,
          142726.192,
          143071.776,
          143417.36,
          143762.944,
          144108.528,
          144454.112,
          144799.696,
          145145.28,
          145490.864,
          145836.448,
          146182.032,
          146527.616,
          146873.2,
          147218.784,
          147564.368,
          147909.952,
          148255.536,
          148601.12,
          148946.704,
          149292.288,
          149637.872,
          149983.456,
          150329.04,
          150674.624,
          151020.208,
          151365.792,
          151711.376,
          152056.96,
          152402.544,
          152748.128,
          153093.712,
          153439.296,
          153784.88,
          154130.464,
          154476.048,
          154821.632,
          155167.216,
          155512.8,
          155858.384,
          156203.968,
          156549.552,
          156895.136,
          157240.72,
          157586.304,
          157931.888,
          158277.472,
          158623.056,
          158968.64,
          159314.224,
          159659.808,
          160005.392,
          160350.976,
          160696.56,
          161042.144,
          161387.728,
          161733.312,
          162078.896,
          162424.48,
          162770.064,
          163115.648,
          163461.232,
          163806.816,
          164152.4,
          164497.984,
          164843.568,
          165189.152,
          165534.736,
          165880.32,
          166225.904,
          166571.488,
          166917.072,
          167262.656,
          167608.24,
          167953.824,
          168299.408,
          168644.992,
          168990.576,
          169336.16,
          169681.744,
          170027.328,
          170372.912,
          170718.496,
          171064.08,
          171409.664,
          171755.248,
          172100.832,
          172446.416
         ],
         "xaxis": "x",
         "y": [
          1.697347456086226e-06,
          1.7892406860838056e-06,
          1.8751066622895047e-06,
          1.9539240211315817e-06,
          2.0248147874841933e-06,
          2.0870700001728196e-06,
          2.1401693523158404e-06,
          2.1837939471416954e-06,
          2.2178316034665912e-06,
          2.242374511761339e-06,
          2.2577094196194055e-06,
          2.2643008918188014e-06,
          2.2627685234050986e-06,
          2.2538592651662705e-06,
          2.2384162340774593e-06,
          2.217345515980265e-06,
          2.1915825183281395e-06,
          2.162059397021127e-06,
          2.1296749680386738e-06,
          2.095268331193404e-06,
          2.05959719303171e-06,
          2.023321594571911e-06,
          1.9869934446533323e-06,
          1.9510519490665072e-06,
          1.9158247265701045e-06,
          1.8815341310018962e-06,
          1.8483080671292573e-06,
          1.8161944068400577e-06,
          1.785177988507893e-06,
          1.7551991191213409e-06,
          1.7261724957825178e-06,
          1.6980055169883936e-06,
          1.6706150584078137e-06,
          1.6439419340972001e-06,
          1.6179624420037476e-06,
          1.5926965909610441e-06,
          1.5682128135695855e-06,
          1.544629174058958e-06,
          1.5221112719306263e-06,
          1.5008672116659285e-06,
          1.481140148483666e-06,
          1.46319902439773e-06,
          1.447328174052436e-06,
          1.433816504534355e-06,
          1.422946938147587e-06,
          1.4149867545429196e-06,
          1.410179382909212e-06,
          1.408738081981337e-06,
          1.4108418124353673e-06,
          1.416633460726771e-06,
          1.4262204239961602e-06,
          1.4396774207779606e-06,
          1.4570512600447994e-06,
          1.478367188917408e-06,
          1.5036363533035317e-06,
          1.532863850340599e-06,
          1.566056829463784e-06,
          1.6032321108015968e-06,
          1.6444228338374854e-06,
          1.6896837222361364e-06,
          1.739094646910136e-06,
          1.7927622818094237e-06,
          1.8508197675565135e-06,
          1.913424418521531e-06,
          1.980753621024302e-06,
          2.052999166716722e-06,
          2.130360339872763e-06,
          2.213036126211028e-06,
          2.3012169320790766e-06,
          2.395076196709398e-06,
          2.4947622494234817e-06,
          2.6003907126324243e-06,
          2.712037686308532e-06,
          2.8297338772311614e-06,
          2.9534597639182697e-06,
          3.083141822512351e-06,
          3.2186497856324444e-06,
          3.359794869388642e-06,
          3.5063288854050637e-06,
          3.657944154693155e-06,
          3.8142741563072327e-06,
          3.97489487181751e-06,
          4.139326821281706e-06,
          4.307037821357342e-06,
          4.477446525210012e-06,
          4.649926821293155e-06,
          4.823813169618387e-06,
          4.998406937320513e-06,
          5.172983759820729e-06,
          5.346801901645483e-06,
          5.5191115259867515e-06,
          5.689164710128658e-06,
          5.856225971804274e-06,
          6.019583006720395e-06,
          6.178557286896822e-06,
          6.33251413909087e-06,
          6.480871916741137e-06,
          6.623109899729855e-06,
          6.758774603685426e-06,
          6.8874842519837105e-06,
          7.008931254393314e-06,
          7.122882640061902e-06,
          7.229178501787336e-06,
          7.327728615221862e-06,
          7.418507493160355e-06,
          7.501548214399436e-06,
          7.576935423367104e-06,
          7.64479792710563e-06,
          7.705301318490012e-06,
          7.758641029150601e-06,
          7.805036164694744e-06,
          7.844724402420202e-06,
          7.877958143023881e-06,
          7.905002009088228e-06,
          7.926131680880564e-06,
          7.94163396095993e-06,
          7.951807869479588e-06,
          7.95696649738327e-06,
          7.957439289376487e-06,
          7.95357439583249e-06,
          7.945740724359432e-06,
          7.93432933796e-06,
          7.919753886306895e-06,
          7.90244981707093e-06,
          7.88287219158645e-06,
          7.861492018651871e-06,
          7.83879111631714e-06,
          7.815255608175426e-06,
          7.791368252068972e-06,
          7.767599879605554e-06,
          7.744400289671187e-06,
          7.722188984437173e-06,
          7.701346159669049e-06,
          7.682204361436706e-06,
          7.665041198951465e-06,
          7.65007346006783e-06,
          7.637452914970817e-06,
          7.627264018689671e-06,
          7.619523638961723e-06,
          7.61418284739335e-06,
          7.611130723686314e-06,
          7.610200039221739e-06,
          7.611174611300591e-06,
          7.613798055773268e-06,
          7.617783615693654e-06,
          7.6228247082879535e-06,
          7.62860581233097e-06,
          7.634813312831111e-06,
          7.641145929061619e-06,
          7.647324374415867e-06,
          7.65309993110634e-06,
          7.658261667941963e-06,
          7.662642083793558e-06,
          7.666121021265789e-06,
          7.668627762522012e-06,
          7.670141290160318e-06,
          7.670688767914203e-06,
          7.670342366006724e-06,
          7.669214621200134e-06,
          7.667452578692807e-06,
          7.665231008939398e-06,
          7.662745024280962e-06,
          7.660202435730384e-06,
          7.657816187892279e-06,
          7.655797189368887e-06,
          7.654347818073842e-06,
          7.65365632767946e-06,
          7.653892316465032e-06,
          7.655203347519245e-06,
          7.657712734803747e-06,
          7.66151843861622e-06,
          7.666692951868367e-06,
          7.673284010222378e-06,
          7.681315928223042e-06,
          7.690791352390222e-06,
          7.701693231398637e-06,
          7.713986831543372e-06,
          7.727621669694344e-06,
          7.742533291007228e-06,
          7.758644879036125e-06,
          7.775868744871467e-06,
          7.794107793011539e-06,
          7.813257098720034e-06,
          7.833205749804441e-06,
          7.853839101993095e-06,
          7.875041570289478e-06,
          7.896700030201666e-06,
          7.91870783609131e-06,
          7.940969384640015e-06,
          7.963405066766165e-06,
          7.98595636928918e-06,
          8.008590816494447e-06,
          8.031306389214006e-06,
          8.054135031363684e-06,
          8.077144855419422e-06,
          8.100440690962875e-06,
          8.12416268335992e-06,
          8.148482739462418e-06,
          8.173598728157823e-06,
          8.199726468138793e-06,
          8.227089664610314e-06,
          8.255908081986769e-06,
          8.28638435222761e-06,
          8.318689911131436e-06,
          8.352950622010562e-06,
          8.389232684289143e-06,
          8.427529432517221e-06,
          8.467749609997747e-06,
          8.5097076534679e-06,
          8.553116455128343e-06,
          8.59758298070585e-06,
          8.642607022227291e-06,
          8.687583256706541e-06,
          8.731806671225067e-06,
          8.774481304367468e-06,
          8.814732146393526e-06,
          8.851619937765269e-06,
          8.884158509418363e-06,
          8.911334219899884e-06,
          8.932126965959673e-06,
          8.945532176540064e-06,
          8.95058314809604e-06,
          8.946373044910814e-06,
          8.932075875017873e-06,
          8.906965763680835e-06,
          8.870433884729148e-06,
          8.822002476833969e-06,
          8.761335466860958e-06,
          8.688245343573295e-06,
          8.602696067955016e-06,
          8.504801964908307e-06,
          8.394822707027359e-06,
          8.273154665238242e-06,
          8.140319053533444e-06,
          7.996947426325067e-06,
          7.843765188647893e-06,
          7.681573845069685e-06,
          7.511232738581267e-06,
          7.33364101471729e-06,
          7.149720490327954e-06,
          6.960400015284128e-06,
          6.76660179574194e-06,
          6.5692300080250655e-06,
          6.369161882344767e-06,
          6.167241285296679e-06,
          5.964274688715284e-06,
          5.7610292881530164e-06,
          5.558232933420785e-06,
          5.3565754606671604e-06,
          5.156710972657441e-06,
          4.959260601368877e-06,
          4.764815303057657e-06,
          4.5739382773489956e-06,
          4.3871666642909316e-06,
          4.205012251683968e-06,
          4.027961014003517e-06,
          3.856471398599545e-06,
          3.6909713696184227e-06,
          3.5318543107640014e-06,
          3.3794739707040134e-06,
          3.2341387063642493e-06,
          3.09610533689418e-06,
          2.965572962654928e-06,
          2.842677127687104e-06,
          2.727484709805115e-06,
          2.619989909357818e-06,
          2.520111676015091e-06,
          2.427692863569815e-06,
          2.342501337296398e-06,
          2.264233179246592e-06,
          2.192518047148749e-06,
          2.1269266461765223e-06,
          2.0669801742745345e-06,
          2.012161505894253e-06,
          1.9619277910244224e-06,
          1.9157240712834857e-06,
          1.8729974570884043e-06,
          1.8332113732540546e-06,
          1.7958593673801985e-06,
          1.7604779872841177e-06,
          1.7266582702356212e-06,
          1.694055445992837e-06,
          1.6623965343016347e-06,
          1.6314856110536923e-06,
          1.6012066201757071e-06,
          1.5715237145407142e-06,
          1.5424792126083194e-06,
          1.5141893523611344e-06,
          1.4868381053923456e-06,
          1.4606693777951228e-06,
          1.4359779681991328e-06,
          1.4130996757281782e-06,
          1.3924009520549702e-06,
          1.3742684736943764e-06,
          1.3590989758662608e-06,
          1.3472896412160876e-06,
          1.3392292794638088e-06,
          1.3352904719533155e-06,
          1.335822792319559e-06,
          1.341147154951964e-06,
          1.3515512899463576e-06,
          1.36728629939042e-06,
          1.3885642169032805e-06,
          1.4155564712147415e-06,
          1.4483931452166274e-06,
          1.4871629234741587e-06,
          1.531913632014335e-06,
          1.5826532920302118e-06,
          1.6393516311859596e-06,
          1.7019420194297466e-06,
          1.770323817488097e-06,
          1.8443651425656395e-06,
          1.9239060646457227e-06,
          2.0087622462564445e-06,
          2.098729027519551e-06,
          2.1935859366460467e-06,
          2.2931015747103575e-06,
          2.3970387845923e-06,
          2.5051599704428945e-06,
          2.6172323897750845e-06,
          2.7330331997486774e-06,
          2.8523540070366512e-06,
          2.9750046513343243e-06,
          3.1008159500099968e-06,
          3.229641148489611e-06,
          3.361355859316422e-06,
          3.49585633235638e-06,
          3.6330559775247643e-06,
          3.77288015605973e-06,
          3.915259361504394e-06,
          4.0601210205601614e-06,
          4.20738024928744e-06,
          4.356929993860334e-06,
          4.508631059529288e-06,
          4.662302579861018e-06,
          4.817713495387055e-06,
          4.97457559321582e-06,
          5.132538606064657e-06,
          5.291187782149383e-06,
          5.4500442207274745e-06,
          5.60856812831968e-06,
          5.7661649962831695e-06,
          5.922194541198147e-06,
          6.075982095987878e-06,
          6.226832001933775e-06,
          6.374042439169836e-06,
          6.516921053370932e-06,
          6.6548006945818544e-06,
          6.787054583109831e-06,
          6.913110256888775e-06,
          7.032461731690977e-06,
          7.144679414247741e-06,
          7.249417441023877e-06,
          7.3464182626032205e-06,
          7.435514445358026e-06,
          7.516627808025062e-06,
          7.589766141684623e-06,
          7.655017869381519e-06,
          7.712545080304945e-06,
          7.76257541936528e-06,
          7.805393325111688e-06,
          7.841331088565962e-06,
          7.870760156336691e-06,
          7.894083028920017e-06,
          7.911726016105932e-06,
          7.924133013618895e-06,
          7.931760366075156e-06,
          7.935072788425494e-06,
          7.934540237282671e-06,
          7.930635559896009e-06,
          7.923832705051017e-06,
          7.914605258270494e-06,
          7.903425063041482e-06,
          7.890760708466107e-06,
          7.877075698645939e-06,
          7.862826166202862e-06,
          7.848458047158569e-06,
          7.834403692290484e-06,
          7.821077946804908e-06,
          7.808873781945643e-06,
          7.798157606035696e-06,
          7.789264416363833e-06,
          7.782492976151726e-06,
          7.77810121225941e-06,
          7.776302029754061e-06,
          7.777259729962855e-06,
          7.781087200522531e-06,
          7.787844020759934e-06,
          7.797535595084253e-06,
          7.810113392411539e-06,
          7.825476332418608e-06,
          7.843473320742812e-06,
          7.86390689633336e-06,
          7.88653791592843e-06,
          7.911091164212854e-06,
          7.93726174456668e-06,
          7.964722075703524e-06,
          7.993129295076801e-06,
          8.022132851958381e-06,
          8.051382062851659e-06,
          8.080533400309721e-06,
          8.10925729415988e-06,
          8.137244241794065e-06,
          8.164210051465264e-06,
          8.189900078482423e-06,
          8.214092357438593e-06,
          8.236599582026864e-06,
          8.257269934935509e-06,
          8.275986820935606e-06,
          8.292667603341434e-06,
          8.307261484600059e-06,
          8.319746703096486e-06,
          8.330127238270177e-06,
          8.338429223485027e-06,
          8.344697260356942e-06,
          8.348990810121105e-06,
          8.351380808722834e-06,
          8.351946615214956e-06,
          8.350773361117179e-06,
          8.347949725304532e-06,
          8.343566118802322e-06,
          8.337713230093595e-06,
          8.330480857437749e-06,
          8.321956942328969e-06,
          8.312226718654158e-06,
          8.301371904984082e-06,
          8.28946989113086e-06,
          8.276592901670643e-06,
          8.262807154751018e-06,
          8.24817206964307e-06,
          8.232739606528501e-06,
          8.216553842656714e-06,
          8.199650896786162e-06,
          8.18205930653018e-06,
          8.163800940243854e-06,
          8.14489248744238e-06,
          8.125347522248057e-06,
          8.10517907716839e-06,
          8.084402605008577e-06,
          8.063039150737193e-06,
          8.041118508591435e-06,
          8.018682107831933e-06,
          7.995785357477929e-06,
          7.972499188554663e-06,
          7.948910562417719e-06,
          7.92512176427102e-06,
          7.90124836881024e-06,
          7.877415845168722e-06,
          7.853754855151372e-06,
          7.830395385603204e-06,
          7.807459936140123e-06,
          7.785056051576906e-06,
          7.76326853923214e-06,
          7.742151741544881e-06,
          7.721722242233108e-06,
          7.701952369437012e-06,
          7.682764823383586e-06,
          7.664028701862044e-06,
          7.645557128088684e-06,
          7.627106606879589e-06,
          7.608378151350866e-06,
          7.589020138440517e-06,
          7.5686327720261705e-06,
          7.546773961324201e-06,
          7.522966363070486e-06,
          7.4967052913752334e-06,
          7.467467171099337e-06,
          7.434718200257147e-06,
          7.397922894775452e-06,
          7.356552214556368e-06,
          7.31009101210078e-06,
          7.258044602058914e-06,
          7.199944319248215e-06,
          7.135352010448104e-06,
          7.063863487342652e-06,
          6.985111049446798e-06,
          6.898765261309e-06,
          6.804536232139017e-06,
          6.702174692783636e-06,
          6.591473189773025e-06,
          6.4722677150522574e-06,
          6.3444400605795025e-06,
          6.207921128630467e-06,
          6.062695343022793e-06,
          5.908806197528005e-06,
          5.746362851759736e-06,
          5.5755475501749955e-06,
          5.396623506475834e-06,
          5.209942774562255e-06,
          5.015953529263215e-06,
          4.815206115540978e-06,
          4.608357202072425e-06,
          4.396171399757077e-06,
          4.17951978005933e-06,
          3.959374850598455e-06,
          3.736801710492047e-06,
          3.512945306302105e-06,
          3.2890139285170335e-06,
          3.066259313514767e-06,
          2.84595393096583e-06
         ],
         "yaxis": "y"
        },
        {
         "legendgroup": "Fraud",
         "marker": {
          "color": "rgb(255, 127, 14)"
         },
         "mode": "lines",
         "name": "Fraud",
         "showlegend": true,
         "type": "scatter",
         "x": [
          406.0,
          745.884,
          1085.768,
          1425.652,
          1765.536,
          2105.42,
          2445.304,
          2785.188,
          3125.072,
          3464.956,
          3804.84,
          4144.724,
          4484.608,
          4824.492,
          5164.376,
          5504.26,
          5844.144,
          6184.028,
          6523.912,
          6863.796,
          7203.68,
          7543.564,
          7883.448,
          8223.332,
          8563.216,
          8903.1,
          9242.984,
          9582.868,
          9922.752,
          10262.636,
          10602.52,
          10942.404,
          11282.288,
          11622.172,
          11962.056,
          12301.94,
          12641.824,
          12981.708,
          13321.592,
          13661.476,
          14001.36,
          14341.244,
          14681.128,
          15021.012,
          15360.896,
          15700.78,
          16040.664,
          16380.548,
          16720.432,
          17060.316,
          17400.2,
          17740.084,
          18079.968,
          18419.852,
          18759.736,
          19099.62,
          19439.504,
          19779.388,
          20119.272,
          20459.156,
          20799.04,
          21138.924,
          21478.808,
          21818.692,
          22158.576,
          22498.46,
          22838.344,
          23178.228,
          23518.112,
          23857.996,
          24197.88,
          24537.764,
          24877.648,
          25217.532,
          25557.416,
          25897.3,
          26237.184,
          26577.068,
          26916.952,
          27256.836,
          27596.72,
          27936.604,
          28276.488,
          28616.372,
          28956.256,
          29296.14,
          29636.024,
          29975.908,
          30315.792,
          30655.676,
          30995.56,
          31335.444,
          31675.328,
          32015.212,
          32355.096,
          32694.98,
          33034.864,
          33374.748,
          33714.632,
          34054.516,
          34394.4,
          34734.284,
          35074.168,
          35414.052,
          35753.936,
          36093.82,
          36433.704,
          36773.588,
          37113.472,
          37453.356,
          37793.24,
          38133.124,
          38473.008,
          38812.892,
          39152.776,
          39492.66,
          39832.544,
          40172.428,
          40512.312,
          40852.196,
          41192.08,
          41531.964,
          41871.848,
          42211.732,
          42551.616,
          42891.5,
          43231.384,
          43571.268,
          43911.152,
          44251.036,
          44590.92,
          44930.804,
          45270.688,
          45610.572,
          45950.456,
          46290.34,
          46630.224,
          46970.108,
          47309.992,
          47649.876,
          47989.76,
          48329.644,
          48669.528,
          49009.412,
          49349.296,
          49689.18,
          50029.064,
          50368.948,
          50708.832,
          51048.716,
          51388.6,
          51728.484,
          52068.368,
          52408.252,
          52748.136,
          53088.02,
          53427.904,
          53767.788,
          54107.672,
          54447.556,
          54787.44,
          55127.324,
          55467.208,
          55807.092,
          56146.976,
          56486.86,
          56826.744,
          57166.628,
          57506.512,
          57846.396,
          58186.28,
          58526.164,
          58866.048,
          59205.932,
          59545.816,
          59885.7,
          60225.584,
          60565.468,
          60905.352,
          61245.236,
          61585.12,
          61925.004,
          62264.888,
          62604.772,
          62944.656,
          63284.54,
          63624.424,
          63964.308,
          64304.192,
          64644.076,
          64983.96,
          65323.844,
          65663.728,
          66003.612,
          66343.496,
          66683.38,
          67023.264,
          67363.148,
          67703.032,
          68042.916,
          68382.8,
          68722.684,
          69062.568,
          69402.452,
          69742.336,
          70082.22,
          70422.104,
          70761.988,
          71101.872,
          71441.756,
          71781.64,
          72121.524,
          72461.408,
          72801.292,
          73141.176,
          73481.06,
          73820.944,
          74160.828,
          74500.712,
          74840.596,
          75180.48,
          75520.364,
          75860.248,
          76200.132,
          76540.016,
          76879.9,
          77219.784,
          77559.668,
          77899.552,
          78239.436,
          78579.32,
          78919.204,
          79259.088,
          79598.972,
          79938.856,
          80278.74,
          80618.624,
          80958.508,
          81298.392,
          81638.276,
          81978.16,
          82318.044,
          82657.928,
          82997.812,
          83337.696,
          83677.58,
          84017.464,
          84357.348,
          84697.232,
          85037.116,
          85377.0,
          85716.884,
          86056.768,
          86396.652,
          86736.536,
          87076.42,
          87416.304,
          87756.188,
          88096.072,
          88435.956,
          88775.84,
          89115.724,
          89455.608,
          89795.492,
          90135.376,
          90475.26,
          90815.144,
          91155.028,
          91494.912,
          91834.796,
          92174.68,
          92514.564,
          92854.448,
          93194.332,
          93534.216,
          93874.1,
          94213.984,
          94553.868,
          94893.752,
          95233.636,
          95573.52,
          95913.404,
          96253.288,
          96593.172,
          96933.056,
          97272.94,
          97612.824,
          97952.708,
          98292.592,
          98632.476,
          98972.36,
          99312.244,
          99652.128,
          99992.012,
          100331.896,
          100671.78,
          101011.664,
          101351.548,
          101691.432,
          102031.316,
          102371.2,
          102711.084,
          103050.968,
          103390.852,
          103730.736,
          104070.62,
          104410.504,
          104750.388,
          105090.272,
          105430.156,
          105770.04,
          106109.924,
          106449.808,
          106789.692,
          107129.576,
          107469.46,
          107809.344,
          108149.228,
          108489.112,
          108828.996,
          109168.88,
          109508.764,
          109848.648,
          110188.532,
          110528.416,
          110868.3,
          111208.184,
          111548.068,
          111887.952,
          112227.836,
          112567.72,
          112907.604,
          113247.488,
          113587.372,
          113927.256,
          114267.14,
          114607.024,
          114946.908,
          115286.792,
          115626.676,
          115966.56,
          116306.444,
          116646.328,
          116986.212,
          117326.096,
          117665.98,
          118005.864,
          118345.748,
          118685.632,
          119025.516,
          119365.4,
          119705.284,
          120045.168,
          120385.052,
          120724.936,
          121064.82,
          121404.704,
          121744.588,
          122084.472,
          122424.356,
          122764.24,
          123104.124,
          123444.008,
          123783.892,
          124123.776,
          124463.66,
          124803.544,
          125143.428,
          125483.312,
          125823.196,
          126163.08,
          126502.964,
          126842.848,
          127182.732,
          127522.616,
          127862.5,
          128202.384,
          128542.268,
          128882.152,
          129222.036,
          129561.92,
          129901.804,
          130241.688,
          130581.572,
          130921.456,
          131261.34,
          131601.224,
          131941.108,
          132280.992,
          132620.876,
          132960.76,
          133300.644,
          133640.528,
          133980.412,
          134320.296,
          134660.18,
          135000.064,
          135339.948,
          135679.832,
          136019.716,
          136359.6,
          136699.484,
          137039.368,
          137379.252,
          137719.136,
          138059.02,
          138398.904,
          138738.788,
          139078.672,
          139418.556,
          139758.44,
          140098.324,
          140438.208,
          140778.092,
          141117.976,
          141457.86,
          141797.744,
          142137.628,
          142477.512,
          142817.396,
          143157.28,
          143497.164,
          143837.048,
          144176.932,
          144516.816,
          144856.7,
          145196.584,
          145536.468,
          145876.352,
          146216.236,
          146556.12,
          146896.004,
          147235.888,
          147575.772,
          147915.656,
          148255.54,
          148595.424,
          148935.308,
          149275.192,
          149615.076,
          149954.96,
          150294.844,
          150634.728,
          150974.612,
          151314.496,
          151654.38,
          151994.264,
          152334.148,
          152674.032,
          153013.916,
          153353.8,
          153693.684,
          154033.568,
          154373.452,
          154713.336,
          155053.22,
          155393.104,
          155732.988,
          156072.872,
          156412.756,
          156752.64,
          157092.524,
          157432.408,
          157772.292,
          158112.176,
          158452.06,
          158791.944,
          159131.828,
          159471.712,
          159811.596,
          160151.48,
          160491.364,
          160831.248,
          161171.132,
          161511.016,
          161850.9,
          162190.784,
          162530.668,
          162870.552,
          163210.436,
          163550.32,
          163890.204,
          164230.088,
          164569.972,
          164909.856,
          165249.74,
          165589.624,
          165929.508,
          166269.392,
          166609.276,
          166949.16,
          167289.044,
          167628.928,
          167968.812,
          168308.696,
          168648.58,
          168988.464,
          169328.348,
          169668.232,
          170008.116
         ],
         "xaxis": "x",
         "y": [
          2.5725270199184186e-06,
          2.6310058058129387e-06,
          2.6897686304363113e-06,
          2.748786647363209e-06,
          2.8080309928186174e-06,
          2.867472852442724e-06,
          2.9270835279276285e-06,
          2.9868345032672523e-06,
          3.0466975103604765e-06,
          3.106644593707739e-06,
          3.1666481739421243e-06,
          3.226681109938766e-06,
          3.286716759249754e-06,
          3.3467290366169334e-06,
          3.4066924703207853e-06,
          3.4665822561312507e-06,
          3.5263743086346612e-06,
          3.586045309720728e-06,
          3.645572754024372e-06,
          3.704934991128807e-06,
          3.764111264349628e-06,
          3.823081745932931e-06,
          3.8818275685156236e-06,
          3.940330852711665e-06,
          3.998574730703818e-06,
          4.056543365738183e-06,
          4.114221967435876e-06,
          4.171596802854251e-06,
          4.22865520324932e-06,
          4.2853855665086814e-06,
          4.341777355244726e-06,
          4.397821090555966e-06,
          4.453508341484275e-06,
          4.508831710215101e-06,
          4.563784813086301e-06,
          4.618362257490829e-06,
          4.672559614776593e-06,
          4.726373389264856e-06,
          4.779800983526774e-06,
          4.832840660073917e-06,
          4.885491499635645e-06,
          4.937753356211278e-06,
          4.989626809100186e-06,
          5.041113112126349e-06,
          5.092214140287206e-06,
          5.142932334068027e-06,
          5.193270641674183e-06,
          5.2432324594427434e-06,
          5.292821570703958e-06,
          5.342042083369238e-06,
          5.390898366529313e-06,
          5.439394986349832e-06,
          5.487536641555415e-06,
          5.53532809879497e-06,
          5.5827741281816e-06,
          5.629879439299518e-06,
          5.676648617968544e-06,
          5.7230860640530265e-06,
          5.769195930597303e-06,
          5.814982064563845e-06,
          5.860447949442463e-06,
          5.905596649991412e-06,
          5.9504307593597875e-06,
          5.9949523488313795e-06,
          6.039162920417333e-06,
          6.083063362511553e-06,
          6.126653908809835e-06,
          6.169934100677941e-06,
          6.212902753138355e-06,
          6.255557924628919e-06,
          6.297896890669667e-06,
          6.339916121555686e-06,
          6.381611264176304e-06,
          6.422977128041518e-06,
          6.464007675577934e-06,
          6.504696016736774e-06,
          6.545034407937353e-06,
          6.58501425534952e-06,
          6.6246261224990165e-06,
          6.663859742160641e-06,
          6.702704032484233e-06,
          6.7411471172800726e-06,
          6.779176350371274e-06,
          6.816778343903149e-06,
          6.85393900048132e-06,
          6.890643548994117e-06,
          6.926876583958109e-06,
          6.962622108210547e-06,
          6.997863578757841e-06,
          7.032583955575589e-06,
          7.066765753143316e-06,
          7.100391094485444e-06,
          7.133441767479521e-06,
          7.165899283183914e-06,
          7.197744935928864e-06,
          7.228959864908297e-06,
          7.2595251170041e-06,
          7.289421710570782e-06,
          7.318630699905537e-06,
          7.34713324012691e-06,
          7.3749106521859724e-06,
          7.401944487734288e-06,
          7.4282165935761576e-06,
          7.453709175436183e-06,
          7.478404860778613e-06,
          7.5022867604211935e-06,
          7.525338528694e-06,
          7.547544421902763e-06,
          7.568889354865974e-06,
          7.589358955305964e-06,
          7.608939615886946e-06,
          7.627618543704963e-06,
          7.645383807049724e-06,
          7.662224379271767e-06,
          7.678130179605082e-06,
          7.693092110809927e-06,
          7.707102093518341e-06,
          7.720153097180765e-06,
          7.73223916753028e-06,
          7.74335545049777e-06,
          7.753498212529612e-06,
          7.762664857276409e-06,
          7.770853938639618e-06,
          7.778065170179878e-06,
          7.784299430908184e-06,
          7.789558767497564e-06,
          7.793846392970039e-06,
          7.797166681927951e-06,
          7.799525162415758e-06,
          7.800928504511102e-06,
          7.801384505758749e-06,
          7.800902073572754e-06,
          7.79949120474543e-06,
          7.79716296221043e-06,
          7.793929449219127e-06,
          7.7898037810964e-06,
          7.784800054750648e-06,
          7.778933316118147e-06,
          7.772219525727596e-06,
          7.764675522574616e-06,
          7.756318986497791e-06,
          7.747168399250415e-06,
          7.737243004461252e-06,
          7.726562766677174e-06,
          7.715148329678113e-06,
          7.703020974251558e-06,
          7.690202575608856e-06,
          7.676715560620782e-06,
          7.662582865042436e-06,
          7.647827890890533e-06,
          7.632474464127642e-06,
          7.61654679279824e-06,
          7.600069425751879e-06,
          7.583067212077928e-06,
          7.565565261364993e-06,
          7.547588904886183e-06,
          7.529163657799741e-06,
          7.5103151824412315e-06,
          7.491069252771464e-06,
          7.471451720031028e-06,
          7.451488479639303e-06,
          7.431205439363627e-06,
          7.410628488770476e-06,
          7.3897834699591784e-06,
          7.368696149565698e-06,
          7.347392192012734e-06,
          7.325897133970946e-06,
          7.304236359985557e-06,
          7.282435079212542e-06,
          7.260518303199248e-06,
          7.238510824635932e-06,
          7.21643719699678e-06,
          7.194321714982593e-06,
          7.172188395671026e-06,
          7.150060960275749e-06,
          7.127962816411894e-06,
          7.105917040762377e-06,
          7.083946362037864e-06,
          7.062073144122659e-06,
          7.0403193692987845e-06,
          7.018706621442342e-06,
          6.997256069088543e-06,
          6.97598844826533e-06,
          6.954924045000071e-06,
          6.934082677409289e-06,
          6.9134836772881055e-06,
          6.8931458711228284e-06,
          6.873087560459115e-06,
          6.853326501566601e-06,
          6.8338798843506185e-06,
          6.8147643104725706e-06,
          6.795995770650812e-06,
          6.777589621125901e-06,
          6.759560559286023e-06,
          6.7419225984606654e-06,
          6.724689041902918e-06,
          6.707872455994472e-06,
          6.691484642719272e-06,
          6.6755366114657315e-06,
          6.660038550229452e-06,
          6.644999796301856e-06,
          6.630428806542278e-06,
          6.6163331273431365e-06,
          6.6027193644101595e-06,
          6.589593152489993e-06,
          6.576959125189143e-06,
          6.564820885037666e-06,
          6.553180973960314e-06,
          6.542040844326773e-06,
          6.531400830759609e-06,
          6.521260122885778e-06,
          6.511616739222865e-06,
          6.502467502396012e-06,
          6.493808015884789e-06,
          6.485632642502066e-06,
          6.477934484807597e-06,
          6.470705367659421e-06,
          6.463935823104735e-06,
          6.457615077809518e-06,
          6.451731043222338e-06,
          6.446270308662629e-06,
          6.441218137517905e-06,
          6.436558466726337e-06,
          6.43227390971253e-06,
          6.428345762934643e-06,
          6.424754016189529e-06,
          6.421477366810481e-06,
          6.418493237878816e-06,
          6.415777800556126e-06,
          6.413306000628759e-06,
          6.411051589339758e-06,
          6.4089871585665144e-06,
          6.407084180384329e-06,
          6.405313051037887e-06,
          6.4036431393233005e-06,
          6.402042839363785e-06,
          6.400479627742148e-06,
          6.398920124932859e-06,
          6.397330160956058e-06,
          6.395674845154956e-06,
          6.39391863997806e-06,
          6.39202543862633e-06,
          6.389958646405969e-06,
          6.387681265607016e-06,
          6.385155983708637e-06,
          6.382345264692885e-06,
          6.379211443230841e-06,
          6.375716821486896e-06,
          6.371823768270628e-06,
          6.367494820249904e-06,
          6.362692784924034e-06,
          6.357380845042474e-06,
          6.35152266414181e-06,
          6.345082492863204e-06,
          6.338025275702306e-06,
          6.3303167578356885e-06,
          6.321923591660976e-06,
          6.312813442682563e-06,
          6.302955094371124e-06,
          6.292318551623298e-06,
          6.2808751424471336e-06,
          6.268597617500529e-06,
          6.255460247112576e-06,
          6.2414389154223915e-06,
          6.226511211276388e-06,
          6.210656515532497e-06,
          6.193856084429971e-06,
          6.176093128693818e-06,
          6.157352888056185e-06,
          6.137622700890802e-06,
          6.1168920686722895e-06,
          6.09515271498915e-06,
          6.072398638857374e-06,
          6.048626162101344e-06,
          6.023833970588854e-06,
          5.998023149129176e-06,
          5.9711972098654e-06,
          5.943362114015652e-06,
          5.914526286842006e-06,
          5.884700625750639e-06,
          5.853898501451925e-06,
          5.822135752134672e-06,
          5.789430670634891e-06,
          5.7558039846049595e-06,
          5.721278829715634e-06,
          5.685880715948575e-06,
          5.649637487063373e-06,
          5.612579273347978e-06,
          5.57473843778623e-06,
          5.536149515800898e-06,
          5.496849148753551e-06,
          5.4568760114060885e-06,
          5.416270733570009e-06,
          5.375075816190753e-06,
          5.3333355421342156e-06,
          5.291095881960869e-06,
          5.248404394990799e-06,
          5.205310125978372e-06,
          5.161863497730502e-06,
          5.11811620001525e-06,
          5.074121075119355e-06,
          5.029932000423423e-06,
          4.985603768372087e-06,
          4.941191964223304e-06,
          4.896752841966395e-06,
          4.852343198802163e-06,
          4.80802024858019e-06,
          4.763841494589364e-06,
          4.719864602095872e-06,
          4.676147271020594e-06,
          4.632747109143137e-06,
          4.589721506214108e-06,
          4.54712750934956e-06,
          4.505021700072855e-06,
          4.463460073358999e-06,
          4.4224979190248335e-06,
          4.382189705795714e-06,
          4.342588968365246e-06,
          4.303748197749749e-06,
          4.265718735222607e-06,
          4.2285506700970366e-06,
          4.192292741607468e-06,
          4.156992245121313e-06,
          4.122694942893465e-06,
          4.089444979555857e-06,
          4.057284802514109e-06,
          4.0262550874025305e-06,
          3.996394668727529e-06,
          3.967740475808403e-06,
          3.940327474103151e-06,
          3.914188611985556e-06,
          3.889354773018637e-06,
          3.865854733748631e-06,
          3.843715127022968e-06,
          3.822960410815291e-06,
          3.803612842520981e-06,
          3.785692458667051e-06,
          3.769217059961994e-06,
          3.754202201592923e-06,
          3.740661188660427e-06,
          3.728605076625153e-06,
          3.718042676624745e-06,
          3.708980565505328e-06,
          3.701423100398431e-06,
          3.695372437661674e-06,
          3.690828555990535e-06,
          3.687789283498205e-06,
          3.686250328551705e-06,
          3.686205314144638e-06,
          3.6876458155803848e-06,
          3.6905614012342003e-06,
          3.6949396761586572e-06,
          3.7007663282937523e-06,
          3.7080251770415623e-06,
          3.716698223964658e-06,
          3.7267657053682896e-06,
          3.738206146528158e-06,
          3.750996417328554e-06,
          3.765111789079822e-06,
          3.7805259922891007e-06,
          3.79721127516457e-06,
          3.815138462640425e-06,
          3.834277015717924e-06,
          3.854595090926631e-06,
          3.876059599719658e-06,
          3.898636267627168e-06,
          3.9222896930032995e-06,
          3.946983405213358e-06,
          3.9726799221203845e-06,
          3.999340806742459e-06,
          4.026926722965422e-06,
          4.055397490208564e-06,
          4.0847121369544435e-06,
          4.114828953067467e-06,
          4.145705540839358e-06,
          4.1772988647133245e-06,
          4.209565299651934e-06,
          4.24246067812716e-06,
          4.275940335723666e-06,
          4.3099591553593355e-06,
          4.344471610138979e-06,
          4.37943180486875e-06,
          4.414793516270265e-06,
          4.4505102319434324e-06,
          4.486535188137168e-06,
          4.522821406396072e-06,
          4.559321729159453e-06,
          4.595988854396513e-06,
          4.632775369368175e-06,
          4.669633783611572e-06,
          4.706516561248101e-06,
          4.743376152719513e-06,
          4.780165026059656e-06,
          4.816835697810894e-06,
          4.853340763695297e-06,
          4.889632929150574e-06,
          4.925665039839297e-06,
          4.96139011223806e-06,
          4.996761364410149e-06,
          5.031732247060995e-06,
          5.066256474971184e-06,
          5.100288058895631e-06,
          5.133781338011263e-06,
          5.166691012987884e-06,
          5.198972179749111e-06,
          5.230580363981222e-06,
          5.2614715564386395e-06,
          5.291602249084776e-06,
          5.320929472096579e-06,
          5.349410831750429e-06,
          5.377004549195869e-06,
          5.403669500112425e-06,
          5.429365255233112e-06,
          5.454052121706752e-06,
          5.4776911852595815e-06,
          5.50024435310493e-06,
          5.52167439753864e-06,
          5.54194500014637e-06,
          5.56102079653823e-06,
          5.57886742151579e-06,
          5.5954515545659165e-06,
          5.610740965567116e-06,
          5.624704560584351e-06,
          5.637312427620307e-06,
          5.648535882183501e-06,
          5.658347512526509e-06,
          5.6667212244016785e-06,
          5.673632285176339e-06,
          5.679057367145257e-06,
          5.682974589874615e-06,
          5.685363561409189e-06,
          5.686205418173047e-06,
          5.685482863393368e-06,
          5.683180203877498e-06,
          5.679283384974735e-06,
          5.67378002355672e-06,
          5.666659438853749e-06,
          5.657912680988523e-06,
          5.6475325570542406e-06,
          5.63551365459e-06,
          5.621852362313588e-06,
          5.6065468879795106e-06,
          5.589597273238927e-06,
          5.571005405387349e-06,
          5.550775025896204e-06,
          5.52891173563508e-06,
          5.5054229967025865e-06,
          5.480318130795819e-06,
          5.453608314060394e-06,
          5.425306568375872e-06,
          5.39542774904404e-06,
          5.363988528860968e-06,
          5.331007378566766e-06,
          5.296504543680577e-06,
          5.260502017741649e-06,
          5.223023511990749e-06,
          5.184094421539269e-06,
          5.143741788086644e-06,
          5.101994259259249e-06,
          5.058882044656463e-06,
          5.014436868701738e-06,
          4.9686919204079945e-06,
          4.921681800177756e-06,
          4.8734424637691154e-06,
          4.824011163568485e-06,
          4.773426387320355e-06,
          4.721727794472898e-06,
          4.668956150306303e-06,
          4.615153258017566e-06,
          4.5603618889420855e-06,
          4.504625711097862e-06,
          4.447989216242832e-06,
          4.390497645639763e-06,
          4.3321969147263505e-06,
          4.273133536890291e-06,
          4.213354546550479e-06,
          4.15290742174628e-06,
          4.091840006436423e-06,
          4.030200432708103e-06,
          3.9680370430951275e-06,
          3.905398313201445e-06,
          3.842332774823004e-06,
          3.778888939757001e-06,
          3.7151152244830654e-06,
          3.651059875895513e-06,
          3.5867708982600224e-06,
          3.5222959815618254e-06,
          3.457682431405479e-06,
          3.3929771006189404e-06,
          3.328226322707073e-06,
          3.263475847291374e-06,
          3.1987707776643135e-06,
          3.1341555105780307e-06,
          3.069673678378031e-06,
          3.005368093583345e-06,
          2.9412806960054633e-06,
          2.87745250248868e-06,
          2.8139235593453085e-06,
          2.750732897549392e-06,
          2.6879184907434168e-06
         ],
         "yaxis": "y"
        }
       ],
       "layout": {
        "barmode": "overlay",
        "hovermode": "closest",
        "legend": {
         "traceorder": "reversed"
        },
        "template": {
         "data": {
          "bar": [
           {
            "error_x": {
             "color": "#2a3f5f"
            },
            "error_y": {
             "color": "#2a3f5f"
            },
            "marker": {
             "line": {
              "color": "#E5ECF6",
              "width": 0.5
             },
             "pattern": {
              "fillmode": "overlay",
              "size": 10,
              "solidity": 0.2
             }
            },
            "type": "bar"
           }
          ],
          "barpolar": [
           {
            "marker": {
             "line": {
              "color": "#E5ECF6",
              "width": 0.5
             },
             "pattern": {
              "fillmode": "overlay",
              "size": 10,
              "solidity": 0.2
             }
            },
            "type": "barpolar"
           }
          ],
          "carpet": [
           {
            "aaxis": {
             "endlinecolor": "#2a3f5f",
             "gridcolor": "white",
             "linecolor": "white",
             "minorgridcolor": "white",
             "startlinecolor": "#2a3f5f"
            },
            "baxis": {
             "endlinecolor": "#2a3f5f",
             "gridcolor": "white",
             "linecolor": "white",
             "minorgridcolor": "white",
             "startlinecolor": "#2a3f5f"
            },
            "type": "carpet"
           }
          ],
          "choropleth": [
           {
            "colorbar": {
             "outlinewidth": 0,
             "ticks": ""
            },
            "type": "choropleth"
           }
          ],
          "contour": [
           {
            "colorbar": {
             "outlinewidth": 0,
             "ticks": ""
            },
            "colorscale": [
             [
              0.0,
              "#0d0887"
             ],
             [
              0.1111111111111111,
              "#46039f"
             ],
             [
              0.2222222222222222,
              "#7201a8"
             ],
             [
              0.3333333333333333,
              "#9c179e"
             ],
             [
              0.4444444444444444,
              "#bd3786"
             ],
             [
              0.5555555555555556,
              "#d8576b"
             ],
             [
              0.6666666666666666,
              "#ed7953"
             ],
             [
              0.7777777777777778,
              "#fb9f3a"
             ],
             [
              0.8888888888888888,
              "#fdca26"
             ],
             [
              1.0,
              "#f0f921"
             ]
            ],
            "type": "contour"
           }
          ],
          "contourcarpet": [
           {
            "colorbar": {
             "outlinewidth": 0,
             "ticks": ""
            },
            "type": "contourcarpet"
           }
          ],
          "heatmap": [
           {
            "colorbar": {
             "outlinewidth": 0,
             "ticks": ""
            },
            "colorscale": [
             [
              0.0,
              "#0d0887"
             ],
             [
              0.1111111111111111,
              "#46039f"
             ],
             [
              0.2222222222222222,
              "#7201a8"
             ],
             [
              0.3333333333333333,
              "#9c179e"
             ],
             [
              0.4444444444444444,
              "#bd3786"
             ],
             [
              0.5555555555555556,
              "#d8576b"
             ],
             [
              0.6666666666666666,
              "#ed7953"
             ],
             [
              0.7777777777777778,
              "#fb9f3a"
             ],
             [
              0.8888888888888888,
              "#fdca26"
             ],
             [
              1.0,
              "#f0f921"
             ]
            ],
            "type": "heatmap"
           }
          ],
          "heatmapgl": [
           {
            "colorbar": {
             "outlinewidth": 0,
             "ticks": ""
            },
            "colorscale": [
             [
              0.0,
              "#0d0887"
             ],
             [
              0.1111111111111111,
              "#46039f"
             ],
             [
              0.2222222222222222,
              "#7201a8"
             ],
             [
              0.3333333333333333,
              "#9c179e"
             ],
             [
              0.4444444444444444,
              "#bd3786"
             ],
             [
              0.5555555555555556,
              "#d8576b"
             ],
             [
              0.6666666666666666,
              "#ed7953"
             ],
             [
              0.7777777777777778,
              "#fb9f3a"
             ],
             [
              0.8888888888888888,
              "#fdca26"
             ],
             [
              1.0,
              "#f0f921"
             ]
            ],
            "type": "heatmapgl"
           }
          ],
          "histogram": [
           {
            "marker": {
             "pattern": {
              "fillmode": "overlay",
              "size": 10,
              "solidity": 0.2
             }
            },
            "type": "histogram"
           }
          ],
          "histogram2d": [
           {
            "colorbar": {
             "outlinewidth": 0,
             "ticks": ""
            },
            "colorscale": [
             [
              0.0,
              "#0d0887"
             ],
             [
              0.1111111111111111,
              "#46039f"
             ],
             [
              0.2222222222222222,
              "#7201a8"
             ],
             [
              0.3333333333333333,
              "#9c179e"
             ],
             [
              0.4444444444444444,
              "#bd3786"
             ],
             [
              0.5555555555555556,
              "#d8576b"
             ],
             [
              0.6666666666666666,
              "#ed7953"
             ],
             [
              0.7777777777777778,
              "#fb9f3a"
             ],
             [
              0.8888888888888888,
              "#fdca26"
             ],
             [
              1.0,
              "#f0f921"
             ]
            ],
            "type": "histogram2d"
           }
          ],
          "histogram2dcontour": [
           {
            "colorbar": {
             "outlinewidth": 0,
             "ticks": ""
            },
            "colorscale": [
             [
              0.0,
              "#0d0887"
             ],
             [
              0.1111111111111111,
              "#46039f"
             ],
             [
              0.2222222222222222,
              "#7201a8"
             ],
             [
              0.3333333333333333,
              "#9c179e"
             ],
             [
              0.4444444444444444,
              "#bd3786"
             ],
             [
              0.5555555555555556,
              "#d8576b"
             ],
             [
              0.6666666666666666,
              "#ed7953"
             ],
             [
              0.7777777777777778,
              "#fb9f3a"
             ],
             [
              0.8888888888888888,
              "#fdca26"
             ],
             [
              1.0,
              "#f0f921"
             ]
            ],
            "type": "histogram2dcontour"
           }
          ],
          "mesh3d": [
           {
            "colorbar": {
             "outlinewidth": 0,
             "ticks": ""
            },
            "type": "mesh3d"
           }
          ],
          "parcoords": [
           {
            "line": {
             "colorbar": {
              "outlinewidth": 0,
              "ticks": ""
             }
            },
            "type": "parcoords"
           }
          ],
          "pie": [
           {
            "automargin": true,
            "type": "pie"
           }
          ],
          "scatter": [
           {
            "fillpattern": {
             "fillmode": "overlay",
             "size": 10,
             "solidity": 0.2
            },
            "type": "scatter"
           }
          ],
          "scatter3d": [
           {
            "line": {
             "colorbar": {
              "outlinewidth": 0,
              "ticks": ""
             }
            },
            "marker": {
             "colorbar": {
              "outlinewidth": 0,
              "ticks": ""
             }
            },
            "type": "scatter3d"
           }
          ],
          "scattercarpet": [
           {
            "marker": {
             "colorbar": {
              "outlinewidth": 0,
              "ticks": ""
             }
            },
            "type": "scattercarpet"
           }
          ],
          "scattergeo": [
           {
            "marker": {
             "colorbar": {
              "outlinewidth": 0,
              "ticks": ""
             }
            },
            "type": "scattergeo"
           }
          ],
          "scattergl": [
           {
            "marker": {
             "colorbar": {
              "outlinewidth": 0,
              "ticks": ""
             }
            },
            "type": "scattergl"
           }
          ],
          "scattermapbox": [
           {
            "marker": {
             "colorbar": {
              "outlinewidth": 0,
              "ticks": ""
             }
            },
            "type": "scattermapbox"
           }
          ],
          "scatterpolar": [
           {
            "marker": {
             "colorbar": {
              "outlinewidth": 0,
              "ticks": ""
             }
            },
            "type": "scatterpolar"
           }
          ],
          "scatterpolargl": [
           {
            "marker": {
             "colorbar": {
              "outlinewidth": 0,
              "ticks": ""
             }
            },
            "type": "scatterpolargl"
           }
          ],
          "scatterternary": [
           {
            "marker": {
             "colorbar": {
              "outlinewidth": 0,
              "ticks": ""
             }
            },
            "type": "scatterternary"
           }
          ],
          "surface": [
           {
            "colorbar": {
             "outlinewidth": 0,
             "ticks": ""
            },
            "colorscale": [
             [
              0.0,
              "#0d0887"
             ],
             [
              0.1111111111111111,
              "#46039f"
             ],
             [
              0.2222222222222222,
              "#7201a8"
             ],
             [
              0.3333333333333333,
              "#9c179e"
             ],
             [
              0.4444444444444444,
              "#bd3786"
             ],
             [
              0.5555555555555556,
              "#d8576b"
             ],
             [
              0.6666666666666666,
              "#ed7953"
             ],
             [
              0.7777777777777778,
              "#fb9f3a"
             ],
             [
              0.8888888888888888,
              "#fdca26"
             ],
             [
              1.0,
              "#f0f921"
             ]
            ],
            "type": "surface"
           }
          ],
          "table": [
           {
            "cells": {
             "fill": {
              "color": "#EBF0F8"
             },
             "line": {
              "color": "white"
             }
            },
            "header": {
             "fill": {
              "color": "#C8D4E3"
             },
             "line": {
              "color": "white"
             }
            },
            "type": "table"
           }
          ]
         },
         "layout": {
          "annotationdefaults": {
           "arrowcolor": "#2a3f5f",
           "arrowhead": 0,
           "arrowwidth": 1
          },
          "autotypenumbers": "strict",
          "coloraxis": {
           "colorbar": {
            "outlinewidth": 0,
            "ticks": ""
           }
          },
          "colorscale": {
           "diverging": [
            [
             0,
             "#8e0152"
            ],
            [
             0.1,
             "#c51b7d"
            ],
            [
             0.2,
             "#de77ae"
            ],
            [
             0.3,
             "#f1b6da"
            ],
            [
             0.4,
             "#fde0ef"
            ],
            [
             0.5,
             "#f7f7f7"
            ],
            [
             0.6,
             "#e6f5d0"
            ],
            [
             0.7,
             "#b8e186"
            ],
            [
             0.8,
             "#7fbc41"
            ],
            [
             0.9,
             "#4d9221"
            ],
            [
             1,
             "#276419"
            ]
           ],
           "sequential": [
            [
             0.0,
             "#0d0887"
            ],
            [
             0.1111111111111111,
             "#46039f"
            ],
            [
             0.2222222222222222,
             "#7201a8"
            ],
            [
             0.3333333333333333,
             "#9c179e"
            ],
            [
             0.4444444444444444,
             "#bd3786"
            ],
            [
             0.5555555555555556,
             "#d8576b"
            ],
            [
             0.6666666666666666,
             "#ed7953"
            ],
            [
             0.7777777777777778,
             "#fb9f3a"
            ],
            [
             0.8888888888888888,
             "#fdca26"
            ],
            [
             1.0,
             "#f0f921"
            ]
           ],
           "sequentialminus": [
            [
             0.0,
             "#0d0887"
            ],
            [
             0.1111111111111111,
             "#46039f"
            ],
            [
             0.2222222222222222,
             "#7201a8"
            ],
            [
             0.3333333333333333,
             "#9c179e"
            ],
            [
             0.4444444444444444,
             "#bd3786"
            ],
            [
             0.5555555555555556,
             "#d8576b"
            ],
            [
             0.6666666666666666,
             "#ed7953"
            ],
            [
             0.7777777777777778,
             "#fb9f3a"
            ],
            [
             0.8888888888888888,
             "#fdca26"
            ],
            [
             1.0,
             "#f0f921"
            ]
           ]
          },
          "colorway": [
           "#636efa",
           "#EF553B",
           "#00cc96",
           "#ab63fa",
           "#FFA15A",
           "#19d3f3",
           "#FF6692",
           "#B6E880",
           "#FF97FF",
           "#FECB52"
          ],
          "font": {
           "color": "#2a3f5f"
          },
          "geo": {
           "bgcolor": "white",
           "lakecolor": "white",
           "landcolor": "#E5ECF6",
           "showlakes": true,
           "showland": true,
           "subunitcolor": "white"
          },
          "hoverlabel": {
           "align": "left"
          },
          "hovermode": "closest",
          "mapbox": {
           "style": "light"
          },
          "paper_bgcolor": "white",
          "plot_bgcolor": "#E5ECF6",
          "polar": {
           "angularaxis": {
            "gridcolor": "white",
            "linecolor": "white",
            "ticks": ""
           },
           "bgcolor": "#E5ECF6",
           "radialaxis": {
            "gridcolor": "white",
            "linecolor": "white",
            "ticks": ""
           }
          },
          "scene": {
           "xaxis": {
            "backgroundcolor": "#E5ECF6",
            "gridcolor": "white",
            "gridwidth": 2,
            "linecolor": "white",
            "showbackground": true,
            "ticks": "",
            "zerolinecolor": "white"
           },
           "yaxis": {
            "backgroundcolor": "#E5ECF6",
            "gridcolor": "white",
            "gridwidth": 2,
            "linecolor": "white",
            "showbackground": true,
            "ticks": "",
            "zerolinecolor": "white"
           },
           "zaxis": {
            "backgroundcolor": "#E5ECF6",
            "gridcolor": "white",
            "gridwidth": 2,
            "linecolor": "white",
            "showbackground": true,
            "ticks": "",
            "zerolinecolor": "white"
           }
          },
          "shapedefaults": {
           "line": {
            "color": "#2a3f5f"
           }
          },
          "ternary": {
           "aaxis": {
            "gridcolor": "white",
            "linecolor": "white",
            "ticks": ""
           },
           "baxis": {
            "gridcolor": "white",
            "linecolor": "white",
            "ticks": ""
           },
           "bgcolor": "#E5ECF6",
           "caxis": {
            "gridcolor": "white",
            "linecolor": "white",
            "ticks": ""
           }
          },
          "title": {
           "x": 0.05
          },
          "xaxis": {
           "automargin": true,
           "gridcolor": "white",
           "linecolor": "white",
           "ticks": "",
           "title": {
            "standoff": 15
           },
           "zerolinecolor": "white",
           "zerolinewidth": 2
          },
          "yaxis": {
           "automargin": true,
           "gridcolor": "white",
           "linecolor": "white",
           "ticks": "",
           "title": {
            "standoff": 15
           },
           "zerolinecolor": "white",
           "zerolinewidth": 2
          }
         }
        },
        "title": {
         "text": "Credit Card Transactions Time Density Plot"
        },
        "xaxis": {
         "anchor": "y2",
         "domain": [
          0.0,
          1.0
         ],
         "title": {
          "text": "Time [s]"
         },
         "zeroline": false
        },
        "yaxis": {
         "anchor": "free",
         "domain": [
          0.0,
          1
         ],
         "position": 0.0
        }
       }
      },
      "text/html": [
       "<div>                            <div id=\"abe03022-6fa0-4e7e-81f3-69093c4120f0\" class=\"plotly-graph-div\" style=\"height:525px; width:100%;\"></div>            <script type=\"text/javascript\">                require([\"plotly\"], function(Plotly) {                    window.PLOTLYENV=window.PLOTLYENV || {};                                    if (document.getElementById(\"abe03022-6fa0-4e7e-81f3-69093c4120f0\")) {                    Plotly.newPlot(                        \"abe03022-6fa0-4e7e-81f3-69093c4120f0\",                        [{\"legendgroup\":\"Not Fraud\",\"marker\":{\"color\":\"rgb(31, 119, 180)\"},\"mode\":\"lines\",\"name\":\"Not Fraud\",\"showlegend\":true,\"x\":[0.0,345.584,691.168,1036.752,1382.336,1727.92,2073.504,2419.088,2764.672,3110.256,3455.84,3801.424,4147.008,4492.592,4838.176,5183.76,5529.344,5874.928,6220.512,6566.096,6911.68,7257.264,7602.848,7948.432,8294.016,8639.6,8985.184,9330.768,9676.352,10021.936,10367.52,10713.104,11058.688,11404.272,11749.856,12095.44,12441.024,12786.608,13132.192,13477.776,13823.36,14168.944,14514.528,14860.112,15205.696,15551.28,15896.864,16242.448,16588.032,16933.616,17279.2,17624.784,17970.368,18315.952,18661.536,19007.12,19352.704,19698.288,20043.872,20389.456,20735.04,21080.624,21426.208,21771.792,22117.376,22462.96,22808.544,23154.128,23499.712,23845.296,24190.88,24536.464,24882.048,25227.632,25573.216,25918.8,26264.384,26609.968,26955.552,27301.136,27646.72,27992.304,28337.888,28683.472,29029.056,29374.64,29720.224,30065.808,30411.392,30756.976,31102.56,31448.144,31793.728,32139.312,32484.896,32830.48,33176.064,33521.648,33867.232,34212.816,34558.4,34903.984,35249.568,35595.152,35940.736,36286.32,36631.904,36977.488,37323.072,37668.656,38014.24,38359.824,38705.408,39050.992,39396.576,39742.16,40087.744,40433.328,40778.912,41124.496,41470.08,41815.664,42161.248,42506.832,42852.416,43198.0,43543.584,43889.168,44234.752,44580.336,44925.92,45271.504,45617.088,45962.672,46308.256,46653.84,46999.424,47345.008,47690.592,48036.176,48381.76,48727.344,49072.928,49418.512,49764.096,50109.68,50455.264,50800.848,51146.432,51492.016,51837.6,52183.184,52528.768,52874.352,53219.936,53565.52,53911.104,54256.688,54602.272,54947.856,55293.44,55639.024,55984.608,56330.192,56675.776,57021.36,57366.944,57712.528,58058.112,58403.696,58749.28,59094.864,59440.448,59786.032,60131.616,60477.2,60822.784,61168.368,61513.952,61859.536,62205.12,62550.704,62896.288,63241.872,63587.456,63933.04,64278.624,64624.208,64969.792,65315.376,65660.96,66006.544,66352.128,66697.712,67043.296,67388.88,67734.464,68080.048,68425.632,68771.216,69116.8,69462.384,69807.968,70153.552,70499.136,70844.72,71190.304,71535.888,71881.472,72227.056,72572.64,72918.224,73263.808,73609.392,73954.976,74300.56,74646.144,74991.728,75337.312,75682.896,76028.48,76374.064,76719.648,77065.232,77410.816,77756.4,78101.984,78447.568,78793.152,79138.736,79484.32,79829.904,80175.488,80521.072,80866.656,81212.24,81557.824,81903.408,82248.992,82594.576,82940.16,83285.744,83631.328,83976.912,84322.496,84668.08,85013.664,85359.248,85704.832,86050.416,86396.0,86741.584,87087.168,87432.752,87778.336,88123.92,88469.504,88815.088,89160.672,89506.256,89851.84,90197.424,90543.008,90888.592,91234.176,91579.76,91925.344,92270.928,92616.512,92962.096,93307.68,93653.264,93998.848,94344.432,94690.016,95035.6,95381.184,95726.768,96072.352,96417.936,96763.52,97109.104,97454.688,97800.272,98145.856,98491.44,98837.024,99182.608,99528.192,99873.776,100219.36,100564.944,100910.528,101256.112,101601.696,101947.28,102292.864,102638.448,102984.032,103329.616,103675.2,104020.784,104366.368,104711.952,105057.536,105403.12,105748.704,106094.288,106439.872,106785.456,107131.04,107476.624,107822.208,108167.792,108513.376,108858.96,109204.544,109550.128,109895.712,110241.296,110586.88,110932.464,111278.048,111623.632,111969.216,112314.8,112660.384,113005.968,113351.552,113697.136,114042.72,114388.304,114733.888,115079.472,115425.056,115770.64,116116.224,116461.808,116807.392,117152.976,117498.56,117844.144,118189.728,118535.312,118880.896,119226.48,119572.064,119917.648,120263.232,120608.816,120954.4,121299.984,121645.568,121991.152,122336.736,122682.32,123027.904,123373.488,123719.072,124064.656,124410.24,124755.824,125101.408,125446.992,125792.576,126138.16,126483.744,126829.328,127174.912,127520.496,127866.08,128211.664,128557.248,128902.832,129248.416,129594.0,129939.584,130285.168,130630.752,130976.336,131321.92,131667.504,132013.088,132358.672,132704.256,133049.84,133395.424,133741.008,134086.592,134432.176,134777.76,135123.344,135468.928,135814.512,136160.096,136505.68,136851.264,137196.848,137542.432,137888.016,138233.6,138579.184,138924.768,139270.352,139615.936,139961.52,140307.104,140652.688,140998.272,141343.856,141689.44,142035.024,142380.608,142726.192,143071.776,143417.36,143762.944,144108.528,144454.112,144799.696,145145.28,145490.864,145836.448,146182.032,146527.616,146873.2,147218.784,147564.368,147909.952,148255.536,148601.12,148946.704,149292.288,149637.872,149983.456,150329.04,150674.624,151020.208,151365.792,151711.376,152056.96,152402.544,152748.128,153093.712,153439.296,153784.88,154130.464,154476.048,154821.632,155167.216,155512.8,155858.384,156203.968,156549.552,156895.136,157240.72,157586.304,157931.888,158277.472,158623.056,158968.64,159314.224,159659.808,160005.392,160350.976,160696.56,161042.144,161387.728,161733.312,162078.896,162424.48,162770.064,163115.648,163461.232,163806.816,164152.4,164497.984,164843.568,165189.152,165534.736,165880.32,166225.904,166571.488,166917.072,167262.656,167608.24,167953.824,168299.408,168644.992,168990.576,169336.16,169681.744,170027.328,170372.912,170718.496,171064.08,171409.664,171755.248,172100.832,172446.416],\"xaxis\":\"x\",\"y\":[1.697347456086226e-6,1.7892406860838056e-6,1.8751066622895047e-6,1.9539240211315817e-6,2.0248147874841933e-6,2.0870700001728196e-6,2.1401693523158404e-6,2.1837939471416954e-6,2.2178316034665912e-6,2.242374511761339e-6,2.2577094196194055e-6,2.2643008918188014e-6,2.2627685234050986e-6,2.2538592651662705e-6,2.2384162340774593e-6,2.217345515980265e-6,2.1915825183281395e-6,2.162059397021127e-6,2.1296749680386738e-6,2.095268331193404e-6,2.05959719303171e-6,2.023321594571911e-6,1.9869934446533323e-6,1.9510519490665072e-6,1.9158247265701045e-6,1.8815341310018962e-6,1.8483080671292573e-6,1.8161944068400577e-6,1.785177988507893e-6,1.7551991191213409e-6,1.7261724957825178e-6,1.6980055169883936e-6,1.6706150584078137e-6,1.6439419340972001e-6,1.6179624420037476e-6,1.5926965909610441e-6,1.5682128135695855e-6,1.544629174058958e-6,1.5221112719306263e-6,1.5008672116659285e-6,1.481140148483666e-6,1.46319902439773e-6,1.447328174052436e-6,1.433816504534355e-6,1.422946938147587e-6,1.4149867545429196e-6,1.410179382909212e-6,1.408738081981337e-6,1.4108418124353673e-6,1.416633460726771e-6,1.4262204239961602e-6,1.4396774207779606e-6,1.4570512600447994e-6,1.478367188917408e-6,1.5036363533035317e-6,1.532863850340599e-6,1.566056829463784e-6,1.6032321108015968e-6,1.6444228338374854e-6,1.6896837222361364e-6,1.739094646910136e-6,1.7927622818094237e-6,1.8508197675565135e-6,1.913424418521531e-6,1.980753621024302e-6,2.052999166716722e-6,2.130360339872763e-6,2.213036126211028e-6,2.3012169320790766e-6,2.395076196709398e-6,2.4947622494234817e-6,2.6003907126324243e-6,2.712037686308532e-6,2.8297338772311614e-6,2.9534597639182697e-6,3.083141822512351e-6,3.2186497856324444e-6,3.359794869388642e-6,3.5063288854050637e-6,3.657944154693155e-6,3.8142741563072327e-6,3.97489487181751e-6,4.139326821281706e-6,4.307037821357342e-6,4.477446525210012e-6,4.649926821293155e-6,4.823813169618387e-6,4.998406937320513e-6,5.172983759820729e-6,5.346801901645483e-6,5.5191115259867515e-6,5.689164710128658e-6,5.856225971804274e-6,6.019583006720395e-6,6.178557286896822e-6,6.33251413909087e-6,6.480871916741137e-6,6.623109899729855e-6,6.758774603685426e-6,6.8874842519837105e-6,7.008931254393314e-6,7.122882640061902e-6,7.229178501787336e-6,7.327728615221862e-6,7.418507493160355e-6,7.501548214399436e-6,7.576935423367104e-6,7.64479792710563e-6,7.705301318490012e-6,7.758641029150601e-6,7.805036164694744e-6,7.844724402420202e-6,7.877958143023881e-6,7.905002009088228e-6,7.926131680880564e-6,7.94163396095993e-6,7.951807869479588e-6,7.95696649738327e-6,7.957439289376487e-6,7.95357439583249e-6,7.945740724359432e-6,7.93432933796e-6,7.919753886306895e-6,7.90244981707093e-6,7.88287219158645e-6,7.861492018651871e-6,7.83879111631714e-6,7.815255608175426e-6,7.791368252068972e-6,7.767599879605554e-6,7.744400289671187e-6,7.722188984437173e-6,7.701346159669049e-6,7.682204361436706e-6,7.665041198951465e-6,7.65007346006783e-6,7.637452914970817e-6,7.627264018689671e-6,7.619523638961723e-6,7.61418284739335e-6,7.611130723686314e-6,7.610200039221739e-6,7.611174611300591e-6,7.613798055773268e-6,7.617783615693654e-6,7.6228247082879535e-6,7.62860581233097e-6,7.634813312831111e-6,7.641145929061619e-6,7.647324374415867e-6,7.65309993110634e-6,7.658261667941963e-6,7.662642083793558e-6,7.666121021265789e-6,7.668627762522012e-6,7.670141290160318e-6,7.670688767914203e-6,7.670342366006724e-6,7.669214621200134e-6,7.667452578692807e-6,7.665231008939398e-6,7.662745024280962e-6,7.660202435730384e-6,7.657816187892279e-6,7.655797189368887e-6,7.654347818073842e-6,7.65365632767946e-6,7.653892316465032e-6,7.655203347519245e-6,7.657712734803747e-6,7.66151843861622e-6,7.666692951868367e-6,7.673284010222378e-6,7.681315928223042e-6,7.690791352390222e-6,7.701693231398637e-6,7.713986831543372e-6,7.727621669694344e-6,7.742533291007228e-6,7.758644879036125e-6,7.775868744871467e-6,7.794107793011539e-6,7.813257098720034e-6,7.833205749804441e-6,7.853839101993095e-6,7.875041570289478e-6,7.896700030201666e-6,7.91870783609131e-6,7.940969384640015e-6,7.963405066766165e-6,7.98595636928918e-6,8.008590816494447e-6,8.031306389214006e-6,8.054135031363684e-6,8.077144855419422e-6,8.100440690962875e-6,8.12416268335992e-6,8.148482739462418e-6,8.173598728157823e-6,8.199726468138793e-6,8.227089664610314e-6,8.255908081986769e-6,8.28638435222761e-6,8.318689911131436e-6,8.352950622010562e-6,8.389232684289143e-6,8.427529432517221e-6,8.467749609997747e-6,8.5097076534679e-6,8.553116455128343e-6,8.59758298070585e-6,8.642607022227291e-6,8.687583256706541e-6,8.731806671225067e-6,8.774481304367468e-6,8.814732146393526e-6,8.851619937765269e-6,8.884158509418363e-6,8.911334219899884e-6,8.932126965959673e-6,8.945532176540064e-6,8.95058314809604e-6,8.946373044910814e-6,8.932075875017873e-6,8.906965763680835e-6,8.870433884729148e-6,8.822002476833969e-6,8.761335466860958e-6,8.688245343573295e-6,8.602696067955016e-6,8.504801964908307e-6,8.394822707027359e-6,8.273154665238242e-6,8.140319053533444e-6,7.996947426325067e-6,7.843765188647893e-6,7.681573845069685e-6,7.511232738581267e-6,7.33364101471729e-6,7.149720490327954e-6,6.960400015284128e-6,6.76660179574194e-6,6.5692300080250655e-6,6.369161882344767e-6,6.167241285296679e-6,5.964274688715284e-6,5.7610292881530164e-6,5.558232933420785e-6,5.3565754606671604e-6,5.156710972657441e-6,4.959260601368877e-6,4.764815303057657e-6,4.5739382773489956e-6,4.3871666642909316e-6,4.205012251683968e-6,4.027961014003517e-6,3.856471398599545e-6,3.6909713696184227e-6,3.5318543107640014e-6,3.3794739707040134e-6,3.2341387063642493e-6,3.09610533689418e-6,2.965572962654928e-6,2.842677127687104e-6,2.727484709805115e-6,2.619989909357818e-6,2.520111676015091e-6,2.427692863569815e-6,2.342501337296398e-6,2.264233179246592e-6,2.192518047148749e-6,2.1269266461765223e-6,2.0669801742745345e-6,2.012161505894253e-6,1.9619277910244224e-6,1.9157240712834857e-6,1.8729974570884043e-6,1.8332113732540546e-6,1.7958593673801985e-6,1.7604779872841177e-6,1.7266582702356212e-6,1.694055445992837e-6,1.6623965343016347e-6,1.6314856110536923e-6,1.6012066201757071e-6,1.5715237145407142e-6,1.5424792126083194e-6,1.5141893523611344e-6,1.4868381053923456e-6,1.4606693777951228e-6,1.4359779681991328e-6,1.4130996757281782e-6,1.3924009520549702e-6,1.3742684736943764e-6,1.3590989758662608e-6,1.3472896412160876e-6,1.3392292794638088e-6,1.3352904719533155e-6,1.335822792319559e-6,1.341147154951964e-6,1.3515512899463576e-6,1.36728629939042e-6,1.3885642169032805e-6,1.4155564712147415e-6,1.4483931452166274e-6,1.4871629234741587e-6,1.531913632014335e-6,1.5826532920302118e-6,1.6393516311859596e-6,1.7019420194297466e-6,1.770323817488097e-6,1.8443651425656395e-6,1.9239060646457227e-6,2.0087622462564445e-6,2.098729027519551e-6,2.1935859366460467e-6,2.2931015747103575e-6,2.3970387845923e-6,2.5051599704428945e-6,2.6172323897750845e-6,2.7330331997486774e-6,2.8523540070366512e-6,2.9750046513343243e-6,3.1008159500099968e-6,3.229641148489611e-6,3.361355859316422e-6,3.49585633235638e-6,3.6330559775247643e-6,3.77288015605973e-6,3.915259361504394e-6,4.0601210205601614e-6,4.20738024928744e-6,4.356929993860334e-6,4.508631059529288e-6,4.662302579861018e-6,4.817713495387055e-6,4.97457559321582e-6,5.132538606064657e-6,5.291187782149383e-6,5.4500442207274745e-6,5.60856812831968e-6,5.7661649962831695e-6,5.922194541198147e-6,6.075982095987878e-6,6.226832001933775e-6,6.374042439169836e-6,6.516921053370932e-6,6.6548006945818544e-6,6.787054583109831e-6,6.913110256888775e-6,7.032461731690977e-6,7.144679414247741e-6,7.249417441023877e-6,7.3464182626032205e-6,7.435514445358026e-6,7.516627808025062e-6,7.589766141684623e-6,7.655017869381519e-6,7.712545080304945e-6,7.76257541936528e-6,7.805393325111688e-6,7.841331088565962e-6,7.870760156336691e-6,7.894083028920017e-6,7.911726016105932e-6,7.924133013618895e-6,7.931760366075156e-6,7.935072788425494e-6,7.934540237282671e-6,7.930635559896009e-6,7.923832705051017e-6,7.914605258270494e-6,7.903425063041482e-6,7.890760708466107e-6,7.877075698645939e-6,7.862826166202862e-6,7.848458047158569e-6,7.834403692290484e-6,7.821077946804908e-6,7.808873781945643e-6,7.798157606035696e-6,7.789264416363833e-6,7.782492976151726e-6,7.77810121225941e-6,7.776302029754061e-6,7.777259729962855e-6,7.781087200522531e-6,7.787844020759934e-6,7.797535595084253e-6,7.810113392411539e-6,7.825476332418608e-6,7.843473320742812e-6,7.86390689633336e-6,7.88653791592843e-6,7.911091164212854e-6,7.93726174456668e-6,7.964722075703524e-6,7.993129295076801e-6,8.022132851958381e-6,8.051382062851659e-6,8.080533400309721e-6,8.10925729415988e-6,8.137244241794065e-6,8.164210051465264e-6,8.189900078482423e-6,8.214092357438593e-6,8.236599582026864e-6,8.257269934935509e-6,8.275986820935606e-6,8.292667603341434e-6,8.307261484600059e-6,8.319746703096486e-6,8.330127238270177e-6,8.338429223485027e-6,8.344697260356942e-6,8.348990810121105e-6,8.351380808722834e-6,8.351946615214956e-6,8.350773361117179e-6,8.347949725304532e-6,8.343566118802322e-6,8.337713230093595e-6,8.330480857437749e-6,8.321956942328969e-6,8.312226718654158e-6,8.301371904984082e-6,8.28946989113086e-6,8.276592901670643e-6,8.262807154751018e-6,8.24817206964307e-6,8.232739606528501e-6,8.216553842656714e-6,8.199650896786162e-6,8.18205930653018e-6,8.163800940243854e-6,8.14489248744238e-6,8.125347522248057e-6,8.10517907716839e-6,8.084402605008577e-6,8.063039150737193e-6,8.041118508591435e-6,8.018682107831933e-6,7.995785357477929e-6,7.972499188554663e-6,7.948910562417719e-6,7.92512176427102e-6,7.90124836881024e-6,7.877415845168722e-6,7.853754855151372e-6,7.830395385603204e-6,7.807459936140123e-6,7.785056051576906e-6,7.76326853923214e-6,7.742151741544881e-6,7.721722242233108e-6,7.701952369437012e-6,7.682764823383586e-6,7.664028701862044e-6,7.645557128088684e-6,7.627106606879589e-6,7.608378151350866e-6,7.589020138440517e-6,7.5686327720261705e-6,7.546773961324201e-6,7.522966363070486e-6,7.4967052913752334e-6,7.467467171099337e-6,7.434718200257147e-6,7.397922894775452e-6,7.356552214556368e-6,7.31009101210078e-6,7.258044602058914e-6,7.199944319248215e-6,7.135352010448104e-6,7.063863487342652e-6,6.985111049446798e-6,6.898765261309e-6,6.804536232139017e-6,6.702174692783636e-6,6.591473189773025e-6,6.4722677150522574e-6,6.3444400605795025e-6,6.207921128630467e-6,6.062695343022793e-6,5.908806197528005e-6,5.746362851759736e-6,5.5755475501749955e-6,5.396623506475834e-6,5.209942774562255e-6,5.015953529263215e-6,4.815206115540978e-6,4.608357202072425e-6,4.396171399757077e-6,4.17951978005933e-6,3.959374850598455e-6,3.736801710492047e-6,3.512945306302105e-6,3.2890139285170335e-6,3.066259313514767e-6,2.84595393096583e-6],\"yaxis\":\"y\",\"type\":\"scatter\"},{\"legendgroup\":\"Fraud\",\"marker\":{\"color\":\"rgb(255, 127, 14)\"},\"mode\":\"lines\",\"name\":\"Fraud\",\"showlegend\":true,\"x\":[406.0,745.884,1085.768,1425.652,1765.536,2105.42,2445.304,2785.188,3125.072,3464.956,3804.84,4144.724,4484.608,4824.492,5164.376,5504.26,5844.144,6184.028,6523.912,6863.796,7203.68,7543.564,7883.448,8223.332,8563.216,8903.1,9242.984,9582.868,9922.752,10262.636,10602.52,10942.404,11282.288,11622.172,11962.056,12301.94,12641.824,12981.708,13321.592,13661.476,14001.36,14341.244,14681.128,15021.012,15360.896,15700.78,16040.664,16380.548,16720.432,17060.316,17400.2,17740.084,18079.968,18419.852,18759.736,19099.62,19439.504,19779.388,20119.272,20459.156,20799.04,21138.924,21478.808,21818.692,22158.576,22498.46,22838.344,23178.228,23518.112,23857.996,24197.88,24537.764,24877.648,25217.532,25557.416,25897.3,26237.184,26577.068,26916.952,27256.836,27596.72,27936.604,28276.488,28616.372,28956.256,29296.14,29636.024,29975.908,30315.792,30655.676,30995.56,31335.444,31675.328,32015.212,32355.096,32694.98,33034.864,33374.748,33714.632,34054.516,34394.4,34734.284,35074.168,35414.052,35753.936,36093.82,36433.704,36773.588,37113.472,37453.356,37793.24,38133.124,38473.008,38812.892,39152.776,39492.66,39832.544,40172.428,40512.312,40852.196,41192.08,41531.964,41871.848,42211.732,42551.616,42891.5,43231.384,43571.268,43911.152,44251.036,44590.92,44930.804,45270.688,45610.572,45950.456,46290.34,46630.224,46970.108,47309.992,47649.876,47989.76,48329.644,48669.528,49009.412,49349.296,49689.18,50029.064,50368.948,50708.832,51048.716,51388.6,51728.484,52068.368,52408.252,52748.136,53088.02,53427.904,53767.788,54107.672,54447.556,54787.44,55127.324,55467.208,55807.092,56146.976,56486.86,56826.744,57166.628,57506.512,57846.396,58186.28,58526.164,58866.048,59205.932,59545.816,59885.7,60225.584,60565.468,60905.352,61245.236,61585.12,61925.004,62264.888,62604.772,62944.656,63284.54,63624.424,63964.308,64304.192,64644.076,64983.96,65323.844,65663.728,66003.612,66343.496,66683.38,67023.264,67363.148,67703.032,68042.916,68382.8,68722.684,69062.568,69402.452,69742.336,70082.22,70422.104,70761.988,71101.872,71441.756,71781.64,72121.524,72461.408,72801.292,73141.176,73481.06,73820.944,74160.828,74500.712,74840.596,75180.48,75520.364,75860.248,76200.132,76540.016,76879.9,77219.784,77559.668,77899.552,78239.436,78579.32,78919.204,79259.088,79598.972,79938.856,80278.74,80618.624,80958.508,81298.392,81638.276,81978.16,82318.044,82657.928,82997.812,83337.696,83677.58,84017.464,84357.348,84697.232,85037.116,85377.0,85716.884,86056.768,86396.652,86736.536,87076.42,87416.304,87756.188,88096.072,88435.956,88775.84,89115.724,89455.608,89795.492,90135.376,90475.26,90815.144,91155.028,91494.912,91834.796,92174.68,92514.564,92854.448,93194.332,93534.216,93874.1,94213.984,94553.868,94893.752,95233.636,95573.52,95913.404,96253.288,96593.172,96933.056,97272.94,97612.824,97952.708,98292.592,98632.476,98972.36,99312.244,99652.128,99992.012,100331.896,100671.78,101011.664,101351.548,101691.432,102031.316,102371.2,102711.084,103050.968,103390.852,103730.736,104070.62,104410.504,104750.388,105090.272,105430.156,105770.04,106109.924,106449.808,106789.692,107129.576,107469.46,107809.344,108149.228,108489.112,108828.996,109168.88,109508.764,109848.648,110188.532,110528.416,110868.3,111208.184,111548.068,111887.952,112227.836,112567.72,112907.604,113247.488,113587.372,113927.256,114267.14,114607.024,114946.908,115286.792,115626.676,115966.56,116306.444,116646.328,116986.212,117326.096,117665.98,118005.864,118345.748,118685.632,119025.516,119365.4,119705.284,120045.168,120385.052,120724.936,121064.82,121404.704,121744.588,122084.472,122424.356,122764.24,123104.124,123444.008,123783.892,124123.776,124463.66,124803.544,125143.428,125483.312,125823.196,126163.08,126502.964,126842.848,127182.732,127522.616,127862.5,128202.384,128542.268,128882.152,129222.036,129561.92,129901.804,130241.688,130581.572,130921.456,131261.34,131601.224,131941.108,132280.992,132620.876,132960.76,133300.644,133640.528,133980.412,134320.296,134660.18,135000.064,135339.948,135679.832,136019.716,136359.6,136699.484,137039.368,137379.252,137719.136,138059.02,138398.904,138738.788,139078.672,139418.556,139758.44,140098.324,140438.208,140778.092,141117.976,141457.86,141797.744,142137.628,142477.512,142817.396,143157.28,143497.164,143837.048,144176.932,144516.816,144856.7,145196.584,145536.468,145876.352,146216.236,146556.12,146896.004,147235.888,147575.772,147915.656,148255.54,148595.424,148935.308,149275.192,149615.076,149954.96,150294.844,150634.728,150974.612,151314.496,151654.38,151994.264,152334.148,152674.032,153013.916,153353.8,153693.684,154033.568,154373.452,154713.336,155053.22,155393.104,155732.988,156072.872,156412.756,156752.64,157092.524,157432.408,157772.292,158112.176,158452.06,158791.944,159131.828,159471.712,159811.596,160151.48,160491.364,160831.248,161171.132,161511.016,161850.9,162190.784,162530.668,162870.552,163210.436,163550.32,163890.204,164230.088,164569.972,164909.856,165249.74,165589.624,165929.508,166269.392,166609.276,166949.16,167289.044,167628.928,167968.812,168308.696,168648.58,168988.464,169328.348,169668.232,170008.116],\"xaxis\":\"x\",\"y\":[2.5725270199184186e-6,2.6310058058129387e-6,2.6897686304363113e-6,2.748786647363209e-6,2.8080309928186174e-6,2.867472852442724e-6,2.9270835279276285e-6,2.9868345032672523e-6,3.0466975103604765e-6,3.106644593707739e-6,3.1666481739421243e-6,3.226681109938766e-6,3.286716759249754e-6,3.3467290366169334e-6,3.4066924703207853e-6,3.4665822561312507e-6,3.5263743086346612e-6,3.586045309720728e-6,3.645572754024372e-6,3.704934991128807e-6,3.764111264349628e-6,3.823081745932931e-6,3.8818275685156236e-6,3.940330852711665e-6,3.998574730703818e-6,4.056543365738183e-6,4.114221967435876e-6,4.171596802854251e-6,4.22865520324932e-6,4.2853855665086814e-6,4.341777355244726e-6,4.397821090555966e-6,4.453508341484275e-6,4.508831710215101e-6,4.563784813086301e-6,4.618362257490829e-6,4.672559614776593e-6,4.726373389264856e-6,4.779800983526774e-6,4.832840660073917e-6,4.885491499635645e-6,4.937753356211278e-6,4.989626809100186e-6,5.041113112126349e-6,5.092214140287206e-6,5.142932334068027e-6,5.193270641674183e-6,5.2432324594427434e-6,5.292821570703958e-6,5.342042083369238e-6,5.390898366529313e-6,5.439394986349832e-6,5.487536641555415e-6,5.53532809879497e-6,5.5827741281816e-6,5.629879439299518e-6,5.676648617968544e-6,5.7230860640530265e-6,5.769195930597303e-6,5.814982064563845e-6,5.860447949442463e-6,5.905596649991412e-6,5.9504307593597875e-6,5.9949523488313795e-6,6.039162920417333e-6,6.083063362511553e-6,6.126653908809835e-6,6.169934100677941e-6,6.212902753138355e-6,6.255557924628919e-6,6.297896890669667e-6,6.339916121555686e-6,6.381611264176304e-6,6.422977128041518e-6,6.464007675577934e-6,6.504696016736774e-6,6.545034407937353e-6,6.58501425534952e-6,6.6246261224990165e-6,6.663859742160641e-6,6.702704032484233e-6,6.7411471172800726e-6,6.779176350371274e-6,6.816778343903149e-6,6.85393900048132e-6,6.890643548994117e-6,6.926876583958109e-6,6.962622108210547e-6,6.997863578757841e-6,7.032583955575589e-6,7.066765753143316e-6,7.100391094485444e-6,7.133441767479521e-6,7.165899283183914e-6,7.197744935928864e-6,7.228959864908297e-6,7.2595251170041e-6,7.289421710570782e-6,7.318630699905537e-6,7.34713324012691e-6,7.3749106521859724e-6,7.401944487734288e-6,7.4282165935761576e-6,7.453709175436183e-6,7.478404860778613e-6,7.5022867604211935e-6,7.525338528694e-6,7.547544421902763e-6,7.568889354865974e-6,7.589358955305964e-6,7.608939615886946e-6,7.627618543704963e-6,7.645383807049724e-6,7.662224379271767e-6,7.678130179605082e-6,7.693092110809927e-6,7.707102093518341e-6,7.720153097180765e-6,7.73223916753028e-6,7.74335545049777e-6,7.753498212529612e-6,7.762664857276409e-6,7.770853938639618e-6,7.778065170179878e-6,7.784299430908184e-6,7.789558767497564e-6,7.793846392970039e-6,7.797166681927951e-6,7.799525162415758e-6,7.800928504511102e-6,7.801384505758749e-6,7.800902073572754e-6,7.79949120474543e-6,7.79716296221043e-6,7.793929449219127e-6,7.7898037810964e-6,7.784800054750648e-6,7.778933316118147e-6,7.772219525727596e-6,7.764675522574616e-6,7.756318986497791e-6,7.747168399250415e-6,7.737243004461252e-6,7.726562766677174e-6,7.715148329678113e-6,7.703020974251558e-6,7.690202575608856e-6,7.676715560620782e-6,7.662582865042436e-6,7.647827890890533e-6,7.632474464127642e-6,7.61654679279824e-6,7.600069425751879e-6,7.583067212077928e-6,7.565565261364993e-6,7.547588904886183e-6,7.529163657799741e-6,7.5103151824412315e-6,7.491069252771464e-6,7.471451720031028e-6,7.451488479639303e-6,7.431205439363627e-6,7.410628488770476e-6,7.3897834699591784e-6,7.368696149565698e-6,7.347392192012734e-6,7.325897133970946e-6,7.304236359985557e-6,7.282435079212542e-6,7.260518303199248e-6,7.238510824635932e-6,7.21643719699678e-6,7.194321714982593e-6,7.172188395671026e-6,7.150060960275749e-6,7.127962816411894e-6,7.105917040762377e-6,7.083946362037864e-6,7.062073144122659e-6,7.0403193692987845e-6,7.018706621442342e-6,6.997256069088543e-6,6.97598844826533e-6,6.954924045000071e-6,6.934082677409289e-6,6.9134836772881055e-6,6.8931458711228284e-6,6.873087560459115e-6,6.853326501566601e-6,6.8338798843506185e-6,6.8147643104725706e-6,6.795995770650812e-6,6.777589621125901e-6,6.759560559286023e-6,6.7419225984606654e-6,6.724689041902918e-6,6.707872455994472e-6,6.691484642719272e-6,6.6755366114657315e-6,6.660038550229452e-6,6.644999796301856e-6,6.630428806542278e-6,6.6163331273431365e-6,6.6027193644101595e-6,6.589593152489993e-6,6.576959125189143e-6,6.564820885037666e-6,6.553180973960314e-6,6.542040844326773e-6,6.531400830759609e-6,6.521260122885778e-6,6.511616739222865e-6,6.502467502396012e-6,6.493808015884789e-6,6.485632642502066e-6,6.477934484807597e-6,6.470705367659421e-6,6.463935823104735e-6,6.457615077809518e-6,6.451731043222338e-6,6.446270308662629e-6,6.441218137517905e-6,6.436558466726337e-6,6.43227390971253e-6,6.428345762934643e-6,6.424754016189529e-6,6.421477366810481e-6,6.418493237878816e-6,6.415777800556126e-6,6.413306000628759e-6,6.411051589339758e-6,6.4089871585665144e-6,6.407084180384329e-6,6.405313051037887e-6,6.4036431393233005e-6,6.402042839363785e-6,6.400479627742148e-6,6.398920124932859e-6,6.397330160956058e-6,6.395674845154956e-6,6.39391863997806e-6,6.39202543862633e-6,6.389958646405969e-6,6.387681265607016e-6,6.385155983708637e-6,6.382345264692885e-6,6.379211443230841e-6,6.375716821486896e-6,6.371823768270628e-6,6.367494820249904e-6,6.362692784924034e-6,6.357380845042474e-6,6.35152266414181e-6,6.345082492863204e-6,6.338025275702306e-6,6.3303167578356885e-6,6.321923591660976e-6,6.312813442682563e-6,6.302955094371124e-6,6.292318551623298e-6,6.2808751424471336e-6,6.268597617500529e-6,6.255460247112576e-6,6.2414389154223915e-6,6.226511211276388e-6,6.210656515532497e-6,6.193856084429971e-6,6.176093128693818e-6,6.157352888056185e-6,6.137622700890802e-6,6.1168920686722895e-6,6.09515271498915e-6,6.072398638857374e-6,6.048626162101344e-6,6.023833970588854e-6,5.998023149129176e-6,5.9711972098654e-6,5.943362114015652e-6,5.914526286842006e-6,5.884700625750639e-6,5.853898501451925e-6,5.822135752134672e-6,5.789430670634891e-6,5.7558039846049595e-6,5.721278829715634e-6,5.685880715948575e-6,5.649637487063373e-6,5.612579273347978e-6,5.57473843778623e-6,5.536149515800898e-6,5.496849148753551e-6,5.4568760114060885e-6,5.416270733570009e-6,5.375075816190753e-6,5.3333355421342156e-6,5.291095881960869e-6,5.248404394990799e-6,5.205310125978372e-6,5.161863497730502e-6,5.11811620001525e-6,5.074121075119355e-6,5.029932000423423e-6,4.985603768372087e-6,4.941191964223304e-6,4.896752841966395e-6,4.852343198802163e-6,4.80802024858019e-6,4.763841494589364e-6,4.719864602095872e-6,4.676147271020594e-6,4.632747109143137e-6,4.589721506214108e-6,4.54712750934956e-6,4.505021700072855e-6,4.463460073358999e-6,4.4224979190248335e-6,4.382189705795714e-6,4.342588968365246e-6,4.303748197749749e-6,4.265718735222607e-6,4.2285506700970366e-6,4.192292741607468e-6,4.156992245121313e-6,4.122694942893465e-6,4.089444979555857e-6,4.057284802514109e-6,4.0262550874025305e-6,3.996394668727529e-6,3.967740475808403e-6,3.940327474103151e-6,3.914188611985556e-6,3.889354773018637e-6,3.865854733748631e-6,3.843715127022968e-6,3.822960410815291e-6,3.803612842520981e-6,3.785692458667051e-6,3.769217059961994e-6,3.754202201592923e-6,3.740661188660427e-6,3.728605076625153e-6,3.718042676624745e-6,3.708980565505328e-6,3.701423100398431e-6,3.695372437661674e-6,3.690828555990535e-6,3.687789283498205e-6,3.686250328551705e-6,3.686205314144638e-6,3.6876458155803848e-6,3.6905614012342003e-6,3.6949396761586572e-6,3.7007663282937523e-6,3.7080251770415623e-6,3.716698223964658e-6,3.7267657053682896e-6,3.738206146528158e-6,3.750996417328554e-6,3.765111789079822e-6,3.7805259922891007e-6,3.79721127516457e-6,3.815138462640425e-6,3.834277015717924e-6,3.854595090926631e-6,3.876059599719658e-6,3.898636267627168e-6,3.9222896930032995e-6,3.946983405213358e-6,3.9726799221203845e-6,3.999340806742459e-6,4.026926722965422e-6,4.055397490208564e-6,4.0847121369544435e-6,4.114828953067467e-6,4.145705540839358e-6,4.1772988647133245e-6,4.209565299651934e-6,4.24246067812716e-6,4.275940335723666e-6,4.3099591553593355e-6,4.344471610138979e-6,4.37943180486875e-6,4.414793516270265e-6,4.4505102319434324e-6,4.486535188137168e-6,4.522821406396072e-6,4.559321729159453e-6,4.595988854396513e-6,4.632775369368175e-6,4.669633783611572e-6,4.706516561248101e-6,4.743376152719513e-6,4.780165026059656e-6,4.816835697810894e-6,4.853340763695297e-6,4.889632929150574e-6,4.925665039839297e-6,4.96139011223806e-6,4.996761364410149e-6,5.031732247060995e-6,5.066256474971184e-6,5.100288058895631e-6,5.133781338011263e-6,5.166691012987884e-6,5.198972179749111e-6,5.230580363981222e-6,5.2614715564386395e-6,5.291602249084776e-6,5.320929472096579e-6,5.349410831750429e-6,5.377004549195869e-6,5.403669500112425e-6,5.429365255233112e-6,5.454052121706752e-6,5.4776911852595815e-6,5.50024435310493e-6,5.52167439753864e-6,5.54194500014637e-6,5.56102079653823e-6,5.57886742151579e-6,5.5954515545659165e-6,5.610740965567116e-6,5.624704560584351e-6,5.637312427620307e-6,5.648535882183501e-6,5.658347512526509e-6,5.6667212244016785e-6,5.673632285176339e-6,5.679057367145257e-6,5.682974589874615e-6,5.685363561409189e-6,5.686205418173047e-6,5.685482863393368e-6,5.683180203877498e-6,5.679283384974735e-6,5.67378002355672e-6,5.666659438853749e-6,5.657912680988523e-6,5.6475325570542406e-6,5.63551365459e-6,5.621852362313588e-6,5.6065468879795106e-6,5.589597273238927e-6,5.571005405387349e-6,5.550775025896204e-6,5.52891173563508e-6,5.5054229967025865e-6,5.480318130795819e-6,5.453608314060394e-6,5.425306568375872e-6,5.39542774904404e-6,5.363988528860968e-6,5.331007378566766e-6,5.296504543680577e-6,5.260502017741649e-6,5.223023511990749e-6,5.184094421539269e-6,5.143741788086644e-6,5.101994259259249e-6,5.058882044656463e-6,5.014436868701738e-6,4.9686919204079945e-6,4.921681800177756e-6,4.8734424637691154e-6,4.824011163568485e-6,4.773426387320355e-6,4.721727794472898e-6,4.668956150306303e-6,4.615153258017566e-6,4.5603618889420855e-6,4.504625711097862e-6,4.447989216242832e-6,4.390497645639763e-6,4.3321969147263505e-6,4.273133536890291e-6,4.213354546550479e-6,4.15290742174628e-6,4.091840006436423e-6,4.030200432708103e-6,3.9680370430951275e-6,3.905398313201445e-6,3.842332774823004e-6,3.778888939757001e-6,3.7151152244830654e-6,3.651059875895513e-6,3.5867708982600224e-6,3.5222959815618254e-6,3.457682431405479e-6,3.3929771006189404e-6,3.328226322707073e-6,3.263475847291374e-6,3.1987707776643135e-6,3.1341555105780307e-6,3.069673678378031e-6,3.005368093583345e-6,2.9412806960054633e-6,2.87745250248868e-6,2.8139235593453085e-6,2.750732897549392e-6,2.6879184907434168e-6],\"yaxis\":\"y\",\"type\":\"scatter\"}],                        {\"barmode\":\"overlay\",\"hovermode\":\"closest\",\"legend\":{\"traceorder\":\"reversed\"},\"template\":{\"data\":{\"barpolar\":[{\"marker\":{\"line\":{\"color\":\"#E5ECF6\",\"width\":0.5},\"pattern\":{\"fillmode\":\"overlay\",\"size\":10,\"solidity\":0.2}},\"type\":\"barpolar\"}],\"bar\":[{\"error_x\":{\"color\":\"#2a3f5f\"},\"error_y\":{\"color\":\"#2a3f5f\"},\"marker\":{\"line\":{\"color\":\"#E5ECF6\",\"width\":0.5},\"pattern\":{\"fillmode\":\"overlay\",\"size\":10,\"solidity\":0.2}},\"type\":\"bar\"}],\"carpet\":[{\"aaxis\":{\"endlinecolor\":\"#2a3f5f\",\"gridcolor\":\"white\",\"linecolor\":\"white\",\"minorgridcolor\":\"white\",\"startlinecolor\":\"#2a3f5f\"},\"baxis\":{\"endlinecolor\":\"#2a3f5f\",\"gridcolor\":\"white\",\"linecolor\":\"white\",\"minorgridcolor\":\"white\",\"startlinecolor\":\"#2a3f5f\"},\"type\":\"carpet\"}],\"choropleth\":[{\"colorbar\":{\"outlinewidth\":0,\"ticks\":\"\"},\"type\":\"choropleth\"}],\"contourcarpet\":[{\"colorbar\":{\"outlinewidth\":0,\"ticks\":\"\"},\"type\":\"contourcarpet\"}],\"contour\":[{\"colorbar\":{\"outlinewidth\":0,\"ticks\":\"\"},\"colorscale\":[[0.0,\"#0d0887\"],[0.1111111111111111,\"#46039f\"],[0.2222222222222222,\"#7201a8\"],[0.3333333333333333,\"#9c179e\"],[0.4444444444444444,\"#bd3786\"],[0.5555555555555556,\"#d8576b\"],[0.6666666666666666,\"#ed7953\"],[0.7777777777777778,\"#fb9f3a\"],[0.8888888888888888,\"#fdca26\"],[1.0,\"#f0f921\"]],\"type\":\"contour\"}],\"heatmapgl\":[{\"colorbar\":{\"outlinewidth\":0,\"ticks\":\"\"},\"colorscale\":[[0.0,\"#0d0887\"],[0.1111111111111111,\"#46039f\"],[0.2222222222222222,\"#7201a8\"],[0.3333333333333333,\"#9c179e\"],[0.4444444444444444,\"#bd3786\"],[0.5555555555555556,\"#d8576b\"],[0.6666666666666666,\"#ed7953\"],[0.7777777777777778,\"#fb9f3a\"],[0.8888888888888888,\"#fdca26\"],[1.0,\"#f0f921\"]],\"type\":\"heatmapgl\"}],\"heatmap\":[{\"colorbar\":{\"outlinewidth\":0,\"ticks\":\"\"},\"colorscale\":[[0.0,\"#0d0887\"],[0.1111111111111111,\"#46039f\"],[0.2222222222222222,\"#7201a8\"],[0.3333333333333333,\"#9c179e\"],[0.4444444444444444,\"#bd3786\"],[0.5555555555555556,\"#d8576b\"],[0.6666666666666666,\"#ed7953\"],[0.7777777777777778,\"#fb9f3a\"],[0.8888888888888888,\"#fdca26\"],[1.0,\"#f0f921\"]],\"type\":\"heatmap\"}],\"histogram2dcontour\":[{\"colorbar\":{\"outlinewidth\":0,\"ticks\":\"\"},\"colorscale\":[[0.0,\"#0d0887\"],[0.1111111111111111,\"#46039f\"],[0.2222222222222222,\"#7201a8\"],[0.3333333333333333,\"#9c179e\"],[0.4444444444444444,\"#bd3786\"],[0.5555555555555556,\"#d8576b\"],[0.6666666666666666,\"#ed7953\"],[0.7777777777777778,\"#fb9f3a\"],[0.8888888888888888,\"#fdca26\"],[1.0,\"#f0f921\"]],\"type\":\"histogram2dcontour\"}],\"histogram2d\":[{\"colorbar\":{\"outlinewidth\":0,\"ticks\":\"\"},\"colorscale\":[[0.0,\"#0d0887\"],[0.1111111111111111,\"#46039f\"],[0.2222222222222222,\"#7201a8\"],[0.3333333333333333,\"#9c179e\"],[0.4444444444444444,\"#bd3786\"],[0.5555555555555556,\"#d8576b\"],[0.6666666666666666,\"#ed7953\"],[0.7777777777777778,\"#fb9f3a\"],[0.8888888888888888,\"#fdca26\"],[1.0,\"#f0f921\"]],\"type\":\"histogram2d\"}],\"histogram\":[{\"marker\":{\"pattern\":{\"fillmode\":\"overlay\",\"size\":10,\"solidity\":0.2}},\"type\":\"histogram\"}],\"mesh3d\":[{\"colorbar\":{\"outlinewidth\":0,\"ticks\":\"\"},\"type\":\"mesh3d\"}],\"parcoords\":[{\"line\":{\"colorbar\":{\"outlinewidth\":0,\"ticks\":\"\"}},\"type\":\"parcoords\"}],\"pie\":[{\"automargin\":true,\"type\":\"pie\"}],\"scatter3d\":[{\"line\":{\"colorbar\":{\"outlinewidth\":0,\"ticks\":\"\"}},\"marker\":{\"colorbar\":{\"outlinewidth\":0,\"ticks\":\"\"}},\"type\":\"scatter3d\"}],\"scattercarpet\":[{\"marker\":{\"colorbar\":{\"outlinewidth\":0,\"ticks\":\"\"}},\"type\":\"scattercarpet\"}],\"scattergeo\":[{\"marker\":{\"colorbar\":{\"outlinewidth\":0,\"ticks\":\"\"}},\"type\":\"scattergeo\"}],\"scattergl\":[{\"marker\":{\"colorbar\":{\"outlinewidth\":0,\"ticks\":\"\"}},\"type\":\"scattergl\"}],\"scattermapbox\":[{\"marker\":{\"colorbar\":{\"outlinewidth\":0,\"ticks\":\"\"}},\"type\":\"scattermapbox\"}],\"scatterpolargl\":[{\"marker\":{\"colorbar\":{\"outlinewidth\":0,\"ticks\":\"\"}},\"type\":\"scatterpolargl\"}],\"scatterpolar\":[{\"marker\":{\"colorbar\":{\"outlinewidth\":0,\"ticks\":\"\"}},\"type\":\"scatterpolar\"}],\"scatter\":[{\"fillpattern\":{\"fillmode\":\"overlay\",\"size\":10,\"solidity\":0.2},\"type\":\"scatter\"}],\"scatterternary\":[{\"marker\":{\"colorbar\":{\"outlinewidth\":0,\"ticks\":\"\"}},\"type\":\"scatterternary\"}],\"surface\":[{\"colorbar\":{\"outlinewidth\":0,\"ticks\":\"\"},\"colorscale\":[[0.0,\"#0d0887\"],[0.1111111111111111,\"#46039f\"],[0.2222222222222222,\"#7201a8\"],[0.3333333333333333,\"#9c179e\"],[0.4444444444444444,\"#bd3786\"],[0.5555555555555556,\"#d8576b\"],[0.6666666666666666,\"#ed7953\"],[0.7777777777777778,\"#fb9f3a\"],[0.8888888888888888,\"#fdca26\"],[1.0,\"#f0f921\"]],\"type\":\"surface\"}],\"table\":[{\"cells\":{\"fill\":{\"color\":\"#EBF0F8\"},\"line\":{\"color\":\"white\"}},\"header\":{\"fill\":{\"color\":\"#C8D4E3\"},\"line\":{\"color\":\"white\"}},\"type\":\"table\"}]},\"layout\":{\"annotationdefaults\":{\"arrowcolor\":\"#2a3f5f\",\"arrowhead\":0,\"arrowwidth\":1},\"autotypenumbers\":\"strict\",\"coloraxis\":{\"colorbar\":{\"outlinewidth\":0,\"ticks\":\"\"}},\"colorscale\":{\"diverging\":[[0,\"#8e0152\"],[0.1,\"#c51b7d\"],[0.2,\"#de77ae\"],[0.3,\"#f1b6da\"],[0.4,\"#fde0ef\"],[0.5,\"#f7f7f7\"],[0.6,\"#e6f5d0\"],[0.7,\"#b8e186\"],[0.8,\"#7fbc41\"],[0.9,\"#4d9221\"],[1,\"#276419\"]],\"sequential\":[[0.0,\"#0d0887\"],[0.1111111111111111,\"#46039f\"],[0.2222222222222222,\"#7201a8\"],[0.3333333333333333,\"#9c179e\"],[0.4444444444444444,\"#bd3786\"],[0.5555555555555556,\"#d8576b\"],[0.6666666666666666,\"#ed7953\"],[0.7777777777777778,\"#fb9f3a\"],[0.8888888888888888,\"#fdca26\"],[1.0,\"#f0f921\"]],\"sequentialminus\":[[0.0,\"#0d0887\"],[0.1111111111111111,\"#46039f\"],[0.2222222222222222,\"#7201a8\"],[0.3333333333333333,\"#9c179e\"],[0.4444444444444444,\"#bd3786\"],[0.5555555555555556,\"#d8576b\"],[0.6666666666666666,\"#ed7953\"],[0.7777777777777778,\"#fb9f3a\"],[0.8888888888888888,\"#fdca26\"],[1.0,\"#f0f921\"]]},\"colorway\":[\"#636efa\",\"#EF553B\",\"#00cc96\",\"#ab63fa\",\"#FFA15A\",\"#19d3f3\",\"#FF6692\",\"#B6E880\",\"#FF97FF\",\"#FECB52\"],\"font\":{\"color\":\"#2a3f5f\"},\"geo\":{\"bgcolor\":\"white\",\"lakecolor\":\"white\",\"landcolor\":\"#E5ECF6\",\"showlakes\":true,\"showland\":true,\"subunitcolor\":\"white\"},\"hoverlabel\":{\"align\":\"left\"},\"hovermode\":\"closest\",\"mapbox\":{\"style\":\"light\"},\"paper_bgcolor\":\"white\",\"plot_bgcolor\":\"#E5ECF6\",\"polar\":{\"angularaxis\":{\"gridcolor\":\"white\",\"linecolor\":\"white\",\"ticks\":\"\"},\"bgcolor\":\"#E5ECF6\",\"radialaxis\":{\"gridcolor\":\"white\",\"linecolor\":\"white\",\"ticks\":\"\"}},\"scene\":{\"xaxis\":{\"backgroundcolor\":\"#E5ECF6\",\"gridcolor\":\"white\",\"gridwidth\":2,\"linecolor\":\"white\",\"showbackground\":true,\"ticks\":\"\",\"zerolinecolor\":\"white\"},\"yaxis\":{\"backgroundcolor\":\"#E5ECF6\",\"gridcolor\":\"white\",\"gridwidth\":2,\"linecolor\":\"white\",\"showbackground\":true,\"ticks\":\"\",\"zerolinecolor\":\"white\"},\"zaxis\":{\"backgroundcolor\":\"#E5ECF6\",\"gridcolor\":\"white\",\"gridwidth\":2,\"linecolor\":\"white\",\"showbackground\":true,\"ticks\":\"\",\"zerolinecolor\":\"white\"}},\"shapedefaults\":{\"line\":{\"color\":\"#2a3f5f\"}},\"ternary\":{\"aaxis\":{\"gridcolor\":\"white\",\"linecolor\":\"white\",\"ticks\":\"\"},\"baxis\":{\"gridcolor\":\"white\",\"linecolor\":\"white\",\"ticks\":\"\"},\"bgcolor\":\"#E5ECF6\",\"caxis\":{\"gridcolor\":\"white\",\"linecolor\":\"white\",\"ticks\":\"\"}},\"title\":{\"x\":0.05},\"xaxis\":{\"automargin\":true,\"gridcolor\":\"white\",\"linecolor\":\"white\",\"ticks\":\"\",\"title\":{\"standoff\":15},\"zerolinecolor\":\"white\",\"zerolinewidth\":2},\"yaxis\":{\"automargin\":true,\"gridcolor\":\"white\",\"linecolor\":\"white\",\"ticks\":\"\",\"title\":{\"standoff\":15},\"zerolinecolor\":\"white\",\"zerolinewidth\":2}}},\"title\":{\"text\":\"Credit Card Transactions Time Density Plot\"},\"xaxis\":{\"anchor\":\"y2\",\"domain\":[0.0,1.0],\"title\":{\"text\":\"Time [s]\"},\"zeroline\":false},\"yaxis\":{\"anchor\":\"free\",\"domain\":[0.0,1],\"position\":0.0}},                        {\"responsive\": true}                    ).then(function(){\n",
       "                            \n",
       "var gd = document.getElementById('abe03022-6fa0-4e7e-81f3-69093c4120f0');\n",
       "var x = new MutationObserver(function (mutations, observer) {{\n",
       "        var display = window.getComputedStyle(gd).display;\n",
       "        if (!display || display === 'none') {{\n",
       "            console.log([gd, 'removed!']);\n",
       "            Plotly.purge(gd);\n",
       "            observer.disconnect();\n",
       "        }}\n",
       "}});\n",
       "\n",
       "// Listen for the removal of the full notebook cells\n",
       "var notebookContainer = gd.closest('#notebook-container');\n",
       "if (notebookContainer) {{\n",
       "    x.observe(notebookContainer, {childList: true});\n",
       "}}\n",
       "\n",
       "// Listen for the clearing of the current output cell\n",
       "var outputEl = gd.closest('.output');\n",
       "if (outputEl) {{\n",
       "    x.observe(outputEl, {childList: true});\n",
       "}}\n",
       "\n",
       "                        })                };                });            </script>        </div>"
      ]
     },
     "metadata": {},
     "output_type": "display_data"
    }
   ],
   "source": [
    "class_0 = data_df.loc[data_df['Class'] == 0][\"Time\"]\n",
    "class_1 = data_df.loc[data_df['Class'] == 1][\"Time\"]\n",
    "\n",
    "hist_data = [class_0, class_1]\n",
    "group_labels = ['Not Fraud', 'Fraud']\n",
    "\n",
    "fig = ff.create_distplot(hist_data, group_labels, show_hist=False, show_rug=False)\n",
    "fig['layout'].update(title='Credit Card Transactions Time Density Plot', xaxis=dict(title='Time [s]'))\n",
    "iplot(fig, filename='dist_only')"
   ]
  },
  {
   "cell_type": "markdown",
   "id": "9bb766dd",
   "metadata": {
    "papermill": {
     "duration": 0.021547,
     "end_time": "2024-10-05T02:20:40.989460",
     "exception": false,
     "start_time": "2024-10-05T02:20:40.967913",
     "status": "completed"
    },
    "tags": []
   },
   "source": [
    "Fraudulent transactions have a distribution more even than valid transactions - are equaly distributed in time, including the low real transaction times, during night in Europe timezone."
   ]
  },
  {
   "cell_type": "code",
   "execution_count": 9,
   "id": "79618769",
   "metadata": {
    "execution": {
     "iopub.execute_input": "2024-10-05T02:20:41.034678Z",
     "iopub.status.busy": "2024-10-05T02:20:41.034272Z",
     "iopub.status.idle": "2024-10-05T02:20:41.475583Z",
     "shell.execute_reply": "2024-10-05T02:20:41.474479Z"
    },
    "papermill": {
     "duration": 0.466724,
     "end_time": "2024-10-05T02:20:41.477837",
     "exception": false,
     "start_time": "2024-10-05T02:20:41.011113",
     "status": "completed"
    },
    "tags": []
   },
   "outputs": [
    {
     "data": {
      "text/html": [
       "<div>\n",
       "<style scoped>\n",
       "    .dataframe tbody tr th:only-of-type {\n",
       "        vertical-align: middle;\n",
       "    }\n",
       "\n",
       "    .dataframe tbody tr th {\n",
       "        vertical-align: top;\n",
       "    }\n",
       "\n",
       "    .dataframe thead th {\n",
       "        text-align: right;\n",
       "    }\n",
       "</style>\n",
       "<table border=\"1\" class=\"dataframe\">\n",
       "  <thead>\n",
       "    <tr style=\"text-align: right;\">\n",
       "      <th></th>\n",
       "      <th>Hour</th>\n",
       "      <th>Class</th>\n",
       "      <th>Min</th>\n",
       "      <th>Max</th>\n",
       "      <th>Transactions</th>\n",
       "      <th>Sum</th>\n",
       "      <th>Mean</th>\n",
       "      <th>Median</th>\n",
       "      <th>Var</th>\n",
       "    </tr>\n",
       "  </thead>\n",
       "  <tbody>\n",
       "    <tr>\n",
       "      <th>0</th>\n",
       "      <td>0.0</td>\n",
       "      <td>0</td>\n",
       "      <td>0.0</td>\n",
       "      <td>7712.43</td>\n",
       "      <td>3961</td>\n",
       "      <td>256572.87</td>\n",
       "      <td>64.774772</td>\n",
       "      <td>12.990</td>\n",
       "      <td>45615.821201</td>\n",
       "    </tr>\n",
       "    <tr>\n",
       "      <th>1</th>\n",
       "      <td>0.0</td>\n",
       "      <td>1</td>\n",
       "      <td>0.0</td>\n",
       "      <td>529.00</td>\n",
       "      <td>2</td>\n",
       "      <td>529.00</td>\n",
       "      <td>264.500000</td>\n",
       "      <td>264.500</td>\n",
       "      <td>139920.500000</td>\n",
       "    </tr>\n",
       "    <tr>\n",
       "      <th>2</th>\n",
       "      <td>1.0</td>\n",
       "      <td>0</td>\n",
       "      <td>0.0</td>\n",
       "      <td>1769.69</td>\n",
       "      <td>2215</td>\n",
       "      <td>145806.76</td>\n",
       "      <td>65.826980</td>\n",
       "      <td>22.820</td>\n",
       "      <td>20053.615770</td>\n",
       "    </tr>\n",
       "    <tr>\n",
       "      <th>3</th>\n",
       "      <td>1.0</td>\n",
       "      <td>1</td>\n",
       "      <td>59.0</td>\n",
       "      <td>239.93</td>\n",
       "      <td>2</td>\n",
       "      <td>298.93</td>\n",
       "      <td>149.465000</td>\n",
       "      <td>149.465</td>\n",
       "      <td>16367.832450</td>\n",
       "    </tr>\n",
       "    <tr>\n",
       "      <th>4</th>\n",
       "      <td>2.0</td>\n",
       "      <td>0</td>\n",
       "      <td>0.0</td>\n",
       "      <td>4002.88</td>\n",
       "      <td>1555</td>\n",
       "      <td>106989.39</td>\n",
       "      <td>68.803466</td>\n",
       "      <td>17.900</td>\n",
       "      <td>45355.430437</td>\n",
       "    </tr>\n",
       "  </tbody>\n",
       "</table>\n",
       "</div>"
      ],
      "text/plain": [
       "   Hour  Class   Min      Max  Transactions        Sum        Mean   Median  \\\n",
       "0   0.0      0   0.0  7712.43          3961  256572.87   64.774772   12.990   \n",
       "1   0.0      1   0.0   529.00             2     529.00  264.500000  264.500   \n",
       "2   1.0      0   0.0  1769.69          2215  145806.76   65.826980   22.820   \n",
       "3   1.0      1  59.0   239.93             2     298.93  149.465000  149.465   \n",
       "4   2.0      0   0.0  4002.88          1555  106989.39   68.803466   17.900   \n",
       "\n",
       "             Var  \n",
       "0   45615.821201  \n",
       "1  139920.500000  \n",
       "2   20053.615770  \n",
       "3   16367.832450  \n",
       "4   45355.430437  "
      ]
     },
     "execution_count": 9,
     "metadata": {},
     "output_type": "execute_result"
    }
   ],
   "source": [
    "data_df['Hour'] = data_df['Time'].apply(lambda x: np.floor(x / 3600))\n",
    "\n",
    "tmp = data_df.groupby(['Hour', 'Class'])['Amount'].aggregate(['min', 'max', 'count', 'sum', 'mean', 'median', 'var']).reset_index()\n",
    "df = pd.DataFrame(tmp)\n",
    "df.columns = ['Hour', 'Class', 'Min', 'Max', 'Transactions', 'Sum', 'Mean', 'Median', 'Var']\n",
    "df.head()"
   ]
  },
  {
   "cell_type": "code",
   "execution_count": 10,
   "id": "62d1125e",
   "metadata": {
    "execution": {
     "iopub.execute_input": "2024-10-05T02:20:41.523708Z",
     "iopub.status.busy": "2024-10-05T02:20:41.523292Z",
     "iopub.status.idle": "2024-10-05T02:20:41.528275Z",
     "shell.execute_reply": "2024-10-05T02:20:41.527228Z"
    },
    "papermill": {
     "duration": 0.030636,
     "end_time": "2024-10-05T02:20:41.530610",
     "exception": false,
     "start_time": "2024-10-05T02:20:41.499974",
     "status": "completed"
    },
    "tags": []
   },
   "outputs": [],
   "source": [
    "import warnings\n",
    "\n",
    "warnings.filterwarnings(\"ignore\")"
   ]
  },
  {
   "cell_type": "code",
   "execution_count": 11,
   "id": "931bf8e2",
   "metadata": {
    "execution": {
     "iopub.execute_input": "2024-10-05T02:20:41.578014Z",
     "iopub.status.busy": "2024-10-05T02:20:41.577617Z",
     "iopub.status.idle": "2024-10-05T02:20:42.040517Z",
     "shell.execute_reply": "2024-10-05T02:20:42.039242Z"
    },
    "papermill": {
     "duration": 0.489779,
     "end_time": "2024-10-05T02:20:42.042960",
     "exception": false,
     "start_time": "2024-10-05T02:20:41.553181",
     "status": "completed"
    },
    "tags": []
   },
   "outputs": [
    {
     "data": {
      "image/png": "[encoded data removed]",
      "text/plain": [
       "<Figure size 1800x600 with 2 Axes>"
      ]
     },
     "metadata": {},
     "output_type": "display_data"
    }
   ],
   "source": [
    "fig, (ax1, ax2) = plt.subplots(ncols=2, figsize=(18,6))\n",
    "s = sns.lineplot(ax = ax1, x=\"Hour\", y=\"Sum\", data=df.loc[df.Class==0])\n",
    "s = sns.lineplot(ax = ax2, x=\"Hour\", y=\"Sum\", data=df.loc[df.Class==1], color=\"red\")\n",
    "plt.suptitle(\"Total Amount\")\n",
    "plt.show();"
   ]
  },
  {
   "cell_type": "code",
   "execution_count": null,
   "id": "45a7ff8b",
   "metadata": {
    "papermill": {
     "duration": 0.022988,
     "end_time": "2024-10-05T02:20:42.089433",
     "exception": false,
     "start_time": "2024-10-05T02:20:42.066445",
     "status": "completed"
    },
    "tags": []
   },
   "outputs": [],
   "source": []
  }
 ],
 "metadata": {
  "kaggle": {
   "accelerator": "none",
   "dataSources": [
    {
     "datasetId": 310,
     "sourceId": 23498,
     "sourceType": "datasetVersion"
    }
   ],
   "isGpuEnabled": false,
   "isInternetEnabled": true,
   "language": "python",
   "sourceType": "notebook"
  },
  "kernelspec": {
   "display_name": "Python 3",
   "language": "python",
   "name": "python3"
  },
  "language_info": {
   "codemirror_mode": {
    "name": "ipython",
    "version": 3
   },
   "file_extension": ".py",
   "mimetype": "text/x-python",
   "name": "python",
   "nbconvert_exporter": "python",
   "pygments_lexer": "ipython3",
   "version": "3.10.14"
  },
  "papermill": {
   "default_parameters": {},
   "duration": 19.912925,
   "end_time": "2024-10-05T02:20:43.136978",
   "environment_variables": {},
   "exception": null,
   "input_path": "__notebook__.ipynb",
   "output_path": "__notebook__.ipynb",
   "parameters": {},
   "start_time": "2024-10-05T02:20:23.224053",
   "version": "2.6.0"
  }
 },
 "nbformat": 4,
 "nbformat_minor": 5
}
