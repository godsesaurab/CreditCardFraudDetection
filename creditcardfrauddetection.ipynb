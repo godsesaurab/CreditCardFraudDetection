{
 "cells": [
  {
   "cell_type": "code",
   "execution_count": 1,
   "id": "da2d723a",
   "metadata": {
    "execution": {
     "iopub.execute_input": "2024-10-05T01:40:17.820433Z",
     "iopub.status.busy": "2024-10-05T01:40:17.819871Z",
     "iopub.status.idle": "2024-10-05T01:40:20.653142Z",
     "shell.execute_reply": "2024-10-05T01:40:20.651952Z"
    },
    "papermill": {
     "duration": 2.843774,
     "end_time": "2024-10-05T01:40:20.656272",
     "exception": false,
     "start_time": "2024-10-05T01:40:17.812498",
     "status": "completed"
    },
    "tags": []
   },
   "outputs": [],
   "source": [
    "import pandas as pd\n",
    "import numpy as np\n",
    "from sklearn.model_selection import train_test_split\n",
    "from sklearn.preprocessing import StandardScaler\n",
    "from sklearn.ensemble import RandomForestClassifier\n",
    "from sklearn.metrics import accuracy_score, precision_score, recall_score, f1_score\n"
   ]
  },
  {
   "cell_type": "code",
   "execution_count": 2,
   "id": "8ab9b278",
   "metadata": {
    "execution": {
     "iopub.execute_input": "2024-10-05T01:40:20.667479Z",
     "iopub.status.busy": "2024-10-05T01:40:20.666884Z",
     "iopub.status.idle": "2024-10-05T01:40:25.094486Z",
     "shell.execute_reply": "2024-10-05T01:40:25.093258Z"
    },
    "papermill": {
     "duration": 4.436538,
     "end_time": "2024-10-05T01:40:25.097612",
     "exception": false,
     "start_time": "2024-10-05T01:40:20.661074",
     "status": "completed"
    },
    "tags": []
   },
   "outputs": [],
   "source": [
    "\n",
    "# Load historical credit card transaction data\n",
    "data = pd.read_csv(\"/kaggle/input/creditcardfraud/creditcard.csv\")\n",
    "\n"
   ]
  },
  {
   "cell_type": "code",
   "execution_count": 3,
   "id": "820e3ade",
   "metadata": {
    "execution": {
     "iopub.execute_input": "2024-10-05T01:40:25.108371Z",
     "iopub.status.busy": "2024-10-05T01:40:25.107921Z",
     "iopub.status.idle": "2024-10-05T01:40:25.155870Z",
     "shell.execute_reply": "2024-10-05T01:40:25.154387Z"
    },
    "papermill": {
     "duration": 0.056585,
     "end_time": "2024-10-05T01:40:25.158644",
     "exception": false,
     "start_time": "2024-10-05T01:40:25.102059",
     "status": "completed"
    },
    "tags": []
   },
   "outputs": [],
   "source": [
    "# Preprocess data\n",
    "X = data.drop(\"Class\", axis=1)\n",
    "y = data[\"Class\"]\n",
    "\n"
   ]
  },
  {
   "cell_type": "code",
   "execution_count": 4,
   "id": "2234895d",
   "metadata": {
    "execution": {
     "iopub.execute_input": "2024-10-05T01:40:25.168993Z",
     "iopub.status.busy": "2024-10-05T01:40:25.168532Z",
     "iopub.status.idle": "2024-10-05T01:40:25.268187Z",
     "shell.execute_reply": "2024-10-05T01:40:25.267189Z"
    },
    "papermill": {
     "duration": 0.108014,
     "end_time": "2024-10-05T01:40:25.271000",
     "exception": false,
     "start_time": "2024-10-05T01:40:25.162986",
     "status": "completed"
    },
    "tags": []
   },
   "outputs": [],
   "source": [
    "# Split data into training and testing sets\n",
    "X_train, X_test, y_train, y_test = train_test_split(X, y, test_size=0.2, random_state=42)\n",
    "\n"
   ]
  },
  {
   "cell_type": "code",
   "execution_count": 5,
   "id": "44a34915",
   "metadata": {
    "execution": {
     "iopub.execute_input": "2024-10-05T01:40:25.281629Z",
     "iopub.status.busy": "2024-10-05T01:40:25.281178Z",
     "iopub.status.idle": "2024-10-05T01:40:25.406728Z",
     "shell.execute_reply": "2024-10-05T01:40:25.405384Z"
    },
    "papermill": {
     "duration": 0.134197,
     "end_time": "2024-10-05T01:40:25.409522",
     "exception": false,
     "start_time": "2024-10-05T01:40:25.275325",
     "status": "completed"
    },
    "tags": []
   },
   "outputs": [],
   "source": [
    "# Standardize numerical features\n",
    "scaler = StandardScaler()\n",
    "X_train_scaled = scaler.fit_transform(X_train)\n",
    "X_test_scaled = scaler.transform(X_test)\n",
    "\n"
   ]
  },
  {
   "cell_type": "code",
   "execution_count": 6,
   "id": "3e306136",
   "metadata": {
    "execution": {
     "iopub.execute_input": "2024-10-05T01:40:25.420210Z",
     "iopub.status.busy": "2024-10-05T01:40:25.419778Z",
     "iopub.status.idle": "2024-10-05T01:45:24.077466Z",
     "shell.execute_reply": "2024-10-05T01:45:24.076309Z"
    },
    "papermill": {
     "duration": 298.670316,
     "end_time": "2024-10-05T01:45:24.084291",
     "exception": false,
     "start_time": "2024-10-05T01:40:25.413975",
     "status": "completed"
    },
    "tags": []
   },
   "outputs": [
    {
     "data": {
      "text/html": [
       "<style>#sk-container-id-1 {color: black;background-color: white;}#sk-container-id-1 pre{padding: 0;}#sk-container-id-1 div.sk-toggleable {background-color: white;}#sk-container-id-1 label.sk-toggleable__label {cursor: pointer;display: block;width: 100%;margin-bottom: 0;padding: 0.3em;box-sizing: border-box;text-align: center;}#sk-container-id-1 label.sk-toggleable__label-arrow:before {content: \"▸\";float: left;margin-right: 0.25em;color: #696969;}#sk-container-id-1 label.sk-toggleable__label-arrow:hover:before {color: black;}#sk-container-id-1 div.sk-estimator:hover label.sk-toggleable__label-arrow:before {color: black;}#sk-container-id-1 div.sk-toggleable__content {max-height: 0;max-width: 0;overflow: hidden;text-align: left;background-color: #f0f8ff;}#sk-container-id-1 div.sk-toggleable__content pre {margin: 0.2em;color: black;border-radius: 0.25em;background-color: #f0f8ff;}#sk-container-id-1 input.sk-toggleable__control:checked~div.sk-toggleable__content {max-height: 200px;max-width: 100%;overflow: auto;}#sk-container-id-1 input.sk-toggleable__control:checked~label.sk-toggleable__label-arrow:before {content: \"▾\";}#sk-container-id-1 div.sk-estimator input.sk-toggleable__control:checked~label.sk-toggleable__label {background-color: #d4ebff;}#sk-container-id-1 div.sk-label input.sk-toggleable__control:checked~label.sk-toggleable__label {background-color: #d4ebff;}#sk-container-id-1 input.sk-hidden--visually {border: 0;clip: rect(1px 1px 1px 1px);clip: rect(1px, 1px, 1px, 1px);height: 1px;margin: -1px;overflow: hidden;padding: 0;position: absolute;width: 1px;}#sk-container-id-1 div.sk-estimator {font-family: monospace;background-color: #f0f8ff;border: 1px dotted black;border-radius: 0.25em;box-sizing: border-box;margin-bottom: 0.5em;}#sk-container-id-1 div.sk-estimator:hover {background-color: #d4ebff;}#sk-container-id-1 div.sk-parallel-item::after {content: \"\";width: 100%;border-bottom: 1px solid gray;flex-grow: 1;}#sk-container-id-1 div.sk-label:hover label.sk-toggleable__label {background-color: #d4ebff;}#sk-container-id-1 div.sk-serial::before {content: \"\";position: absolute;border-left: 1px solid gray;box-sizing: border-box;top: 0;bottom: 0;left: 50%;z-index: 0;}#sk-container-id-1 div.sk-serial {display: flex;flex-direction: column;align-items: center;background-color: white;padding-right: 0.2em;padding-left: 0.2em;position: relative;}#sk-container-id-1 div.sk-item {position: relative;z-index: 1;}#sk-container-id-1 div.sk-parallel {display: flex;align-items: stretch;justify-content: center;background-color: white;position: relative;}#sk-container-id-1 div.sk-item::before, #sk-container-id-1 div.sk-parallel-item::before {content: \"\";position: absolute;border-left: 1px solid gray;box-sizing: border-box;top: 0;bottom: 0;left: 50%;z-index: -1;}#sk-container-id-1 div.sk-parallel-item {display: flex;flex-direction: column;z-index: 1;position: relative;background-color: white;}#sk-container-id-1 div.sk-parallel-item:first-child::after {align-self: flex-end;width: 50%;}#sk-container-id-1 div.sk-parallel-item:last-child::after {align-self: flex-start;width: 50%;}#sk-container-id-1 div.sk-parallel-item:only-child::after {width: 0;}#sk-container-id-1 div.sk-dashed-wrapped {border: 1px dashed gray;margin: 0 0.4em 0.5em 0.4em;box-sizing: border-box;padding-bottom: 0.4em;background-color: white;}#sk-container-id-1 div.sk-label label {font-family: monospace;font-weight: bold;display: inline-block;line-height: 1.2em;}#sk-container-id-1 div.sk-label-container {text-align: center;}#sk-container-id-1 div.sk-container {/* jupyter's `normalize.less` sets `[hidden] { display: none; }` but bootstrap.min.css set `[hidden] { display: none !important; }` so we also need the `!important` here to be able to override the default hidden behavior on the sphinx rendered scikit-learn.org. See: https://github.com/scikit-learn/scikit-learn/issues/21755 */display: inline-block !important;position: relative;}#sk-container-id-1 div.sk-text-repr-fallback {display: none;}</style><div id=\"sk-container-id-1\" class=\"sk-top-container\"><div class=\"sk-text-repr-fallback\"><pre>RandomForestClassifier(random_state=42)</pre><b>In a Jupyter environment, please rerun this cell to show the HTML representation or trust the notebook. <br />On GitHub, the HTML representation is unable to render, please try loading this page with nbviewer.org.</b></div><div class=\"sk-container\" hidden><div class=\"sk-item\"><div class=\"sk-estimator sk-toggleable\"><input class=\"sk-toggleable__control sk-hidden--visually\" id=\"sk-estimator-id-1\" type=\"checkbox\" checked><label for=\"sk-estimator-id-1\" class=\"sk-toggleable__label sk-toggleable__label-arrow\">RandomForestClassifier</label><div class=\"sk-toggleable__content\"><pre>RandomForestClassifier(random_state=42)</pre></div></div></div></div></div>"
      ],
      "text/plain": [
       "RandomForestClassifier(random_state=42)"
      ]
     },
     "execution_count": 6,
     "metadata": {},
     "output_type": "execute_result"
    }
   ],
   "source": [
    "# Train Random Forest classifier\n",
    "model = RandomForestClassifier(n_estimators=100, random_state=42)\n",
    "model.fit(X_train_scaled, y_train)\n",
    "\n"
   ]
  },
  {
   "cell_type": "code",
   "execution_count": 7,
   "id": "1bb3d271",
   "metadata": {
    "execution": {
     "iopub.execute_input": "2024-10-05T01:45:24.095518Z",
     "iopub.status.busy": "2024-10-05T01:45:24.095077Z",
     "iopub.status.idle": "2024-10-05T01:45:24.737813Z",
     "shell.execute_reply": "2024-10-05T01:45:24.736653Z"
    },
    "papermill": {
     "duration": 0.651694,
     "end_time": "2024-10-05T01:45:24.740765",
     "exception": false,
     "start_time": "2024-10-05T01:45:24.089071",
     "status": "completed"
    },
    "tags": []
   },
   "outputs": [],
   "source": [
    "# Make predictions on test set\n",
    "y_pred = model.predict(X_test_scaled)\n",
    "\n"
   ]
  },
  {
   "cell_type": "code",
   "execution_count": 8,
   "id": "89a04824",
   "metadata": {
    "execution": {
     "iopub.execute_input": "2024-10-05T01:45:24.751517Z",
     "iopub.status.busy": "2024-10-05T01:45:24.751096Z",
     "iopub.status.idle": "2024-10-05T01:45:24.818641Z",
     "shell.execute_reply": "2024-10-05T01:45:24.817324Z"
    },
    "papermill": {
     "duration": 0.076459,
     "end_time": "2024-10-05T01:45:24.821795",
     "exception": false,
     "start_time": "2024-10-05T01:45:24.745336",
     "status": "completed"
    },
    "tags": []
   },
   "outputs": [],
   "source": [
    "# Evaluate model performance\n",
    "accuracy = accuracy_score(y_test, y_pred)\n",
    "precision = precision_score(y_test, y_pred)\n",
    "recall = recall_score(y_test, y_pred)\n",
    "f1 = f1_score(y_test, y_pred)\n",
    "\n"
   ]
  },
  {
   "cell_type": "code",
   "execution_count": 9,
   "id": "712f57ed",
   "metadata": {
    "execution": {
     "iopub.execute_input": "2024-10-05T01:45:24.832518Z",
     "iopub.status.busy": "2024-10-05T01:45:24.832099Z",
     "iopub.status.idle": "2024-10-05T01:45:24.838901Z",
     "shell.execute_reply": "2024-10-05T01:45:24.837617Z"
    },
    "papermill": {
     "duration": 0.01489,
     "end_time": "2024-10-05T01:45:24.841291",
     "exception": false,
     "start_time": "2024-10-05T01:45:24.826401",
     "status": "completed"
    },
    "tags": []
   },
   "outputs": [
    {
     "name": "stdout",
     "output_type": "stream",
     "text": [
      "Accuracy: 0.9995611109160493\n",
      "Precision: 0.974025974025974\n",
      "Recall: 0.7653061224489796\n",
      "F1-score: 0.8571428571428571\n"
     ]
    }
   ],
   "source": [
    "print(\"Accuracy:\", accuracy)\n",
    "print(\"Precision:\", precision)\n",
    "print(\"Recall:\", recall)\n",
    "print(\"F1-score:\", f1)\n",
    "\n"
   ]
  },
  {
   "cell_type": "code",
   "execution_count": null,
   "id": "15b79e6f",
   "metadata": {
    "papermill": {
     "duration": 0.004191,
     "end_time": "2024-10-05T01:45:24.850051",
     "exception": false,
     "start_time": "2024-10-05T01:45:24.845860",
     "status": "completed"
    },
    "tags": []
   },
   "outputs": [],
   "source": []
  }
 ],
 "metadata": {
  "kaggle": {
   "accelerator": "none",
   "dataSources": [
    {
     "datasetId": 310,
     "sourceId": 23498,
     "sourceType": "datasetVersion"
    }
   ],
   "dockerImageVersionId": 30761,
   "isGpuEnabled": false,
   "isInternetEnabled": true,
   "language": "python",
   "sourceType": "notebook"
  },
  "kernelspec": {
   "display_name": "Python 3",
   "language": "python",
   "name": "python3"
  },
  "language_info": {
   "codemirror_mode": {
    "name": "ipython",
    "version": 3
   },
   "file_extension": ".py",
   "mimetype": "text/x-python",
   "name": "python",
   "nbconvert_exporter": "python",
   "pygments_lexer": "ipython3",
   "version": "3.10.14"
  },
  "papermill": {
   "default_parameters": {},
   "duration": 310.758372,
   "end_time": "2024-10-05T01:45:25.476325",
   "environment_variables": {},
   "exception": null,
   "input_path": "__notebook__.ipynb",
   "output_path": "__notebook__.ipynb",
   "parameters": {},
   "start_time": "2024-10-05T01:40:14.717953",
   "version": "2.6.0"
  }
 },
 "nbformat": 4,
 "nbformat_minor": 5
}
